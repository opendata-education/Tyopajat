{
 "cells": [
  {
   "cell_type": "markdown",
   "id": "e3d8c5dd",
   "metadata": {},
   "source": [
    "# <u>Auringonpilkuista</u>"
   ]
  },
  {
   "cell_type": "markdown",
   "id": "cdb13d05",
   "metadata": {},
   "source": [
    "Belgialainen Solar Influences Data Analysis Center julkaisee WDC-SILSO -projektin kautta jatkuvasti päivittyvää aineistoa sivullaan [https://www.sidc.be/SILSO/datafiles](https://www.sidc.be/SILSO/datafiles).\n",
    "\n",
    "Aurinkoa voi myös tarkastella jatkuvien satelliittikuvien kautta HelioViewerissa: [https://gs671-suske.ndc.nasa.gov/](https://gs671-suske.ndc.nasa.gov/)."
   ]
  },
  {
   "cell_type": "markdown",
   "id": "4ca20968",
   "metadata": {},
   "source": [
    "## 1. Työkalut"
   ]
  },
  {
   "cell_type": "code",
   "execution_count": null,
   "id": "590b1de4",
   "metadata": {},
   "outputs": [],
   "source": [
    "# Aja tämä solu aina ensimmäisenä!\n",
    "\n",
    "import pandas as pd\n",
    "import numpy as np\n",
    "import matplotlib.pyplot as plt"
   ]
  },
  {
   "cell_type": "markdown",
   "id": "180a7465",
   "metadata": {},
   "source": [
    "## 2. Aineisto"
   ]
  },
  {
   "cell_type": "code",
   "execution_count": null,
   "id": "ba5ae5cd",
   "metadata": {},
   "outputs": [],
   "source": [
    "# Selitteet ja metadata https://www.sidc.be/SILSO/infosndhem\n",
    "\n",
    "data = pd.read_csv(\"https://www.sidc.be/SILSO/INFO/sndhemcsv.php\", header = None, sep = \";\",\n",
    "                  names = ['Vuosi', 'Kuukausi', 'Päivä', 'Fraktio', '$P_{tot}$', '$P_{poh}$', '$P_{et}$',\n",
    "                           '$\\sigma_{tot}$', '$\\sigma_{poh}$', '$\\sigma_{et}$', '$N_{tot}$', \n",
    "                          '$N_{poh}$', '$N_{et}$', 'Prov'])"
   ]
  },
  {
   "cell_type": "code",
   "execution_count": null,
   "id": "d7f92cab",
   "metadata": {},
   "outputs": [],
   "source": [
    "data"
   ]
  },
  {
   "cell_type": "markdown",
   "id": "67a2b5cf",
   "metadata": {},
   "source": [
    "## 3. Analyysi"
   ]
  },
  {
   "cell_type": "code",
   "execution_count": null,
   "id": "c2f00552",
   "metadata": {},
   "outputs": [],
   "source": [
    "# Saraketsikot näkyvät datan haussa, mutta eritellään ne vielä tähän.\n",
    "data.columns"
   ]
  },
  {
   "cell_type": "code",
   "execution_count": null,
   "id": "a2849033",
   "metadata": {
    "scrolled": true
   },
   "outputs": [],
   "source": [
    "# Valitse haluamasi sarake y-akseliksi\n",
    "\n",
    "ehto = \"$P_{tot}$\"\n",
    "\n",
    "# Asetetaan kuvaajan suhteet\n",
    "plt.figure(figsize = (20,5))\n",
    "\n",
    "# Piirretään käyrät\n",
    "plt.plot(data[\"Fraktio\"], data[ehto], c = \"y\", alpha = 0.5)\n",
    "plt.scatter(data[\"Fraktio\"], data[ehto], c = \"firebrick\")\n",
    "\n",
    "# Laitetaan selitteet paikoilleen\n",
    "plt.title(f\"Auringonpilkkujen päivittäinen määrä, {ehto} \\n\", fontsize = 20)\n",
    "plt.ylabel(\"Määrä (n)\", fontsize = 15)\n",
    "plt.xlabel(\"Aika (fraktio)\", fontsize = 15)\n",
    "\n",
    "plt.show()"
   ]
  },
  {
   "cell_type": "markdown",
   "id": "ddbcf45d",
   "metadata": {},
   "source": [
    "Eritellääs vähän eri auringonpuoliskojen välillä."
   ]
  },
  {
   "cell_type": "code",
   "execution_count": null,
   "id": "418bb074",
   "metadata": {},
   "outputs": [],
   "source": [
    "# Valitse haluamasi sarake y-akseliksi\n",
    "\n",
    "ehto1 = \"$P_{poh}$\"\n",
    "ehto2 = \"$P_{et}$\"\n",
    "\n",
    "# Asetetaan kuvaajan suhteet\n",
    "plt.figure(figsize = (20,5))\n",
    "\n",
    "# Piirretään käyrät\n",
    "plt.plot(data[\"Fraktio\"], data[ehto1], c = \"y\", alpha = 0.5)\n",
    "plt.scatter(data[\"Fraktio\"], data[ehto1], c = \"firebrick\", label = ehto1)\n",
    "\n",
    "plt.plot(data[\"Fraktio\"], data[ehto2], c = \"grey\", alpha = 0.5)\n",
    "plt.scatter(data[\"Fraktio\"], data[ehto2], c = \"slateblue\", label = ehto2)\n",
    "\n",
    "# Laitetaan selitteet paikoilleen\n",
    "plt.title(f\"Auringonpilkkujen päivittäinen määrä, {ehto1} ja {ehto2} \\n\", fontsize = 20)\n",
    "plt.ylabel(\"Määrä (n)\", fontsize = 15)\n",
    "plt.xlabel(\"Aika (fraktio)\", fontsize = 15)\n",
    "\n",
    "plt.legend(fontsize = 15)\n",
    "plt.show()"
   ]
  },
  {
   "cell_type": "markdown",
   "id": "3c8af11e",
   "metadata": {},
   "source": [
    "Näyttää vähän ahtaalta. Päivittäisten tietojen tuhansien pisteiden sijasta meidän olisi ehkä hyödyllistä jaotella materiaalia hieman ymmärrettävämpiin osasiin. Näitä voisivat olla esimerkiksi yhden vuoden havainnot, vuosien keskiarvot, kuukausittaiset arvot jne."
   ]
  },
  {
   "cell_type": "code",
   "execution_count": null,
   "id": "70530dad",
   "metadata": {},
   "outputs": [],
   "source": [
    "# Mittapisteitä on niin paljon, että eritellään aineistoa hieman. Otetaan yksi vuosi tarkasteluun.\n",
    "\n",
    "vuosi = 1998\n",
    "valinta = data.query(\"Vuosi == @vuosi\")\n",
    "\n",
    "plt.figure(figsize = (20,10))\n",
    "plt.scatter(valinta[\"Fraktio\"], valinta[\"$P_{tot}$\"])\n",
    "\n",
    "maksimi = valinta[\"$P_{tot}$\"].max()\n",
    "minimi = valinta[\"$P_{tot}$\"].min()\n",
    "\n",
    "tieto = f\"Vuoden korkein päiväarvo oli {maksimi} kappaletta ja matalin {minimi} kappaletta.\"\n",
    "\n",
    "plt.title(f\"Auringonpilkut vuonna {vuosi}. \\n {tieto}\", fontsize = 20)\n",
    "plt.ylabel(\"$P_{tot}$\", fontsize = 15)\n",
    "plt.xlabel(\"\\n Aika (fraktio)\", fontsize = 15)\n",
    "plt.show()"
   ]
  },
  {
   "cell_type": "code",
   "execution_count": null,
   "id": "50d91cee",
   "metadata": {},
   "outputs": [],
   "source": [
    "# Lisätään äskeiseen vielä sovite, jos sieltä vaikka löytyisi jonkinlainen kuvio.\n",
    "\n",
    "vuosi = 1998\n",
    "valinta = data.query(\"Vuosi == @vuosi\")\n",
    "vaaka = valinta[\"Fraktio\"].copy()\n",
    "\n",
    "plt.figure(figsize = (20,10))\n",
    "\n",
    "plt.plot(vaaka, valinta[\"$P_{tot}$\"], c = \"y\", alpha = 0.5)\n",
    "plt.scatter(vaaka, valinta[\"$P_{tot}$\"], c = \"firebrick\", label = \"$P_{tot}$\")\n",
    "\n",
    "# Trendi.\n",
    "x = np.arange(len(vaaka))\n",
    "y = valinta[\"$P_{tot}$\"].copy()\n",
    "\n",
    "# Tästä lukua vaihtamalla voi muuttaa sovitetun yhtälön astetta.\n",
    "z = np.polyfit(x, y, 3)\n",
    "p = np.poly1d(z)\n",
    "plt.plot(vaaka, p(x), c = \"black\", linestyle = \"dashed\", label = \"trendiviiva\", alpha = 0.7)\n",
    "\n",
    "maksimi = valinta[\"$P_{tot}$\"].max()\n",
    "minimi = valinta[\"$P_{tot}$\"].min()\n",
    "\n",
    "tieto = f\"Vuoden korkein päiväarvo oli {maksimi} kappaletta ja matalin {minimi} kappaletta.\"\n",
    "\n",
    "plt.title(f\"Auringonpilkut vuonna {vuosi}. \\n {tieto}\", fontsize = 20)\n",
    "plt.ylabel(\"$P_{tot}$\", fontsize = 15)\n",
    "plt.xlabel(\"\\n Aika (fraktio)\", fontsize = 15)\n",
    "plt.legend(fontsize = 15)\n",
    "plt.show()"
   ]
  },
  {
   "cell_type": "code",
   "execution_count": null,
   "id": "fff9de26",
   "metadata": {},
   "outputs": [],
   "source": [
    "# Saisitko samanlaisen leikkauksen esittämään valitun vuoden aineiston eri auringonpuoliskojen mukaan?\n",
    "# Koodaile tänne.\n",
    "\n",
    "\n"
   ]
  },
  {
   "cell_type": "markdown",
   "id": "6e0c534a",
   "metadata": {},
   "source": [
    "Mites vuosikeskiarvot?"
   ]
  },
  {
   "cell_type": "code",
   "execution_count": null,
   "id": "cb8be119",
   "metadata": {},
   "outputs": [],
   "source": [
    "ehto = \"Vuosi\"\n",
    "suure = \"$P_{tot}$\"\n",
    "\n",
    "KAV = data.groupby([ehto]).mean(numeric_only = True)\n",
    "vaaka = data[ehto].unique()\n",
    "\n",
    "plt.figure(figsize = (10, 5))\n",
    "\n",
    "plt.plot(vaaka, KAV[suure], c = \"y\", alpha = 0.5)\n",
    "plt.scatter(vaaka, KAV[suure], c = \"firebrick\")\n",
    "\n",
    "plt.title(f\"{suure}, vuosikeskiarvo\", fontsize = 20)\n",
    "plt.ylabel(\"Määrä (n)\", fontsize = 15)\n",
    "plt.xlabel(\"\\n Aika (fraktio)\", fontsize = 15)\n",
    "plt.show()"
   ]
  },
  {
   "cell_type": "markdown",
   "id": "91f71b12",
   "metadata": {},
   "source": [
    "Millaisella syklillä tilanne muuttuu?\n",
    "\n",
    "Onko auringonpuoliskoilla eroja?\n",
    "\n",
    "Minä vuonna on havaittu korkein yksittäinen havainto? Mikä päivä oli kyseessä?\n",
    "\n",
    "Aineistossa on mukana myös keskihajonta. Jos tekisit kuvaajan, jossa on mukana pidemmän ajan keskiarvo ja sitä ympäröivät hajontarajat, miten usein havainnot pomppivat sen ylitse?"
   ]
  },
  {
   "cell_type": "code",
   "execution_count": null,
   "id": "6b999b14",
   "metadata": {},
   "outputs": [],
   "source": [
    "# Koodaile tänne tai lisäile soluja oman tarpeesi mukaan!\n",
    "\n"
   ]
  },
  {
   "cell_type": "code",
   "execution_count": null,
   "id": "b473facf",
   "metadata": {},
   "outputs": [],
   "source": []
  },
  {
   "cell_type": "code",
   "execution_count": null,
   "id": "8e991423",
   "metadata": {},
   "outputs": [],
   "source": []
  },
  {
   "cell_type": "code",
   "execution_count": null,
   "id": "9b887fdc",
   "metadata": {},
   "outputs": [],
   "source": []
  }
 ],
 "metadata": {
  "kernelspec": {
   "display_name": "Python 3 (ipykernel)",
   "language": "python",
   "name": "python3"
  },
  "language_info": {
   "codemirror_mode": {
    "name": "ipython",
    "version": 3
   },
   "file_extension": ".py",
   "mimetype": "text/x-python",
   "name": "python",
   "nbconvert_exporter": "python",
   "pygments_lexer": "ipython3",
   "version": "3.11.5"
  }
 },
 "nbformat": 4,
 "nbformat_minor": 5
}
