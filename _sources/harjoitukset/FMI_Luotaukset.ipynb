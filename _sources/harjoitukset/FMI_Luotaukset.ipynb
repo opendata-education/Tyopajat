{
 "cells": [
  {
   "cell_type": "markdown",
   "metadata": {},
   "source": [
    "# ESIMERKKI: Ilmakehäluotaukset"
   ]
  },
  {
   "cell_type": "markdown",
   "metadata": {},
   "source": [
    "Ilmakehää tutkitaan jatkuvasti monipuolisilla koelaitteistoilla ympäri maapalloa. Tässä esimerkissä vilkaistaan millaista jatkuvasti päivittyvää aineistoa Ilmatieteen laitoksen havaintopalloilta saadaan näkyviin."
   ]
  },
  {
   "cell_type": "markdown",
   "metadata": {},
   "source": [
    "## 1. Aineisto"
   ]
  },
  {
   "cell_type": "code",
   "execution_count": null,
   "metadata": {
    "colab": {
     "base_uri": "https://localhost:8080/"
    },
    "id": "_vDmPdDhgjo1",
    "outputId": "3eae403d-ec95-45ae-ecaa-f43b0ac7d7b3"
   },
   "outputs": [],
   "source": [
    "# Asennetaan fmiopendata-paketti (https://github.com/pnuu/fmiopendata)\n",
    "!pip install fmiopendata\n",
    "from fmiopendata.wfs import download_stored_query\n",
    "\n",
    "# Ladataan luotaukset fmiopendata-paketin avulla\n",
    "snd = download_stored_query(\"fmi::observations::weather::sounding::multipointcoverage\")\n"
   ]
  },
  {
   "cell_type": "code",
   "execution_count": null,
   "metadata": {
    "id": "ltJCKPTLvrzl"
   },
   "outputs": [],
   "source": [
    "# Tuodaan tarvittavat työkalukirjastot\n",
    "\n",
    "import pandas as pd\n",
    "import matplotlib.pyplot as plt\n",
    "import numpy as np"
   ]
  },
  {
   "cell_type": "markdown",
   "metadata": {},
   "source": [
    "## 2. Kuvaajien teko"
   ]
  },
  {
   "cell_type": "code",
   "execution_count": null,
   "metadata": {
    "id": "mUgKd5tJgxYm"
   },
   "outputs": [],
   "source": [
    "# Otetaan ensimmäinen luotaus, joka löytyy listasta.\n",
    "\n",
    "sounding0 = snd.soundings[0]\n",
    "\n",
    "# Laitetaan paineet ja muut parametrit taulukoihin.\n",
    "\n",
    "paine0 = sounding0.pressures\n",
    "lampotila0 = sounding0.temperatures\n",
    "kastepiste0 = sounding0.dew_points\n",
    "alkuaika0 = sounding0.start_time\n",
    "loppuaika0 = sounding0.end_time\n",
    "nimi0 = sounding0.name\n",
    "aika0 = sounding0.nominal_time\n",
    "korkeus0 = sounding0.altitudes"
   ]
  },
  {
   "cell_type": "code",
   "execution_count": null,
   "metadata": {
    "colab": {
     "base_uri": "https://localhost:8080/"
    },
    "id": "dqaZewybMEVi",
    "outputId": "b72461c8-fb35-4a90-902f-ea05654adb05"
   },
   "outputs": [],
   "source": [
    "# Tarkistetaan nopeasti montako riviä havaintoja valitussa luotauksessa on.\n",
    "\n",
    "len(paine0)"
   ]
  },
  {
   "cell_type": "code",
   "execution_count": null,
   "metadata": {
    "colab": {
     "base_uri": "https://localhost:8080/",
     "height": 961
    },
    "id": "GPAHp3A7ifXY",
    "outputId": "04b9e3ec-dced-456d-ee90-a96c54f1cf20"
   },
   "outputs": [],
   "source": [
    "# Piirretään kuvaaja\n",
    "fig, ax = plt.subplots(figsize = (10, 10)) # Kuvaajan koko\n",
    "\n",
    "# Ensimmäinen käyrä\n",
    "color = \"blue\"\n",
    "ax.set_xlabel(\"Lämpötila (°C)\", fontsize = 15)\n",
    "ax.set_ylabel(\"Paine (hPa)\", c = color, fontsize = 15)\n",
    "ax.plot(lampotila0, paine0, label = \"Lämpötila\", c = color)         # Piirretään (T, p)\n",
    "ax.plot(kastepiste0, paine0, label = \"Kastepiste\", c = \"cyan\")       # Piirretään (Td, p)\n",
    "ax.tick_params(axis = \"y\", labelcolor = color)\n",
    "\n",
    "# Käännetään skaala ja luodaan toinen y-akseli (myös ax.set_ylim(alaraja, yläraja) toimii)\n",
    "ax.set_ylim(ax.get_ylim()[::-1])\n",
    "ax2 = ax.twinx() \n",
    "\n",
    "# Toinen käyrä\n",
    "color = \"red\"\n",
    "ax2.set_ylabel(\"Korkeus (m)\", c = color, fontsize = 15)\n",
    "ax2.plot(lampotila0, korkeus0, label = \"Korkeus\", c = color)\n",
    "ax2.tick_params(axis = \"y\", labelcolor = color)\n",
    "\n",
    "# Piirretään taustaristikko\n",
    "ax.set_axisbelow(True)\n",
    "ax.yaxis.grid(color = 'gray', linestyle = 'dashed')\n",
    "ax.xaxis.grid(color = 'gray', linestyle = 'dashed')\n",
    "\n",
    "# Nimetään kuvaaja: Paikkakunta muuttujasta, aika muuttujasta (päivämäärä ja kellonaika)\n",
    "ax.set_title(nimi0 + \" \" + aika0.strftime(\"%d.%m.%Y, %H:%M\") + \" UTC \\n\", fontsize = 20)\n",
    "\n",
    "# Piirretään selite\n",
    "plt.figlegend(bbox_to_anchor = (1.20, 0.5), fontsize = 15)\n",
    "\n",
    "plt.show()"
   ]
  },
  {
   "cell_type": "code",
   "execution_count": null,
   "metadata": {
    "id": "izNtbJ0RoGop"
   },
   "outputs": [],
   "source": [
    "# Otetaan toinen luotaus, joka löytyy listasta\n",
    "sounding1 = snd.soundings[1]\n",
    "\n",
    "# Laitetaan paineet ja muut parametrit taulukoihin\n",
    "paine1 = sounding1.pressures\n",
    "lampotila1 = sounding1.temperatures\n",
    "kastepiste1 = sounding1.dew_points\n",
    "alkuaika1 = sounding1.start_time\n",
    "loppuaika1 = sounding1.end_time\n",
    "nimi1 = sounding1.name\n",
    "aika1 = sounding1.nominal_time\n",
    "korkeus1 = sounding1.altitudes"
   ]
  },
  {
   "cell_type": "code",
   "execution_count": null,
   "metadata": {},
   "outputs": [],
   "source": [
    "# Tarkistetaan jälleen havaintojen määrä\n",
    "len(paine1)"
   ]
  },
  {
   "cell_type": "code",
   "execution_count": null,
   "metadata": {},
   "outputs": [],
   "source": [
    "# Piirretään kuvaaja\n",
    "fig, ax = plt.subplots(figsize = (10, 10)) # Kuvaajan koko\n",
    "\n",
    "# Ensimmäinen käyrä\n",
    "color = \"blue\"\n",
    "ax.set_xlabel(\"Lämpötila (°C)\", fontsize = 15)\n",
    "ax.set_ylabel(\"Paine (hPa)\", c = color, fontsize = 15)\n",
    "ax.plot(lampotila1, paine1, label = \"Lämpötila\", c = color)         # Piirretään (T, p)\n",
    "ax.plot(kastepiste1, paine1, label = \"Kastepiste\", c = \"cyan\")       # Piirretään (Td, p)\n",
    "ax.tick_params(axis = \"y\", labelcolor = color)\n",
    "\n",
    "# Käännetään skaala ja luodaan toinen y-akseli\n",
    "ax.set_ylim(ax.get_ylim()[::-1])\n",
    "ax2 = ax.twinx() \n",
    "\n",
    "# Toinen käyrä\n",
    "color = \"red\"\n",
    "ax2.set_ylabel(\"Korkeus (m)\", c = color, fontsize = 15)\n",
    "ax2.plot(lampotila1, korkeus1, label = \"Korkeus\", c = color)\n",
    "ax2.tick_params(axis = \"y\", labelcolor = color)\n",
    "\n",
    "# Piirretään taustaristikko\n",
    "ax.set_axisbelow(True)\n",
    "ax.yaxis.grid(color = 'gray', linestyle = 'dashed')\n",
    "ax.xaxis.grid(color = 'gray', linestyle = 'dashed')\n",
    "\n",
    "# Nimetään kuvaaja: Paikkakunta muuttujasta, aika muuttujasta (päivämäärä ja kellonaika)\n",
    "ax.set_title(nimi1 + \" \" + aika1.strftime(\"%d.%m.%Y, %H:%M\") + \" UTC \\n\", fontsize = 20)\n",
    "\n",
    "# Piirretään selite\n",
    "plt.figlegend(bbox_to_anchor = (1.20, 0.5), fontsize = 15)\n",
    "\n",
    "plt.show()"
   ]
  }
 ],
 "metadata": {
  "colab": {
   "provenance": []
  },
  "kernelspec": {
   "display_name": "Python 3 (ipykernel)",
   "language": "python",
   "name": "python3"
  },
  "language_info": {
   "codemirror_mode": {
    "name": "ipython",
    "version": 3
   },
   "file_extension": ".py",
   "mimetype": "text/x-python",
   "name": "python",
   "nbconvert_exporter": "python",
   "pygments_lexer": "ipython3",
   "version": "3.9.7"
  }
 },
 "nbformat": 4,
 "nbformat_minor": 1
}
