{
 "cells": [
  {
   "cell_type": "markdown",
   "id": "8e7b1c75-4c8c-44e8-a762-7fa94e2bbb84",
   "metadata": {},
   "source": [
    "# <u>Julkisista rahoista ja kunnallistaloudesta</u>"
   ]
  },
  {
   "cell_type": "markdown",
   "id": "36ce77f1-b315-459b-ae43-c8361b60cc20",
   "metadata": {},
   "source": [
    "Elämme yhteiskunnassa, jonka pyörittämiseksi itse kukin maksaa veroja ja jonka osasina valtio ja kunnat sijoittavat varallisuuttaan erilaisiin kohteisiin. Mutta millaisista rahoista näissä tilanteissa oikeastaan puhutaan?\n",
    "\n",
    "Alla on vinkkejä muutamille suomalaisille sivustoille jotka avaavat aihetta sekä esimerkkivilkaisu tarjolla olevaan aineistoon. Valtiovarainministeriön puollon avoimuudelle voi löytää täältä: [https://vm.fi/avoin-tieto](https://vm.fi/avoin-tieto).\n",
    "\n",
    "***\n",
    "\n",
    "## Avoindata.fi\n",
    "\n",
    "[http://www.avoindata.fi/](http://www.avoindata.fi/) on valtiollisen DVV:n eli Digi- ja väestötietoviraston ylläpitämä portaali, jonne niin kunnat kuin erilaiset organisaatiotkin julkaisevat omia aineistojaan kansalaisten käytettäväksi. Kohta käsittelemämme Janakkalan ostolaskutiedot on ladattu täältä.\n",
    "\n",
    "## Tutkihallintoa.fi\n",
    "\n",
    "[https://www.tutkihallintoa.fi](https://www.tutkihallintoa.fi) tarjoaa kattavan katsauksen Suomen valtion varainkäyttöön. Erityisesti sen tarjoamat visualisaatiot valtion vuosittaisesta tilinpäätöksestä ovat hyvä yleiskuva erilaisen poliittisen keskustelun seuraamiseen [https://www.tutkihallintoa.fi/valtio/taloustiedot/valtion-tilinpaatos/](https://www.tutkihallintoa.fi/valtio/taloustiedot/valtion-tilinpaatos/).\n",
    "\n",
    "## Tutkihankintoja.fi\n",
    "\n",
    "[https://tutkihankintoja.fi/](https://tutkihankintoja.fi/) on valtiollisen julkishankintayksikön Hanselin ylläpitämä sivusto, joka hyödyntää muun muassa Avoindata.fi -portaalista saatavaa informaatiota tiivistääkseen erilaisten suurten yhteishankkeiden tilanteen niin päätöksenteon helpottamiseksi kuin kansalaisyhteiskunnan vastuullisuuden edistämiseksikin.\n",
    "\n",
    "***"
   ]
  },
  {
   "cell_type": "markdown",
   "id": "5be33f5d-3f60-45fe-af1e-205d5c214188",
   "metadata": {},
   "source": [
    "Tehdääs itsekin!\n",
    "\n",
    "## 1. Työkalut "
   ]
  },
  {
   "cell_type": "code",
   "execution_count": null,
   "id": "fd6b63a7-97b7-4f1e-b4e8-a41ccf800140",
   "metadata": {},
   "outputs": [],
   "source": [
    "# Aja tämä solu ensin.\n",
    "import pandas as pd\n",
    "import numpy as np\n",
    "import matplotlib.pyplot as plt"
   ]
  },
  {
   "cell_type": "markdown",
   "id": "44cabde3-18db-4a50-8795-3a3a79957376",
   "metadata": {},
   "source": [
    "## 2. Aineisto - Janakkalan kunta"
   ]
  },
  {
   "cell_type": "code",
   "execution_count": null,
   "id": "b68a3243-593d-4432-a75f-73df2fe2f03c",
   "metadata": {},
   "outputs": [],
   "source": [
    "# Käytetty aineisto on haettu täältä\n",
    "# https://www.avoindata.fi/data/fi/dataset/janakkalan-kunnan-ostolaskudata-2022\n",
    "\n",
    "# Tiedosto oli merkistöltään hassu ja eroteltu puolipisteellä, joten korjataan asia parilla parametrilla.\n",
    "data = pd.read_csv(\"Janakkala_ostolaskut_2022.csv\", sep = \";\", encoding = \"iso8859_10\", decimal = \",\")"
   ]
  },
  {
   "cell_type": "code",
   "execution_count": null,
   "id": "82f940ef-bbb5-4eb9-b80f-54db093ed4e1",
   "metadata": {},
   "outputs": [],
   "source": [
    "data"
   ]
  },
  {
   "cell_type": "markdown",
   "id": "83bfad37-dc82-487d-8557-034b5eaea475",
   "metadata": {},
   "source": [
    "Huomaamme heti, että vuonna 2022 Janakkalan kunnan julkaistuissa ostolaskuissa on yli 42 000 tapahtumaa, joiden euromäärät heiluvat joulukuisesta parin euron sähkölaskusta useisiin tuhansiin. Jos etsimme, löydämme varmasti isompiakin eriä. Joten etsitään siis! "
   ]
  },
  {
   "cell_type": "markdown",
   "id": "73635a47-3440-422b-a88d-5507c1d4e21f",
   "metadata": {},
   "source": [
    "## 3. Analyysiä"
   ]
  },
  {
   "cell_type": "code",
   "execution_count": null,
   "id": "b3c865f9-4cca-4edf-a4bd-dca458b0105d",
   "metadata": {},
   "outputs": [],
   "source": [
    "# Tarkastellaan ensin paljonko vuoden summa on ollut.\n",
    "kirjat = data[\"Summa kirjanpidon valuuttana\"].sum()\n",
    "print(f\"Yhteensä summasarakkeessa on {kirjat} euroa.\")"
   ]
  },
  {
   "cell_type": "markdown",
   "id": "d2a6a0f8-ff79-4ca0-9197-0344edf3a9a2",
   "metadata": {},
   "source": [
    "No sehän on melkoinen potti. Jos katsomme Janakkalan kunnan verkkosivuille [https://www.janakkala.fi/kunta-ja-paatoksenteko/hallinto-ja-talous/talous/](https://www.janakkala.fi/kunta-ja-paatoksenteko/hallinto-ja-talous/talous/), löydämme sieltä varsinaiset tilinpäätökset vertailtaviksi. Mutta ihan peukalotuntumallakin voimme verrata äskeisten miljoonien määrää vuoden 2023 infografiikkaan: ![](https://www.janakkala.fi/wp-content/uploads/2024/03/tilinpaatos2023netti_paivitetty.jpg)\n",
    "\n",
    "Tuntuuko summa realistiselta?\n",
    "\n",
    "Vilkaistaanpa sarakkeen tarkempaan sisältöön."
   ]
  },
  {
   "cell_type": "code",
   "execution_count": null,
   "id": "72416ec4-0c22-4ef2-9978-912d487871a6",
   "metadata": {},
   "outputs": [],
   "source": [
    "# Etsitään kallein yksittäinen ostos.\n",
    "kallein = data[\"Summa kirjanpidon valuuttana\"].max()\n",
    "print(f\"Kallein ostos oli {kallein} euroa.\")\n",
    "\n",
    "# Millä rivillä se on?\n",
    "paikka = data[\"Summa kirjanpidon valuuttana\"].idxmax()\n",
    "print(f\"Sen rivi-indeksi on numero {paikka}.\")\n",
    "\n",
    "# Kuka se oli?\n",
    "kohde = data.iloc[paikka][\"Toimittajan nimi\"]\n",
    "print(f\"Sen toimittaja oli siis {kohde}.\")\n",
    "\n",
    "# Milloin se tapahtui?\n",
    "aika = data.iloc[paikka][\"Kirjauspäivämäärä\"]\n",
    "print(f\"Tapahtuma on kirjattu päivämäärälle {aika}.\")\n",
    "\n",
    "# Millaisesta osa-alueesta oli kyse?\n",
    "ala = data.iloc[paikka][\"Kustannuspaikan nimi\"]\n",
    "print(f\"Osto on rekisteröity kategoriaan '{ala}'.\")"
   ]
  },
  {
   "cell_type": "markdown",
   "id": "49cb3cda-d6b8-4584-87d6-47550117a3d2",
   "metadata": {},
   "source": [
    "Sellaista salapoliisintyötä. Voisimme myös halutessamme jaotella aineistoa jonkin teeman mukaan, laskea niistä osasummia tai keskimääräisiä arvoja. Itseasiassa, paljonkohan keskimääräinen ostos on ollut?"
   ]
  },
  {
   "cell_type": "code",
   "execution_count": null,
   "id": "5eda57e5-6945-4d70-adbf-f2501bf36aea",
   "metadata": {},
   "outputs": [],
   "source": [
    "# Otetaas keskiarvoja.\n",
    "KA = data[\"Summa kirjanpidon valuuttana\"].mean()\n",
    "print(f\"Keskiarvo kaikkien ostosten välillä on ollut noin {KA} euroa.\")"
   ]
  },
  {
   "cell_type": "markdown",
   "id": "c49a35c3-a0d2-479a-b866-4ed76eb87d71",
   "metadata": {},
   "source": [
    "Keskimääräinen ostos on siis toista tonnia osan huidellessa miljoonissa. Mutta kuinka kuvaava tavallinen keskiarvo on? Jos jaottelisimme aineiston sen mukaan, miten suuri osuus lopulta jäisi tuon rajan yläpuolelle?"
   ]
  },
  {
   "cell_type": "code",
   "execution_count": null,
   "id": "24571b73-66ed-4cf6-84d3-da2f0cdda3ab",
   "metadata": {},
   "outputs": [],
   "source": [
    "# Katsotaas millainen jakauma ostoksissa on.\n",
    "\n",
    "pienet = data.query(\"`Summa kirjanpidon valuuttana` <= @KA\")\n",
    "isot = data.query(\"`Summa kirjanpidon valuuttana` > @KA\")\n",
    "\n",
    "print(f\"Koko aineistossa on {len(data)} ostosta. Niistä {len(pienet)} jää alle keskiarvon {KA} € ja {len(isot)} ylittää sen.\")\n",
    "print(f\"Täten keskiarvon suhdeluku ei tosiaankaan ole noin puolet ja puolet, vaan isompia on {len(isot)/len(pienet)}.\")"
   ]
  },
  {
   "cell_type": "markdown",
   "id": "e1f15dfe-2e2b-459e-8e13-2bda38413d5e",
   "metadata": {},
   "source": [
    "# 3. Aineisto - Kokkolan kaupunki"
   ]
  },
  {
   "cell_type": "markdown",
   "id": "4db2abaf-0505-445f-8b68-82ade8313ee1",
   "metadata": {},
   "source": [
    "Mutta hei, vaikka avoindata.fi -portista ei Kokkolaa vielä löydykään, kaupunki itse tarjoaa omilla sivuillaan [https://www.kokkola.fi/hallinto-ja-paatoksenteko/talous/](https://www.kokkola.fi/hallinto-ja-paatoksenteko/talous/) vastaavaa aineistoa tarkasteltavaksi. Käytäntö on alkanut vuodesta 2022."
   ]
  },
  {
   "cell_type": "code",
   "execution_count": null,
   "id": "e82a995e-2947-4e22-8c85-9729d88107dd",
   "metadata": {},
   "outputs": [],
   "source": [
    "# Jotkut Pythonin versiot eivät oletusarvoisesti tue pandaksen kautta Excel-tiedostojen lukemista. Alla oleva käsky auttaa virhetilanteessa.\n",
    "%pip install openpyxl"
   ]
  },
  {
   "cell_type": "code",
   "execution_count": null,
   "id": "5739b495-c794-4de5-8a71-35c38ed21c93",
   "metadata": {},
   "outputs": [],
   "source": [
    "# Haetaan aineisto suoraan kaupungin sivuilta.\n",
    "kokkola = pd.read_excel(\"https://www.kokkola.fi/app/uploads/2024/06/9c81b62f-ostolaskudata-2023-kokkola.xlsx\")"
   ]
  },
  {
   "cell_type": "code",
   "execution_count": null,
   "id": "8449acbf-e308-4938-ac52-e64bcbe44eec",
   "metadata": {},
   "outputs": [],
   "source": [
    "kokkola"
   ]
  },
  {
   "cell_type": "code",
   "execution_count": null,
   "id": "c09644e8-264a-46ba-80b8-1a0633fa0614",
   "metadata": {},
   "outputs": [],
   "source": [
    "# Vilkaistaas samalla tavalla Kokkolankin aineistoon.\n",
    "\n",
    "# Etsitään kallein yksittäinen ostos.\n",
    "kallein = kokkola[\"Summa\"].max()\n",
    "print(f\"Kallein ostos oli {kallein} euroa.\")\n",
    "\n",
    "# Millä rivillä se on?\n",
    "paikka = kokkola[\"Summa\"].idxmax()\n",
    "print(f\"Sen rivi-indeksi on numero {paikka}.\")\n",
    "\n",
    "# Kuka se oli?\n",
    "kohde = kokkola.iloc[paikka][\"Reskontranro(T)\"]\n",
    "print(f\"Sen toimittaja oli siis {kohde}.\")\n",
    "\n",
    "# Milloin se tapahtui?\n",
    "aika = kokkola.iloc[paikka][\"Jakso\"]\n",
    "print(f\"Tapahtuma on kirjattu kuukaudelle {aika}.\")\n",
    "\n",
    "# Millaisesta osa-alueesta oli kyse?\n",
    "ala = kokkola.iloc[paikka][\"Tili(T)\"]\n",
    "print(f\"Osto on rekisteröity kategoriaan '{ala}'.\")"
   ]
  },
  {
   "cell_type": "markdown",
   "id": "543cb9d7-fbfc-42bb-8fe7-e7e862468345",
   "metadata": {},
   "source": [
    "Siinähän on jo heti muutama milli kiinni.\n",
    "\n",
    "Selvitäpä seuraavaksi itse paljonko ostoja tehtiin kokonaisuudessaa?\n",
    "\n",
    "Paljonko ostoja tehtiin eri kuukausina?\n",
    "\n",
    "Mikä kuukausi oli aktiivisin?\n",
    "\n",
    "Miten suuri osuus ostoista liittyy vuokriin tai muihin aineettomiin ostoihin verrattuna esineiden liikutteluun?"
   ]
  },
  {
   "cell_type": "code",
   "execution_count": null,
   "id": "406e1493-2004-47c8-855d-a32479977015",
   "metadata": {},
   "outputs": [],
   "source": [
    "# Koodaile tänne!"
   ]
  },
  {
   "cell_type": "code",
   "execution_count": null,
   "id": "3cad8b6e-d4c4-422a-8379-38a573516638",
   "metadata": {},
   "outputs": [],
   "source": []
  },
  {
   "cell_type": "code",
   "execution_count": null,
   "id": "b9ee9d8a-d539-402f-8a7e-98044e94da59",
   "metadata": {},
   "outputs": [],
   "source": []
  },
  {
   "cell_type": "code",
   "execution_count": null,
   "id": "d5b1c6bc-b8f1-4215-a072-5db13a22302f",
   "metadata": {},
   "outputs": [],
   "source": []
  },
  {
   "cell_type": "code",
   "execution_count": null,
   "id": "71f730e0-35b7-4896-b580-b5021aacc845",
   "metadata": {},
   "outputs": [],
   "source": []
  },
  {
   "cell_type": "code",
   "execution_count": null,
   "id": "52dfe94b-6051-4e1f-a2e8-1d23f3e6c6c6",
   "metadata": {},
   "outputs": [],
   "source": []
  },
  {
   "cell_type": "code",
   "execution_count": null,
   "id": "df66595f-343b-4e8e-927e-1903d28a8b6c",
   "metadata": {},
   "outputs": [],
   "source": []
  }
 ],
 "metadata": {
  "kernelspec": {
   "display_name": "Python 3 (ipykernel)",
   "language": "python",
   "name": "python3"
  },
  "language_info": {
   "codemirror_mode": {
    "name": "ipython",
    "version": 3
   },
   "file_extension": ".py",
   "mimetype": "text/x-python",
   "name": "python",
   "nbconvert_exporter": "python",
   "pygments_lexer": "ipython3",
   "version": "3.12.4"
  }
 },
 "nbformat": 4,
 "nbformat_minor": 5
}
