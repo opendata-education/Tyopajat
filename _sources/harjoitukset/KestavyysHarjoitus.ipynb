{
 "cells": [
  {
   "cell_type": "markdown",
   "id": "833bba0e",
   "metadata": {},
   "source": [
    "# <ins> KESTÄVYYS - fysikaalisia pohdintoja ilmakehästämme </ins>"
   ]
  },
  {
   "cell_type": "markdown",
   "id": "fe765ff6",
   "metadata": {},
   "source": [
    "<span style=\"color:red\">*v0.1 26.12. - TÄMÄ KIRJANEN ON KESKEN JA JATKAA KEHITYSTÄÄN 2024 TAMMIKUUHUN*</span>"
   ]
  },
  {
   "cell_type": "markdown",
   "id": "7dbf4860",
   "metadata": {},
   "source": [
    "### Työn rakenne\n",
    "\n",
    "Yksinkertainen projekti noudattaa yleensä simppeliä perusrakennetta:\n",
    "\n",
    "1. Määritetään kiinnostuksen kohde (tutkimuskysymys)\n",
    "2. Etsitään aineistoa (datankeruu)\n",
    "3. Tarkastellaan löydöksiä (analyysi)\n",
    "4. Arvioidaan, kritisoidaan (tulokset ja johtopäätökset)\n",
    "5. Selitetään tarpeen mukaan käytetyt aineistot (lähteet)"
   ]
  },
  {
   "cell_type": "markdown",
   "id": "2cf11660",
   "metadata": {},
   "source": [
    "## <ins> 1. Tutkimuskysymyksiä </ins>"
   ]
  },
  {
   "cell_type": "markdown",
   "id": "29f081c7",
   "metadata": {},
   "source": [
    "Ilmastonmuutoksen ymmärtäminen ja seuraaminen vaatii maailmanlaajuista verkostoa. Kansalliset säähavaintoasemat, tutkimuslaitokset, yliopistot ja monet muut instituutit ympäri planeettaa tarjoavat kattavan valikoiman jatkuvasti päivittyviä havaintoja käyttöömme.\n",
    "\n",
    "Valitaan aluksi mitä suureita aiomme tarkastella. Lämpötila, hiilidioksidin ja metaanin määrä ilmassa, kasvuston hiilensidonta ja -vapautus, sade ja tuulet ja niin edelleen.\n",
    "\n",
    "**Miten valitut suureet käyttäytyvät ajan mukaan? Millaista vaihtelua niissä esiintyy? Miten mittauspaikan sijainti vaikuttaa tuloksiin?**\n"
   ]
  },
  {
   "cell_type": "markdown",
   "id": "9e0bee7f",
   "metadata": {},
   "source": [
    "## <ins> 2. Aineisto </ins>"
   ]
  },
  {
   "cell_type": "markdown",
   "id": "c1e11707",
   "metadata": {},
   "source": [
    "Otetaan pohjaksi hiilen kiertoon keskittyvän [ICOS-projektin](https://www.icos-cp.eu/about/icos-in-nutshell) aineistoja. Tämän monikansallisen yhteisponnistuksen sivuilta löytyy korkealaatuisia mittauksia yhteisessä ja täten näppärästi vertailtavassa muodossa.\n",
    "\n",
    "<img src = \"https://www.icos-cp.eu/sites/default/files/2020-04/ICOS%20RI_logo_rgb.png\">\n",
    "\n",
    "**HUOM!** Aineistoissa on kymmeniä tai satoja tuhansia rivejä havaintoja ja paljon erilaisia kryptisesti nimettyjä sarakkeita, joihin asemien mittaukset on tallennettu. Kunkin aineiston kohdalla on linkki portaalin sivulle, josta voi katsoa niin kutsutusta *metadatasta* mitä kunkin sarakkeen nimi tarkoittaa. Tutkimustyössä erilaisten selitteiden ja viitteiden tekeminen on tärkeää epäselvyyksien välttämiseksi."
   ]
  },
  {
   "cell_type": "markdown",
   "id": "a5bc5f91",
   "metadata": {},
   "source": [
    "#### 2.1 Työkalut"
   ]
  },
  {
   "cell_type": "code",
   "execution_count": null,
   "id": "07334a33",
   "metadata": {},
   "outputs": [],
   "source": [
    "# Tuodaan tarvittavat työkalukirjastot.\n",
    "\n",
    "import pandas as pd \n",
    "import matplotlib.pyplot as plt\n",
    "import numpy as np"
   ]
  },
  {
   "cell_type": "markdown",
   "id": "e59a8fff",
   "metadata": {},
   "source": [
    "#### 2.2 Data - Hyytiälä, Keski-Suomi"
   ]
  },
  {
   "cell_type": "code",
   "execution_count": null,
   "id": "85a7b8a1",
   "metadata": {},
   "outputs": [],
   "source": [
    "# Metaanikonsentraatio\n",
    "# Hyytiälä 67.2 m CH4 2016-12-13–2023-03-31\n",
    "# https://meta.icos-cp.eu/objects/XRJWd0QZw0wKGjXZnspH20t5\n",
    "\n",
    "HyyCH4 = pd.read_csv(\"https://raw.githubusercontent.com/opendata-education/Tyopajat/main/materiaali/data/HyyCH4.csv\",\n",
    "                     parse_dates = [\"TIMESTAMP\"])\n",
    "\n",
    "# Hiilidioksidikonsentraatio\n",
    "# Hyytiälä 67.2 m CO2 2016-12-13–2023-03-31\n",
    "# https://meta.icos-cp.eu/objects/9Y6WV_HjpEVbbc-lq_FE9qV8\n",
    "\n",
    "HyyCO2 = pd.read_csv(\"https://raw.githubusercontent.com/opendata-education/Tyopajat/main/materiaali/data/HyyCO2.csv\",\n",
    "                     parse_dates = [\"TIMESTAMP\"])\n",
    "\n",
    "# Säätiedot\n",
    "# Hyytiälä 67.2 m ICOS ATC Meteo 2017-12-31–2022-12-31\n",
    "# https://meta.icos-cp.eu/objects/zdx_A4ariX25X6Pu8DUG_vE1\n",
    "\n",
    "HyyMeteo = pd.read_csv(\"https://raw.githubusercontent.com/opendata-education/Tyopajat/main/materiaali/data/HyyMeteo.csv\",\n",
    "                       parse_dates = [\"TIMESTAMP\"])\n",
    "\n",
    "# Virtaukset\n",
    "# Hyytiälän FLUXNET-arkisto 1996-2020\n",
    "# https://meta.icos-cp.eu/objects/4F2-9d7QV9A0SlL2pIaRxsJP\n",
    "\n",
    "HyyGPP = pd.read_csv(\"https://raw.githubusercontent.com/opendata-education/Tyopajat/main/materiaali/data/HyyFluxGPP.csv\",\n",
    "                     parse_dates = [\"TIMESTAMP\"])\n",
    "HyyNEE = pd.read_csv(\"https://raw.githubusercontent.com/opendata-education/Tyopajat/main/materiaali/data/HyyFluxNEE.csv\",\n",
    "                     parse_dates = [\"TIMESTAMP\"]) # tässä mukana myös lämpötila"
   ]
  },
  {
   "cell_type": "markdown",
   "id": "934c64cd",
   "metadata": {},
   "source": [
    "#### 2.3 Data - Utö, Meri-Suomi"
   ]
  },
  {
   "cell_type": "code",
   "execution_count": null,
   "id": "019edb27",
   "metadata": {},
   "outputs": [],
   "source": [
    "# Metaanikonsentraatio\n",
    "# Atmospheric CH4 product, Utö - Baltic sea (57.0 m) 2012-03-23–2023-03-31\n",
    "# https://meta.icos-cp.eu/objects/0QpkTakURubEz9vnSxkAIL3j\n",
    "\n",
    "UtCH4 = pd.read_csv(\"https://raw.githubusercontent.com/opendata-education/Tyopajat/main/materiaali/data/UtCH4.csv\",\n",
    "                    parse_dates = [\"TIMESTAMP\"])\n",
    "\n",
    "# Hiilidioksidikonsentraatio\n",
    "# Atmospheric CO2 product, Utö - Baltic sea (57.0 m) 2012-03-23–2023-03-31\n",
    "# https://meta.icos-cp.eu/objects/Gfcb8rZBPxZQNJgm7qiwAcYz\n",
    "\n",
    "UtCO2 = pd.read_csv(\"https://raw.githubusercontent.com/opendata-education/Tyopajat/main/materiaali/data/UtCO2.csv\",\n",
    "                    parse_dates = [\"TIMESTAMP\"])\n",
    "\n",
    "# Säätiedot\n",
    "# Utö 58 m ICOS ATC Meteo 2018-12-12–2023-03-31\n",
    "# https://meta.icos-cp.eu/objects/Q9In1Q-KI-HrxDHlrHytOCOd\n",
    "\n",
    "UtMeteo = pd.read_csv(\"https://raw.githubusercontent.com/opendata-education/Tyopajat/main/materiaali/data/UtMeteo.csv\",\n",
    "                      parse_dates = [\"TIMESTAMP\"])"
   ]
  },
  {
   "cell_type": "markdown",
   "id": "093a6d83",
   "metadata": {},
   "source": [
    "#### 2.4 Data - Pallas ja Kenttärova, Pohjois-Suomi"
   ]
  },
  {
   "cell_type": "code",
   "execution_count": null,
   "id": "1f8e420b",
   "metadata": {},
   "outputs": [],
   "source": [
    "# Atmospheric CH4 product, Pallas (12.0 m)\n",
    "# 2004-02-11–2023-03-31\n",
    "# https://meta.icos-cp.eu/objects/ATqgqugIHsWAIXKZgEq2QkKz\n",
    "\n",
    "PalCH4 = pd.read_csv(\"https://raw.githubusercontent.com/opendata-education/Tyopajat/main/materiaali/data/PalCH4.csv\",\n",
    "                     parse_dates = [\"TIMESTAMP\"])\n",
    "\n",
    "# Atmospheric CO2 product, Pallas (12.0 m)\n",
    "# 1998-07-01–2023-03-31\n",
    "# https://meta.icos-cp.eu/objects/sp32Z270ruWRU847KagynNOK\n",
    "\n",
    "PalCO2 = pd.read_csv(\"https://raw.githubusercontent.com/opendata-education/Tyopajat/main/materiaali/data/PalCO2.csv\",\n",
    "                     parse_dates = [\"TIMESTAMP\"])\n",
    "\n",
    "# Fluxnet Product, Kenttarova\n",
    "# 2017-12-31–2020-12-31\n",
    "# https://meta.icos-cp.eu/objects/vXcr9a7FPpBA3_Tg5X2gT1xo\n",
    "\n",
    "KenFlux1 = pd.read_csv(\"https://raw.githubusercontent.com/opendata-education/Tyopajat/main/materiaali/data/KenFlux1.csv\",\n",
    "                       parse_dates = [\"TIMESTAMP\"])\n",
    "\n",
    "# ETC L2 Fluxnet (half-hourly), Kenttarova\n",
    "# 2019-12-31–2022-12-31\n",
    "# https://meta.icos-cp.eu/objects/aqULa_iF0GDVTc4_AUb7h-nN\n",
    "\n",
    "KenFlux2 = pd.read_csv(\"https://raw.githubusercontent.com/opendata-education/Tyopajat/main/materiaali/data/KenFlux2.csv\",\n",
    "                       parse_dates = [\"TIMESTAMP\"])"
   ]
  },
  {
   "cell_type": "markdown",
   "id": "31f838c6",
   "metadata": {},
   "source": [
    "#### 2.5 Data - Karlsruhe, Saksa"
   ]
  },
  {
   "cell_type": "code",
   "execution_count": null,
   "id": "023358ee",
   "metadata": {},
   "outputs": [],
   "source": [
    "# Metaanikonsentraatio\n",
    "# Karlsruhe 60 m CH4 2016-12-16–2023-03-31\n",
    "# https://meta.icos-cp.eu/objects/lO1I16P7gM7zloZbzWLSur02\n",
    "\n",
    "KarlCH4 = pd.read_csv(\"https://raw.githubusercontent.com/opendata-education/Tyopajat/main/materiaali/data/KarlCH4.csv\",\n",
    "                      parse_dates = [\"TIMESTAMP\"])\n",
    "\n",
    "# Hiilidioksidikonsentraatio\n",
    "# Karlsruhe 60 m CO2 2016-12-16–2023-03-31\n",
    "# https://meta.icos-cp.eu/objects/vXTxJscV4CHFfaljH9KQ5pty\n",
    "\n",
    "KarlCO2 = pd.read_csv(\"https://raw.githubusercontent.com/opendata-education/Tyopajat/main/materiaali/data/KarlCO2.csv\",\n",
    "                      parse_dates = [\"TIMESTAMP\"])\n",
    "\n",
    "# Säätiedot\n",
    "# Karlsruhe 60 m ICOS ATC Meteo 2019-08-01–2023-03-31\n",
    "# https://meta.icos-cp.eu/objects/rJGDmG0anqNeRrPyLBuog258\n",
    "\n",
    "KarlMeteo = pd.read_csv(\"https://raw.githubusercontent.com/opendata-education/Tyopajat/main/materiaali/data/KarlMeteo.csv\",\n",
    "                        parse_dates = [\"TIMESTAMP\"])"
   ]
  },
  {
   "cell_type": "markdown",
   "id": "c178e28c",
   "metadata": {},
   "source": [
    "#### 2.6 Data - Castelporziano 2, Italia"
   ]
  },
  {
   "cell_type": "code",
   "execution_count": null,
   "id": "0178142a",
   "metadata": {},
   "outputs": [],
   "source": [
    "# Virtaukset\n",
    "# Castelporziano ETC L2 Fluxnet 2020-12-31–2023-10-31\n",
    "# https://meta.icos-cp.eu/objects/DZcO_1NvbH4wRqTcxnNVKd47\n",
    "\n",
    "CasFlux = pd.read_csv(\"https://raw.githubusercontent.com/opendata-education/Tyopajat/main/materiaali/data/CasFlux.csv\",\n",
    "                      parse_dates = [\"TIMESTAMP\"])\n",
    "\n",
    "# Säätiedot\n",
    "# Castelporziano ETC L2 Meteo 2020-12-31–2023-10-31\n",
    "# https://meta.icos-cp.eu/objects/b9jFmI9WtonRGMRRsWOeBQK9\n",
    "\n",
    "CasMeteo = pd.read_csv(\"https://raw.githubusercontent.com/opendata-education/Tyopajat/main/materiaali/data/CasMeteo.csv\",\n",
    "                       parse_dates = [\"TIMESTAMP\"])"
   ]
  },
  {
   "cell_type": "markdown",
   "id": "1434589b",
   "metadata": {},
   "source": [
    "#### 2.7 Data - Izaña, Espanja (Teneriffa)"
   ]
  },
  {
   "cell_type": "code",
   "execution_count": null,
   "id": "4423ab29",
   "metadata": {},
   "outputs": [],
   "source": [
    "# Metaanikonsentraatio\n",
    "# Atmospheric CH4 product, Izaña (29.0 m) 1984-01-01–2023-03-31\n",
    "# https://meta.icos-cp.eu/objects/j_qLA35m18_V9HXmKXNTtV1d\n",
    "\n",
    "IzaCH4 = pd.read_csv(\"https://raw.githubusercontent.com/opendata-education/Tyopajat/main/materiaali/data/IzaCH4.csv\",\n",
    "                     parse_dates = [\"TIMESTAMP\"])\n",
    "\n",
    "# Hiilidioksidikonsentraatio\n",
    "# Atmospheric CO2 product, Izaña (29.0 m) 2007-01-19–2023-03-31\n",
    "# https://meta.icos-cp.eu/objects/pinswiNsT4yB9YSX5O-TlAYD\n",
    "\n",
    "IzaCO2 = pd.read_csv(\"https://raw.githubusercontent.com/opendata-education/Tyopajat/main/materiaali/data/IzaCO2.csv\",\n",
    "                     parse_dates = [\"TIMESTAMP\"])\n",
    "\n",
    "# Säähavainnot\n",
    "# 1996-01-01-2023-12-21\n",
    "# https://meteostat.net/en/station/60010\n",
    "# (eri kohteesta haettu, koska ICOS-ajan tiedot ovat vielä hyvin lyhyet vaikka sääasemalla onkin pitkä historia)\n",
    "\n",
    "IzaMet = pd.read_csv(\"https://raw.githubusercontent.com/opendata-education/Tyopajat/main/materiaali/data/IzaMet.csv\",\n",
    "                     parse_dates = [\"date\"])"
   ]
  },
  {
   "cell_type": "markdown",
   "id": "8a1ac07a",
   "metadata": {},
   "source": [
    "## <ins> 3. Analyysi </ins>"
   ]
  },
  {
   "cell_type": "markdown",
   "id": "d0ae3d41",
   "metadata": {},
   "source": [
    "Lähdetään tarkastelemaan mitä aineistoissa on. Alla oleva esimerkki on tehty Hyytiälän havainnoista, mutta samoilla käskyillä pystyt tarkastelemaan muitakin asemia vaihtamalla sisään toisennimisiä muuttujia."
   ]
  },
  {
   "cell_type": "markdown",
   "id": "b174aa2a",
   "metadata": {},
   "source": [
    "#### 3.1 Vilkaisu aineistoihin"
   ]
  },
  {
   "cell_type": "code",
   "execution_count": null,
   "id": "eb3b899a",
   "metadata": {},
   "outputs": [],
   "source": [
    "# Katsotaan miltä muuttujiin tallennettu kama näyttää. \n",
    "\n",
    "HyyCO2"
   ]
  },
  {
   "cell_type": "code",
   "execution_count": null,
   "id": "79b543c2",
   "metadata": {},
   "outputs": [],
   "source": [
    "# Tehdään mahdollisimman yksinkertainen kuvaaja yhden sarakkeen tiedoista.\n",
    "\n",
    "plt.plot(HyyCO2[\"TIMESTAMP\"], HyyCO2[\"co2\"])\n",
    "plt.show()"
   ]
  },
  {
   "cell_type": "markdown",
   "id": "04973f82",
   "metadata": {},
   "source": [
    "Onko kuvaajassa havaittavissa toistuvia kuvioita? Mistä on kyse?"
   ]
  },
  {
   "cell_type": "code",
   "execution_count": null,
   "id": "a0b0adb1",
   "metadata": {
    "scrolled": false
   },
   "outputs": [],
   "source": [
    "# Lisätään muotoilutermejä.\n",
    "\n",
    "plt.figure(figsize = (20, 10))\n",
    "\n",
    "plt.plot(HyyCO2[\"TIMESTAMP\"], HyyCO2[\"co2\"], label = \"CO2\", color = \"green\")\n",
    "\n",
    "plt.ylabel(\"Hiilidioksidikonsentraatio ilmassa (µmol mol-1) \\n\", fontsize = 15)\n",
    "plt.xlabel(\"\\n Aika (vuosi)\", fontsize = 15)\n",
    "plt.title(\"CO2-fraktio ilmakehässä Hyytiälän SMEAR-asemalla 2017-2023 \\n\", fontsize = 20)\n",
    "plt.legend(loc = \"upper left\", fontsize = 20)\n",
    "\n",
    "plt.show()"
   ]
  },
  {
   "cell_type": "code",
   "execution_count": null,
   "id": "a07ef970",
   "metadata": {},
   "outputs": [],
   "source": [
    "# Laitetaan useampi suure näkyviin samaan aikaan.\n",
    "\n",
    "plt.subplots(layout = \"constrained\", figsize = (20, 10))\n",
    "\n",
    "plt.subplot(311)\n",
    "plt.plot(HyyCO2[\"TIMESTAMP\"], HyyCO2[\"co2\"], label = \"CO2\", c = \"g\")\n",
    "plt.ylabel(\"Konsentraatio ilmassa (µmol mol-1) \\n\", fontsize = 10)\n",
    "plt.legend(loc = \"upper left\", fontsize = 20)\n",
    "\n",
    "plt.title(\"Molekyylifraktiot ilmakehässä Hyytiälän SMEAR-asemalla 2017-2023 \\n\", fontsize = 20)\n",
    "\n",
    "plt.subplot(312)\n",
    "plt.plot(HyyCH4[\"TIMESTAMP\"], HyyCH4[\"ch4\"], label = \"CH4\", c = \"b\")\n",
    "plt.ylabel(\"Konsentraatio ilmassa (nmol mol-1) \\n\", fontsize = 10)\n",
    "plt.legend(loc = \"upper left\", fontsize = 20)\n",
    "\n",
    "plt.subplot(313)\n",
    "plt.plot(HyyMeteo[\"TIMESTAMP\"], HyyMeteo[\"AT\"], label = \"Lämpötila\", c = \"cyan\")\n",
    "plt.ylabel(\"Ilman lämpötila (°C) \\n\", fontsize = 10)\n",
    "plt.legend(loc = \"upper left\", fontsize = 20)\n",
    "\n",
    "plt.xlabel(\"\\n Aika (vuosi)\", fontsize = 15)\n",
    "plt.show()"
   ]
  },
  {
   "cell_type": "markdown",
   "id": "64ff5627",
   "metadata": {},
   "source": [
    "Riippuvatko kuvaajien suureet toisistaan? Onko niissä havaittavia yhteneväisyyksiä tai poikkeavuuksia?"
   ]
  },
  {
   "cell_type": "code",
   "execution_count": null,
   "id": "d23ed354",
   "metadata": {},
   "outputs": [],
   "source": [
    "# Toistetaan äskeinen myös kasvuston toiminnalle hieman pidemmältä ajalta. Lisätään nollaviiva selkeyttämään.\n",
    "\n",
    "plt.subplots(layout = \"constrained\", figsize = (20, 10))\n",
    "\n",
    "plt.subplot(311)\n",
    "plt.plot(HyyNEE[\"TIMESTAMP\"], HyyNEE[\"NEE_VUT_REF\"], label = \"NEE\", c = \"g\")\n",
    "plt.axhline(y = 0, color = 'y', linestyle = 'dashed')\n",
    "plt.ylabel(\"Ekosysteemin nettovaihtovuo (µmol m-2 s-1) \\n\", fontsize = 10)\n",
    "plt.legend(loc = \"upper left\", fontsize = 20)\n",
    "\n",
    "plt.title(\"Metsän hiilenkierto Hyytiälän SMEAR-asemalla 1996-2020 \\n\", fontsize = 20)\n",
    "\n",
    "plt.subplot(312)\n",
    "plt.plot(HyyGPP[\"TIMESTAMP\"], HyyGPP[\"GPP_DT_VUT_REF\"], label = \"GPP DT\", c = \"b\", alpha = 0.5)\n",
    "plt.plot(HyyGPP[\"TIMESTAMP\"], HyyGPP[\"GPP_NT_VUT_REF\"], label = \"GPP NT\", c = \"orange\", alpha = 0.5)\n",
    "plt.axhline(y = 0, color = 'y', linestyle = 'dashed')\n",
    "plt.ylabel(\"CO2 bruttotuotto (µmol m-2 s-1) \\n\", fontsize = 10)\n",
    "plt.legend(loc = \"upper left\", fontsize = 20)\n",
    "\n",
    "plt.subplot(313)\n",
    "plt.plot(HyyNEE[\"TIMESTAMP\"], HyyNEE[\"TA_F\"], label = \"Lämpötila\", c = \"cyan\")\n",
    "plt.axhline(y = 0, color = 'y', linestyle = 'dashed')\n",
    "plt.ylabel(\"Ilman lämpötila (°C) \\n\", fontsize = 10)\n",
    "plt.legend(loc = \"upper left\", fontsize = 20)\n",
    "\n",
    "plt.xlabel(\"\\n Aika (vuosi)\", fontsize = 15)\n",
    "plt.show()"
   ]
  },
  {
   "cell_type": "markdown",
   "id": "5a54292c",
   "metadata": {},
   "source": [
    "Näkyykö pitkässä sarjassa vaihtelua vuosien tai vuodenaikojen välillä?"
   ]
  },
  {
   "cell_type": "markdown",
   "id": "03861c36",
   "metadata": {},
   "source": [
    "Kuvaajia tarkasteltaessa on hyvä huomioida mittausten määrä ja tiheys. Yllä olevat tiedot on kerätty automaattisesti tunneittain tai tiheämmin, mikä saattaa välillä johtaa hankaluuksiin kuvaajien lukemisessa piirtotiheyden vuoksi. Selkeyden nimissä on usein tarpeen jaotella, luokitella tai muutoin muokata alkuperäistä dataa sekä eristää sieltä nousevia tilastollisia muuttujia.\n"
   ]
  },
  {
   "cell_type": "code",
   "execution_count": null,
   "id": "43f56fa6",
   "metadata": {},
   "outputs": [],
   "source": [
    "# Muokataan olemassaolevaa muuttujaa siten, että erotetaan tallennetusta aikaleimasta päivät, kellonajat sun muut omiksi\n",
    "# sarakkeikseen. Tällöin on helpompaa leikellä aineistosta palasia, kuten \"vain kesäkuukaudet\" tai vastaavat.\n",
    "\n",
    "# Esimerkiksi hiilidioksiditaulukkomme ensimmäisten kymmenen rivin sisältö oli:\n",
    "print(\"HyyCO2 aluksi: \")\n",
    "print(HyyCO2.head(10))\n",
    "\n",
    "# Lisätään sarakkeet kaivamalla aikaleimasta tiedot kullekin riville.\n",
    "\n",
    "HyyCO2['PVM'] = pd.to_datetime(HyyCO2['TIMESTAMP']).dt.date\n",
    "HyyCO2['VUO'] = pd.to_datetime(HyyCO2['TIMESTAMP']).dt.year\n",
    "HyyCO2['KK'] = pd.to_datetime(HyyCO2['TIMESTAMP']).dt.month\n",
    "HyyCO2['VRK'] = pd.to_datetime(HyyCO2['TIMESTAMP']).dt.day\n",
    "HyyCO2['TUN'] = pd.to_datetime(HyyCO2['TIMESTAMP']).dt.hour\n",
    "\n",
    "print(\"HyyCO2 pienen muokkauksen jälkeen: \")\n",
    "print(HyyCO2.head(10))"
   ]
  },
  {
   "cell_type": "code",
   "execution_count": null,
   "id": "b2df149a",
   "metadata": {},
   "outputs": [],
   "source": [
    "# Kokeillaan kuukausikeskiarvojen laskemista.\n",
    "\n",
    "KA = HyyCO2.groupby([\"KK\"]).mean(numeric_only = True)\n",
    "\n",
    "print(KA[\"co2\"])\n",
    "\n",
    "k = [\"tammi\", \"helmi\", \"maalis\", \"huhti\", \"touko\", \"kesä\", \"heinä\", \"elo\", \"syys\", \"loka\", \"marras\", \"joulu\"]\n",
    "\n",
    "plt.figure(figsize = (20, 10))\n",
    "plt.plot(k, KA[\"co2\"], c = \"y\")\n",
    "plt.scatter(k, KA[\"co2\"], c = \"red\", label = \"CO2\")\n",
    "\n",
    "plt.ylabel(\"Konsentraatio ilmassa (µmol mol-1) \\n\", fontsize = 15)\n",
    "plt.xlabel(\"\\n Aika (kuukausi)\", fontsize = 15)\n",
    "plt.title(\"Hiilidioksidifraktio ilmakehässä Hyytiälän SMEAR-asemalla, kuukausikeskiarvo 2017-2023 \\n\", fontsize = 20)\n",
    "plt.legend(loc = \"center right\", fontsize = 15)\n",
    "\n",
    "plt.show()"
   ]
  },
  {
   "cell_type": "markdown",
   "id": "8db9d018",
   "metadata": {},
   "source": [
    "Miltä keskiarvoistettu kuvaaja näyttää alkuperäisiin havaintoihin verrattuna?"
   ]
  },
  {
   "cell_type": "code",
   "execution_count": null,
   "id": "518e7e0d",
   "metadata": {},
   "outputs": [],
   "source": []
  },
  {
   "cell_type": "markdown",
   "id": "9b7d3465",
   "metadata": {},
   "source": [
    "## <ins> 4. Tulokset ja johtopäätökset </ins>"
   ]
  },
  {
   "cell_type": "code",
   "execution_count": null,
   "id": "3a7a6543",
   "metadata": {},
   "outputs": [],
   "source": []
  },
  {
   "cell_type": "code",
   "execution_count": null,
   "id": "b5188abc",
   "metadata": {},
   "outputs": [],
   "source": []
  },
  {
   "cell_type": "markdown",
   "id": "2a915981",
   "metadata": {},
   "source": [
    "## <ins> 5. Lähteet </ins>"
   ]
  },
  {
   "cell_type": "code",
   "execution_count": null,
   "id": "6b05be14",
   "metadata": {},
   "outputs": [],
   "source": []
  }
 ],
 "metadata": {
  "kernelspec": {
   "display_name": "Python 3 (ipykernel)",
   "language": "python",
   "name": "python3"
  },
  "language_info": {
   "codemirror_mode": {
    "name": "ipython",
    "version": 3
   },
   "file_extension": ".py",
   "mimetype": "text/x-python",
   "name": "python",
   "nbconvert_exporter": "python",
   "pygments_lexer": "ipython3",
   "version": "3.11.5"
  }
 },
 "nbformat": 4,
 "nbformat_minor": 5
}
