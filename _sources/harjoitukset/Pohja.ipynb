{
 "cells": [
  {
   "cell_type": "markdown",
   "id": "183cd39c",
   "metadata": {},
   "source": [
    "# Otsikko"
   ]
  },
  {
   "cell_type": "markdown",
   "id": "bedd27d0",
   "metadata": {},
   "source": [
    "### Työn rakenne"
   ]
  },
  {
   "cell_type": "markdown",
   "id": "78b45fba",
   "metadata": {},
   "source": [
    "Yksinkertainen projekti noudattaa yleensä simppeliä perusrakennetta:\n",
    "\n",
    "1. Määritetään kiinnostuksen kohde (tutkimuskysymys)\n",
    "2. Etsitään aineistoa (datankeruu)\n",
    "3. Tarkastellaan löydöksiä (analyysi)\n",
    "4. Arvioidaan, kritisoidaan (tulokset ja johtopäätökset)\n",
    "5. Selitetään tarpeen mukaan käytetyt aineistot (lähteet) "
   ]
  },
  {
   "cell_type": "markdown",
   "id": "e7c1b581",
   "metadata": {},
   "source": [
    "### 1. Tutkimuskysymys"
   ]
  },
  {
   "cell_type": "code",
   "execution_count": null,
   "id": "c46220f8",
   "metadata": {},
   "outputs": [],
   "source": []
  },
  {
   "cell_type": "code",
   "execution_count": null,
   "id": "b2ec867b",
   "metadata": {},
   "outputs": [],
   "source": []
  },
  {
   "cell_type": "markdown",
   "id": "36efd798",
   "metadata": {},
   "source": [
    "### 2. Data"
   ]
  },
  {
   "cell_type": "code",
   "execution_count": null,
   "id": "7c597813",
   "metadata": {},
   "outputs": [],
   "source": [
    "# Tavallisimmat työkalupaketit.\n",
    "\n",
    "import pandas as pd # Pandas käsittelee tietorakenteita, kuten taulukoita.\n",
    "import matplotlib.pyplot as plt # Plottaus, eli kuvaajien piirto, on oleellinen osa tietojenkäsittelyä."
   ]
  },
  {
   "cell_type": "code",
   "execution_count": null,
   "id": "d831984c",
   "metadata": {},
   "outputs": [],
   "source": []
  },
  {
   "cell_type": "markdown",
   "id": "14ba377a",
   "metadata": {},
   "source": [
    "### 3. Analyysi"
   ]
  },
  {
   "cell_type": "code",
   "execution_count": null,
   "id": "cbf49451",
   "metadata": {},
   "outputs": [],
   "source": []
  },
  {
   "cell_type": "code",
   "execution_count": null,
   "id": "b2bb63e2",
   "metadata": {},
   "outputs": [],
   "source": []
  },
  {
   "cell_type": "markdown",
   "id": "b39a4b1c",
   "metadata": {},
   "source": [
    "### 4. Arviointi"
   ]
  },
  {
   "cell_type": "code",
   "execution_count": null,
   "id": "cd3bfc2a",
   "metadata": {},
   "outputs": [],
   "source": []
  },
  {
   "cell_type": "code",
   "execution_count": null,
   "id": "5060f461",
   "metadata": {},
   "outputs": [],
   "source": []
  },
  {
   "cell_type": "markdown",
   "id": "e89bba90",
   "metadata": {},
   "source": [
    "### 5. Lähteet"
   ]
  },
  {
   "cell_type": "code",
   "execution_count": null,
   "id": "c1de3d4e",
   "metadata": {},
   "outputs": [],
   "source": []
  }
 ],
 "metadata": {
  "kernelspec": {
   "display_name": "Python 3 (ipykernel)",
   "language": "python",
   "name": "python3"
  },
  "language_info": {
   "codemirror_mode": {
    "name": "ipython",
    "version": 3
   },
   "file_extension": ".py",
   "mimetype": "text/x-python",
   "name": "python",
   "nbconvert_exporter": "python",
   "pygments_lexer": "ipython3",
   "version": "3.9.7"
  }
 },
 "nbformat": 4,
 "nbformat_minor": 5
}
