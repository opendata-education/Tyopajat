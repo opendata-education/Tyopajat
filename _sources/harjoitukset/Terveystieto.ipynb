{
 "cells": [
  {
   "cell_type": "markdown",
   "id": "6ca8b903-556c-4ae8-8370-ca603c5c81a4",
   "metadata": {},
   "source": [
    "# <u>Terveysongelmien jakautuminen muuttuvassa maailmassa</u>"
   ]
  },
  {
   "cell_type": "markdown",
   "id": "3099a052-44ca-4acb-9d89-b94ae762ac52",
   "metadata": {},
   "source": [
    "*The Global Burden of Disease* on suuri maailmanlaajuinen tutkimus, jossa tutkittiin kuolleisuutta ja sairauksia arvioimalla erilaisia syitä ja ja riskitekijöitä. Tutkimuksen tulokset julkaistiin lääketieteen *The Lancet* -huippulehdessä vuonna 2021. Tähän datasettiin on kerätty tiedot eri riskitekijöiden mahdollisesti aiheuttamista kuolemista muutaman viimeisen vuosikymmenen ajalta.\n",
    "\n",
    "Ilmanlaadulla on suuri vaikutus ihmisten terveyteen, ja ilmanlaatua voidaankin tarkastella erikseen myös ulkoilman sekä sisäilman osalta. On yleistä, että etenkin matalamman tulotason maissa ruuanlaitossa ja lämmityksessä käytetään kiinteitä polttoaineita, kuten satojätteitä, lantaa, puuta ja hiiltä, joiden polttaminen synnyttää aerosolipäästöjä ja siten heikentää sisäilmanlaatua. Näitä kiinteitä polttoaineita käytetään, koska parempia vaihtoehtoja joko ei ole saatavilla tai ne ovat liian kalliita.\n",
    "\n",
    "Alkuperäiseen aineistoon pääsee kirjautumalla sivulle [https://vizhub.healthdata.org/gbd-results/](https://vizhub.healthdata.org/gbd-results/), mutta aineistoja saa myös visualisoitua näppärästi Our World in Data -sivuston kautta osoitteessa [https://ourworldindata.org/grapher/number-of-deaths-by-risk-factor](https://ourworldindata.org/grapher/number-of-deaths-by-risk-factor). \n",
    "\n",
    "Tämän harjoitteen kannalta lähdemme kuitenkin kokeilemaan vähän omakätisemmin aineiston käsittelyä."
   ]
  },
  {
   "cell_type": "markdown",
   "id": "e2060547-65a2-46b2-b953-00f86f6730b2",
   "metadata": {},
   "source": [
    "### 1. Työkalut"
   ]
  },
  {
   "cell_type": "code",
   "execution_count": null,
   "id": "c0e518d7-bbce-47e9-8998-c374b0579a67",
   "metadata": {},
   "outputs": [],
   "source": [
    "# Aja tämä solu ensin.\n",
    "import pandas as pd\n",
    "import numpy as np\n",
    "import matplotlib.pyplot as plt"
   ]
  },
  {
   "cell_type": "markdown",
   "id": "988fade0-fa7f-4051-b27f-2fc05ed131ce",
   "metadata": {},
   "source": [
    "### 2. Aineisto"
   ]
  },
  {
   "cell_type": "markdown",
   "id": "acd3893b-5c67-4784-98e1-e1702d562c96",
   "metadata": {},
   "source": [
    "Alla oleva GBD-aineisto kattaa noin vuodet 1990-2019. "
   ]
  },
  {
   "cell_type": "code",
   "execution_count": null,
   "id": "5c82769a-c9db-4b17-bdbf-6405157d0621",
   "metadata": {
    "scrolled": true
   },
   "outputs": [],
   "source": [
    "data = pd.read_csv('https://raw.githubusercontent.com/opendata-education/Tyopajat/main/materiaali/data/number-of-deaths-by-risk-factor.csv')"
   ]
  },
  {
   "cell_type": "code",
   "execution_count": null,
   "id": "7d58d0bb-133a-4013-b7e0-d0db149d7862",
   "metadata": {},
   "outputs": [],
   "source": [
    "# Vilkaistaan yleisesti materiaalin muotoa.\n",
    "data"
   ]
  },
  {
   "cell_type": "markdown",
   "id": "71c28e20-d3fc-460e-a69d-c61e32208db6",
   "metadata": {},
   "source": [
    "Huomaamme, että aineistossa on tuhansia rivejä ja enemmän sarakkeita kuin mahtuu helposti näkyviin. Kaivetaan niiden sisällöt esiin helpommin luettaviksi listoiksi."
   ]
  },
  {
   "cell_type": "code",
   "execution_count": null,
   "id": "c5af61bf-2e85-44ca-9021-323247831e34",
   "metadata": {
    "scrolled": true
   },
   "outputs": [],
   "source": [
    "# Luetellaan uniikit alueet, jotka Entity-sarake sisältää.\n",
    "data[\"Entity\"].unique()"
   ]
  },
  {
   "cell_type": "code",
   "execution_count": null,
   "id": "936762ae-883d-430d-a96c-29b3373f5096",
   "metadata": {},
   "outputs": [],
   "source": [
    "# Samaten listataan kaikki sarakkeiden nimet, jotta tiedämme mitä alamme kutsumaan.\n",
    "data.columns"
   ]
  },
  {
   "cell_type": "markdown",
   "id": "960ff58a-0f5e-4a11-9b95-600d5e98b13b",
   "metadata": {},
   "source": [
    "### 3. Analyysi"
   ]
  },
  {
   "cell_type": "markdown",
   "id": "344f1dac-66b4-46d4-9378-afc4f85e3c94",
   "metadata": {},
   "source": [
    "Nyt tiedämme alustavasti, mitä maita ja suureita tarkastelemamme aineisto sisältää. Tältä pohjalta pystymme rajaamaan käsittelemäämme tietoa relevantteihin palasiin kulloisenkin mielenkiinnonkohteemme mukaan."
   ]
  },
  {
   "cell_type": "code",
   "execution_count": null,
   "id": "ab94627d-12a4-42f8-a3d2-77bf5314d666",
   "metadata": {},
   "outputs": [],
   "source": [
    "# Valitaan yksittäinen alue uudeksi muuttujaksi. Voit vaihtaa aluetta vapaasti.\n",
    "# Tämän harjoituksen monet muut solut nojaavat tässä tehtyyn valintaan.\n",
    "valinta = data.query('Entity == \"European Region (WHO)\"')\n",
    "\n",
    "# Tässä korjataan alkuperäiset rivi-indeksit pois ihan vain estetiikan nimissä.\n",
    "valinta = valinta.reset_index(drop = True)"
   ]
  },
  {
   "cell_type": "code",
   "execution_count": null,
   "id": "3edce6b8-6b9e-4118-888b-32fed6ce960d",
   "metadata": {},
   "outputs": [],
   "source": [
    "valinta"
   ]
  },
  {
   "cell_type": "markdown",
   "id": "ed7dbe90-1181-46a3-ae99-53b4d622a112",
   "metadata": {},
   "source": [
    "Yksinkertaisimmillaan haluaisimme jonkin kiinnostavan suureen kuvaajaksi. Otetaan yksi sarake tietoa ja kuvataan se aika-akselin kanssa."
   ]
  },
  {
   "cell_type": "code",
   "execution_count": null,
   "id": "f9582c81-8626-4303-9ab1-17acfbc0fdd5",
   "metadata": {},
   "outputs": [],
   "source": [
    "plt.plot(valinta[\"Year\"], valinta[\"Alcohol use\"])\n",
    "plt.show()"
   ]
  },
  {
   "cell_type": "markdown",
   "id": "addb9dff-75f2-4df7-be96-2d5d80122891",
   "metadata": {},
   "source": [
    "Hyvässä kuvaajassa on toki selitteet mukana, eli lisätään vähän tarkkuutta."
   ]
  },
  {
   "cell_type": "code",
   "execution_count": null,
   "id": "5643ac84-a3ec-4e05-b86a-ec0994acbfe1",
   "metadata": {},
   "outputs": [],
   "source": [
    "# Asetetaan mittasuhteet.\n",
    "plt.figure(figsize = (10,5))\n",
    "\n",
    "# Piirretään käyrät.\n",
    "plt.plot(valinta[\"Year\"], valinta[\"Alcohol use\"], label = \"Alkoholi\", color = \"green\")\n",
    "\n",
    "# Määritetään selitteet.\n",
    "plt.title(\"Alkoholinkäytön aiheuttamat kuolemat valitulla alueella \\n\", fontsize = 20)\n",
    "plt.ylabel(\"Kuolleet (n)\", fontsize = 15)\n",
    "plt.xlabel(\"\\n Vuosi\", fontsize = 15)\n",
    "plt.legend(fontsize = 15)\n",
    "\n",
    "# Näytetään tuotos.\n",
    "plt.show()"
   ]
  },
  {
   "cell_type": "markdown",
   "id": "ccb8ef0b-bb9b-4d73-bf2f-180dbdd3d7c0",
   "metadata": {},
   "source": [
    "Meidän ei toki tarvitse rajoittua yhteen suureeseen, vaan voimme piirtää niitä useampia rinnakkain samaan kuvaan. Voimme samalla huomata tehokkaan tietojenkäsittelijän olevan hieman laiska, eli kirjoittavan koodiaan sellaisella tavalla jossa muutettavia nimiä tarvitsee muuttaa vain yhdessä kohtaa. Kirjoittamalla suureisiin eri sarakeotsikoiden nimiä voit helposti vaihtaa kuvaajan sisältöä."
   ]
  },
  {
   "cell_type": "code",
   "execution_count": null,
   "id": "1ee7e848-91e4-4770-b570-572c45e4d4d7",
   "metadata": {},
   "outputs": [],
   "source": [
    "# Valitaan tarkasteltavat suureet\n",
    "suure1 = \"Outdoor air pollution\"\n",
    "suure2 = \"Household air pollution from solid fuels\"\n",
    "suure3 = \"Air pollution (indoor and outdoor)\"\n",
    "\n",
    "a = valinta[suure1]\n",
    "b = valinta[suure2]\n",
    "c = valinta[suure3]\n",
    "aika = valinta[\"Year\"]\n",
    "\n",
    "# Mittasuhteet.\n",
    "plt.figure(figsize = (10,5))\n",
    "\n",
    "# Piirrellään kuvaajia.\n",
    "plt.plot(aika, a, label = suure1)\n",
    "plt.plot(aika, b, label = suure2)\n",
    "plt.plot(aika, c, label = suure3)\n",
    "\n",
    "# Määritetään selitteet.\n",
    "plt.title(\"Eri syistä seuranneet kuolemat valitulla alueella \\n\", fontsize = 20)\n",
    "plt.ylabel(\"Kuolleet (n)\", fontsize = 15)\n",
    "plt.xlabel(\"\\n Vuosi\", fontsize = 15)\n",
    "plt.legend(fontsize = 15)\n",
    "\n",
    "plt.legend()\n",
    "plt.show()"
   ]
  },
  {
   "cell_type": "markdown",
   "id": "3f54c1f1-f09a-4567-a9a3-8b77056eda8f",
   "metadata": {},
   "source": [
    "Kuvaajan ohella saattaisimme haluta tarkastella yksittäisen vuoden tietoja helpommin luettavassa muodossa. Tätä varten jatkamme aineiston paloittelua ehtolauseilla, kuten vuosiluvun vastaavuudella."
   ]
  },
  {
   "cell_type": "code",
   "execution_count": null,
   "id": "4b6f6ef7-64fe-4b44-b90b-943262fa707e",
   "metadata": {},
   "outputs": [],
   "source": [
    "# Vaihda tästä haluamasi vuosiluku.\n",
    "vuosi = 1990\n",
    "\n",
    "tiedot = valinta.query('Year == @vuosi')\n",
    "tiedot"
   ]
  },
  {
   "cell_type": "markdown",
   "id": "676068f1-a7e3-4a30-849e-4f9b94ad5693",
   "metadata": {},
   "source": [
    "Yllä näkyvä rivi on yhä dataframe-muodossa. Repäistään rivi irti luettavaksi hieman yksinkertaisempana oliona."
   ]
  },
  {
   "cell_type": "code",
   "execution_count": null,
   "id": "04176bfd-e111-4db5-9278-ae21e8f1652b",
   "metadata": {},
   "outputs": [],
   "source": [
    "# Otetaan halutulla rivillä olleet tiedot, nyt vain neljännestä sarakkeesta eteenpäin.\n",
    "rivi = tiedot.iloc[0][3:]\n",
    "print(rivi)"
   ]
  },
  {
   "cell_type": "markdown",
   "id": "efbc4ede-55d0-444f-ab8c-b641ba717166",
   "metadata": {},
   "source": [
    "Ylläoleva tuotos on sinänsä selkeä, mutta jos meillä olisi vaikkapa tuhat tarkempaa saraketta, meidän pitäisi silti järjestellä asioita uudelleen. Laitetaan tiedot suuruusjärjestykseen."
   ]
  },
  {
   "cell_type": "code",
   "execution_count": null,
   "id": "ee4e8932-e473-4416-b01c-7f1a52708116",
   "metadata": {},
   "outputs": [],
   "source": [
    "jarjestys = rivi.sort_values(ascending=False)\n",
    "print(jarjestys)"
   ]
  },
  {
   "cell_type": "markdown",
   "id": "77ddca01-c9e4-4432-bc07-4e3bc636de6c",
   "metadata": {},
   "source": [
    "Erinomaista, olemme nyt siis saaneet listattua tietyn valitsemamme alueen tietyn vuoden tärkeimmät kuolemaan johtaneet riskitekijät. Mutta entä jos pyrkisimme automatisoimaan tällaista maksimiarvon etsimistä vielä hieman? Voisimme laittaa tietokoneen ilmoittamaan meille esimerkiksi seuraavaa:"
   ]
  },
  {
   "cell_type": "code",
   "execution_count": null,
   "id": "258aa675-99af-4d55-a5d2-078bf1794658",
   "metadata": {},
   "outputs": [],
   "source": [
    "print(f\"Vuoden {vuosi} suurin vaikutus oli {str(rivi.max())}, kohdassa '{str(rivi.idxmax())}'.\")"
   ]
  },
  {
   "cell_type": "markdown",
   "id": "429b24a4-1fb1-41b1-b58f-eecfdc28259e",
   "metadata": {},
   "source": [
    "Luvut saattavat olla myös joskus helpommin hahmotettavissa toisella tavoin kuvattuina."
   ]
  },
  {
   "cell_type": "code",
   "execution_count": null,
   "id": "d56cf43c-b22b-4592-9742-2a23fce393c5",
   "metadata": {},
   "outputs": [],
   "source": [
    "plt.figure(figsize = (15,5))\n",
    "ax = jarjestys.plot.barh()\n",
    "ax.bar_label(ax.containers[0], padding = 3)\n",
    "plt.title(f\"Kuolemaan johtaneet riskitekijät valitulla alueella {vuosi} \\n\", fontsize = 20)\n",
    "plt.xlabel(\"\\n Kuolleisuus (miljoonaa ihmistä)\", fontsize = (15))\n",
    "plt.show()"
   ]
  },
  {
   "cell_type": "markdown",
   "id": "232f2ff0-f3f8-443d-9857-77446fdfe2a6",
   "metadata": {},
   "source": [
    "# Tee itse!"
   ]
  },
  {
   "cell_type": "markdown",
   "id": "b5514dd8-1096-4aa9-8a56-bb38cebd0da3",
   "metadata": {},
   "source": [
    "Voit vapaasti vaihdella ylläolevia alue- tai riskitekijäsarakevalintojen nimiä ja ajaa koodia uudelleen. Tai voit kirjoittaa omaa koodiasi, joko tähän alle tai lisäilemällä soluja halusi mukaan pitkin matkaa. Alla on muutamia kiinnostavia mahdollisuuksia tutkiskeltaviksi:\n",
    "\n",
    "- Vertaile yksittäisen valtion tuloksia omaan maanosaansa (Suomi vs. Eurooppa, Angola vs. Afrikka jne.).\n",
    "- Vertaile taloudellisesti kehittyneitä valtioita köyhempiin valtioihin (Saksa vs. Zimbabwe, Yhdysvallat vs. Intia jne.).\n",
    "- Vertaile ilmastoltaan erilaisten alueiden kärkitekijöitä toisiinsa (Norja vs. Irak).\n",
    "- Tutki miten yksittäisen valtion riskitekijöiden kehitys on kulkenut 30 vuoden aikana."
   ]
  },
  {
   "cell_type": "code",
   "execution_count": null,
   "id": "853c5e72-3a01-484c-b130-23f9c80768c9",
   "metadata": {},
   "outputs": [],
   "source": [
    "# Koodaile tähän. Lisää soluja saa plusnapista tai b-näppäimellä kun et ole aktiivisen solun sisällä."
   ]
  },
  {
   "cell_type": "code",
   "execution_count": null,
   "id": "3b224d5f-1815-4ab6-bde2-d2efa279186e",
   "metadata": {},
   "outputs": [],
   "source": []
  },
  {
   "cell_type": "code",
   "execution_count": null,
   "id": "ba4dcef1-06dd-4364-bed6-78fee03bb168",
   "metadata": {},
   "outputs": [],
   "source": []
  }
 ],
 "metadata": {
  "kernelspec": {
   "display_name": "Python 3 (ipykernel)",
   "language": "python",
   "name": "python3"
  },
  "language_info": {
   "codemirror_mode": {
    "name": "ipython",
    "version": 3
   },
   "file_extension": ".py",
   "mimetype": "text/x-python",
   "name": "python",
   "nbconvert_exporter": "python",
   "pygments_lexer": "ipython3",
   "version": "3.12.4"
  }
 },
 "nbformat": 4,
 "nbformat_minor": 5
}
