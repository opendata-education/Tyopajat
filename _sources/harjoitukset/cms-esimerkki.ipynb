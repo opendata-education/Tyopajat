{
 "cells": [
  {
   "cell_type": "markdown",
   "metadata": {},
   "source": [
    "# CMS ja avoin data"
   ]
  },
  {
   "cell_type": "markdown",
   "metadata": {},
   "source": [
    "CERN:n CMS-kokeessa törmäytetään protoneita toisiinsa ja tutkitaan, mitä hiukkasia törmäyksessä syntyy. Törmäystapahtumista kertyy valtava määrä dataa, jota on julkaistu myös avoimesti saataville [CERN:n avoin data portaalissa](https://opendata.cern.ch/). Tässä harjoituksessa tutustutaan siihen, mitä nämä datasetit sisältävät ja mitä niiden avulla voitaisiin selvittää. Tämä tarjoaa oppilaille mainion tilaisuuden kokeilla oikean tieteen metodeja autenttisilla mittaustuloksilla."
   ]
  },
  {
   "cell_type": "markdown",
   "metadata": {},
   "source": [
    "## 1. Datan hakeminen"
   ]
  },
  {
   "cell_type": "markdown",
   "metadata": {},
   "source": [
    "Aloitetaan hakemalla data. Data on ladattu CERN:n avoin data portaalista ja tallennettu samaan hakemistoon tämän notebookin kanssa. Tarkastellaan datatiedostoa **Dimuon_DoubleMu.csv**, joka sisältää dataa törmäystapahtumista, joissa on havaittu kaksi myonia."
   ]
  },
  {
   "cell_type": "code",
   "execution_count": null,
   "metadata": {},
   "outputs": [],
   "source": [
    "# Aloitetaan hakemalla tarvittavat python-paketit import-komennolla\n",
    "# Voit suorittaa koodisolut Run-painikkeella tai paina CTRL+ENTER.\n",
    "\n",
    "import pandas as pd\n",
    "import matplotlib.pyplot as plt"
   ]
  },
  {
   "cell_type": "code",
   "execution_count": null,
   "metadata": {},
   "outputs": [],
   "source": [
    "# Luetaan datatiedoston sisältö ja tallennetaan tiedot muuttujaan \"kaksi_myonia\"\n",
    "\n",
    "kaksi_myonia = pd.read_csv('Dimuon_DoubleMu.csv')"
   ]
  },
  {
   "cell_type": "code",
   "execution_count": null,
   "metadata": {
    "scrolled": true
   },
   "outputs": [],
   "source": [
    "# Tarkastellaan miltä data näyttää\n",
    "\n",
    "kaksi_myonia.head()"
   ]
  },
  {
   "cell_type": "markdown",
   "metadata": {},
   "source": [
    "Datatiedostotta näyttäisi olevan paljon tietoa. Jokainen rivi vastaa yhtä törmäystapahtumaa, jossa on havaittu kaksi myonia. Rivillä on aina mittausdataa molemmista havaitusta myonista. Esimerkiksi *E* tarkoittaa myonin energiaa ja *p* liikemäärää. Viimeinen sarake *M* viittaa myoneiden *invarianttiin massaan*, jota tarkastellaan pian enemmän."
   ]
  },
  {
   "cell_type": "code",
   "execution_count": null,
   "metadata": {},
   "outputs": [],
   "source": [
    "# Katsotaan vielä, kuinka monta riviä dataa tiedostossa on\n",
    "\n",
    "len(kaksi_myonia)"
   ]
  },
  {
   "cell_type": "markdown",
   "metadata": {},
   "source": [
    "## 2. Invariantti massa & histogrammi"
   ]
  },
  {
   "cell_type": "markdown",
   "metadata": {},
   "source": [
    "Aiemmasta tutkimuksesta tiedetään, että monet eri hiukkaset voivat hajota kahdeksi myoniksi ja että alkuperäinen hiukkanen voidaan tunnistaa laskemalla myoneiden niin sanottu **invariantti massa**. CMS-detektorilla voidaan mitata mm. myoneiden energia ja liikemäärä. Kun nämä suureet tiedetään, myoneiden invariantti massa on\n",
    "\n",
    "$M = \\sqrt{(E_1 + E_2)^2 - \\|\\textbf{p}_1 + \\textbf{p}_2 \\| ^2}$.\n",
    "\n",
    "Mikäli myonit olivat peräisin yhden hiukkasen hajoamisesta, myoneiden invariantti massa vastaa tämän hiukkasen massaa. Jos taas myonit eivät olleet peräisin samasta hiukkasesta, invariantin massan arvo ei merkitse mitään.\n",
    "\n",
    "Kun protonit törmäävät hiukkaskiihdyttimessä, vapautuu valtava määrä energiaa, joka muuttuu uusiksi hiukkasiksi. Törmäyksessä voisi syntyä esimerkiksi Z-bosoni, joka on kuitenkin niin lyhytikäinen, että se hajoaa nopeasti toisiksi hiukkasiksi, esimerkiksi kahdeksi myoniksi. Nämä myonit havaitaan hiukkasilmaisimessa ja myoneille lasketun invariantin massan avulla pääsemme käsiksi \"emohiukkasen\" eli tässä tapauksessa Z-bosonin massaan.\n",
    "\n",
    "Histogrammi on erinomainen työkalu hiukkasfysiikan tutkimuksessa. Tekemällä histogrammin invarianttien massojen arvosta, voimme erottaa merkityksettömistä taustatapahtumista ne tapahtumat, jotka ovat kiinnostavia. Eikun tutkimaan!"
   ]
  },
  {
   "cell_type": "code",
   "execution_count": null,
   "metadata": {},
   "outputs": [],
   "source": [
    "# Invariantti massa voitaisiin laskea ylläolevan kaavan avulla.\n",
    "# Se löytyy kuitenkin valmiiksi laskettuna jo datasetin viimeisestä sarakkeesta \"M\", joten käytetään sitä.\n",
    "# Tallennetaan invarianttien massojen sarake omaan muuttujaan\n",
    "invariantti_massa = kaksi_myonia['M']\n",
    "\n",
    "# Piirretään histogrammi kahden myonin invarianteista massoista 300 pylväällä\n",
    "fig = plt.figure(figsize=(15, 10))\n",
    "plt.hist(invariantti_massa , bins=300)\n",
    "\n",
    "# Näillä riveillä määritellään otsikko sekä akseleiden tekstit.\n",
    "plt.xlabel('Invariantti massa [GeV/c²]', fontsize=15)\n",
    "plt.ylabel('Tapahtumien lukumäärä', fontsize=15)\n",
    "plt.title('Kahden myonin invariantti massa', fontsize=15)\n",
    "\n",
    "# Näytetään kuvaaja\n",
    "plt.show()"
   ]
  },
  {
   "cell_type": "markdown",
   "metadata": {},
   "source": [
    "Huomataan, että muutamilla invariantin massan arvoilla histogrammiin syntyy piikki. Nämä piikit vastaavat emohiukkasten massaa, joista kaksi myonia ovat peräisin. Tutkitaan tarkemmin histogrammin väliä 80 GeV - 100 GeV."
   ]
  },
  {
   "cell_type": "code",
   "execution_count": null,
   "metadata": {},
   "outputs": [],
   "source": [
    "# Piirretään histogrammi kahden myonin invarianteista massoista 100 pylväällä välillä 80 GeV - 100 GeV\n",
    "fig = plt.figure(figsize=(15, 10))\n",
    "plt.hist(invariantti_massa , bins=100, range=(80,100))\n",
    "\n",
    "# Näillä riveillä määritellään otsikko sekä akseleiden tekstit.\n",
    "plt.xlabel('Invariantti massa [GeV/c²]', fontsize=15)\n",
    "plt.ylabel('Tapahtumien lukumäärä', fontsize=15)\n",
    "plt.title('Kahden myonin invariantti massa', fontsize=15)\n",
    "\n",
    "# Näytetään kuvaaja\n",
    "plt.show()"
   ]
  },
  {
   "cell_type": "markdown",
   "metadata": {},
   "source": [
    "Huomataan, että datasta erottuu selkeä piikki noin 91 GeV kohdalla. Tämä johtuu siitä, taustatapahtumissa syntyvien kahden myonin lisäksi syntyy paljon sellaisia tapahtumia, joissa myonien invariantti massa on lähellä 91 GeV:iä. Tämä tarkoittaa sitä, että myonit ovat peräisin johtain hiukkasesta, jonka massa on 91 GeV. Tämä hiukkanen tunnetaan nimellä Z-bosoni."
   ]
  },
  {
   "cell_type": "markdown",
   "metadata": {},
   "source": [
    "Kokeile itse etsiä alkuperäisestä datasta toinen piikki, ja katso löydätkö jonkin toisen hiukkasen! Mikä hiukkanen voisi olla kyseessä?"
   ]
  }
 ],
 "metadata": {
  "kernelspec": {
   "display_name": "Python 3",
   "language": "python",
   "name": "python3"
  },
  "language_info": {
   "codemirror_mode": {
    "name": "ipython",
    "version": 3
   },
   "file_extension": ".py",
   "mimetype": "text/x-python",
   "name": "python",
   "nbconvert_exporter": "python",
   "pygments_lexer": "ipython3",
   "version": "3.8.5"
  }
 },
 "nbformat": 4,
 "nbformat_minor": 2
}
