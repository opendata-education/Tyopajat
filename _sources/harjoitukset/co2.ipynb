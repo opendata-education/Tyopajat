{
 "cells": [
  {
   "cell_type": "markdown",
   "metadata": {},
   "source": [
    "# Maapallon ilmakehä ja sen hiilidioksidipitoisuus"
   ]
  },
  {
   "cell_type": "markdown",
   "metadata": {},
   "source": [
    "### Miten Maan ilmakehä on syntynyt? Minkälainen se on nykyään?"
   ]
  },
  {
   "cell_type": "markdown",
   "metadata": {},
   "source": [
    "| Planeetta | Ilmanpaine (bar) | CO2 (%) | O2 (%) | N2 (%) | H2O (%) | Pintalämpötila (C) |\n",
    "| --- | --- | --- | --- | --- | --- | --- | \n",
    "| Venus | 92 | 96.5 | hyvin vähän | 3.5 | < 0.00003 | 464 |\n",
    "| Maa | 1 | 0.033 | 20 | 78 | < 3 | 14 |\n",
    "| Mars | 0.006 | 95.3 | hyvin vähän | 2.7 | < 0.0001 | -63 |"
   ]
  },
  {
   "cell_type": "markdown",
   "metadata": {},
   "source": [
    "### Maan ilmakehän hiilidioksidipitoisuus viimeisen 800 000 vuoden aikana"
   ]
  },
  {
   "cell_type": "code",
   "execution_count": null,
   "metadata": {},
   "outputs": [],
   "source": [
    "import pandas as pd\n",
    "import matplotlib.pyplot as plt\n",
    "import numpy as np"
   ]
  },
  {
   "cell_type": "code",
   "execution_count": null,
   "metadata": {},
   "outputs": [],
   "source": [
    "ilmasto_data = pd.read_csv('https://raw.githubusercontent.com/opendata-education/Tyopajat/main/materiaali/data/ilmakehan_pitoisuudet.csv')\n",
    "ilmasto_data.head(-1)"
   ]
  },
  {
   "cell_type": "code",
   "execution_count": null,
   "metadata": {},
   "outputs": [],
   "source": [
    "ilmasto = ilmasto_data[(ilmasto_data['Entity']=='World')]\n",
    "\n",
    "vuosi = ilmasto['Year']\n",
    "co2 = ilmasto['CO2 concentrations']"
   ]
  },
  {
   "cell_type": "code",
   "execution_count": null,
   "metadata": {},
   "outputs": [],
   "source": [
    "plt.figure(figsize = (20, 10))\n",
    "\n",
    "plt.plot(vuosi, co2)\n",
    "\n",
    "plt.title('Otsikko')\n",
    "plt.xlabel('x-akselin nimi')\n",
    "plt.ylabel('y-akselin nimi')\n",
    "plt.xticks(rotation=90)\n",
    "\n",
    "#plt.xlim(-800000,2030)\n",
    "\n",
    "plt.show()"
   ]
  },
  {
   "cell_type": "markdown",
   "metadata": {},
   "source": [
    "***\n",
    "Komennon XYZ avulla voit tarkastella erilaisia ajankohtia ylemmästä kuvaajasta. Käykää vieruskaverin kanssa läpi seuraavat kysymykset:\n",
    "\n",
    "1. Millä tavalla CO2-pitoisuus on muuttunut viimeisen 2000 vuoden aikana?\n",
    "2. Löydätkö kuvaajasta xlim-komennon vuosia vaihtamalla sen kohdan, milloin säännöllisten mittausten ottaminen on aloitettu?\n",
    "3. Jos mietitään ajanjaksoa ennen 1800-lukua, mikä on ollut korkein CO2-pitoisuus viimeisen 800 000 vuoden aikana? Milloin tämä korkein lukema on ollut?"
   ]
  },
  {
   "cell_type": "markdown",
   "metadata": {},
   "source": [
    "### CO2-pitoisuus lähihistoriasta ja muut kasvihuonekaasut"
   ]
  },
  {
   "cell_type": "code",
   "execution_count": null,
   "metadata": {},
   "outputs": [],
   "source": [
    "fossiiliset_polttoaineet_data = pd.read_csv('https://raw.githubusercontent.com/opendata-education/Tyopajat/main/materiaali/data/fossil-fuel-consumption-by-fuel-type.csv')\n",
    "\n",
    "fossiiliset_polttoaineet = fossiiliset_polttoaineet_data[(fossiiliset_polttoaineet_data['Entity']=='World')]\n",
    "fossiiliset_polttoaineet = fossiiliset_polttoaineet.reset_index(drop = True)\n",
    "fossiiliset_polttoaineet.head()\n",
    "\n",
    "yht = np.zeros(len(fossiiliset_polttoaineet))\n",
    "fossiiliset_polttoaineet[\"Yht\"] = yht\n",
    "\n",
    "for i in range(len(fossiiliset_polttoaineet)):\n",
    "    fossiiliset_polttoaineet[\"Yht\"][i] = (fossiiliset_polttoaineet['Gas Consumption - TWh'][i] + fossiiliset_polttoaineet['Coal Consumption - TWh'][i] + fossiiliset_polttoaineet['Oil Consumption - TWh'][i])\n",
    "\n",
    "\n",
    "fossiiliset_polttoaineet.head()\n"
   ]
  },
  {
   "cell_type": "code",
   "execution_count": null,
   "metadata": {},
   "outputs": [],
   "source": [
    "# Raportoidut katastrofit\n",
    "\n",
    "katastrofit_data = pd.read_csv('https://raw.githubusercontent.com/opendata-education/Tyopajat/main/materiaali/data/number-of-natural-disaster-events.csv')\n",
    "katastrofit = katastrofit_data[(katastrofit_data['Entity']=='All natural disasters')]\n",
    "katastrofit.head()"
   ]
  },
  {
   "cell_type": "code",
   "execution_count": null,
   "metadata": {},
   "outputs": [],
   "source": [
    "metaani = ilmasto['CH4 concentrations']\n",
    "typpi_oksidi = ilmasto['N2O concentrations']\n",
    "fossiiliset_kulutus = fossiiliset_polttoaineet['Yht']\n",
    "fossiiliset_vuosi = fossiiliset_polttoaineet['Year']\n",
    "katastrofit_maara = katastrofit['Number of disasters (EMDAT (2020))']\n",
    "katastrofit_vuosi = katastrofit['Year']"
   ]
  },
  {
   "cell_type": "code",
   "execution_count": null,
   "metadata": {},
   "outputs": [],
   "source": [
    "fig, ax1 = plt.subplots(figsize = (20,10))\n",
    "\n",
    "#########\n",
    "  \n",
    "ax1.set_xlabel('X1-axis') \n",
    "ax1.set_ylabel('Y1-axis', color = 'red', fontsize = 15)\n",
    "ax1.tick_params(axis ='y', labelcolor = 'red')\n",
    "\n",
    "ax2 = ax1.twinx() \n",
    "ax2.set_ylabel('Y2-axis', color = 'blue', fontsize = 15)  \n",
    "ax2.tick_params(axis ='y', labelcolor = 'blue') \n",
    "\n",
    "#########\n",
    "\n",
    "\n",
    "ax1.plot(vuosi, co2, label = 'co2', color = 'red')\n",
    "#ax2.plot(vuosi, metaani, label = 'metaani', color = 'blue') # metaanipitoisuuden yksikkö on ppb = parts per billion eli miljardisosa\n",
    "#ax2.plot(vuosi, typpi_oksidi, label = 'typpioksidi', color = 'black') # typpi-oksidipitoisuuden yksikkö on ppb\n",
    "#ax2.plot(fossiiliset_vuosi, fossiiliset_kulutus, label = 'fossiiliset', color = 'orange') # fossiilisten polttoaineiden kulutuksen yksikkö on TWh\n",
    "ax2.plot(katastrofit_vuosi, katastrofit_maara, label = 'katastrofit', color = 'purple') # raportoidut katastrofit\n",
    "\n",
    "#########\n",
    "\n",
    "\n",
    "plt.xlim(1900,2022)\n",
    "\n",
    "plt.title('Otsikko', fontsize = 20)\n",
    "plt.figlegend(loc = \"upper right\", fontsize = 15)\n",
    "\n",
    "plt.show()"
   ]
  },
  {
   "cell_type": "markdown",
   "metadata": {},
   "source": [
    "1. Pohdi katastrofien lkm -kuvaajan luotettavuutta"
   ]
  }
 ],
 "metadata": {
  "kernelspec": {
   "display_name": "Python 3",
   "language": "python",
   "name": "python3"
  },
  "language_info": {
   "codemirror_mode": {
    "name": "ipython",
    "version": 3
   },
   "file_extension": ".py",
   "mimetype": "text/x-python",
   "name": "python",
   "nbconvert_exporter": "python",
   "pygments_lexer": "ipython3",
   "version": "3.8.5"
  }
 },
 "nbformat": 4,
 "nbformat_minor": 4
}
