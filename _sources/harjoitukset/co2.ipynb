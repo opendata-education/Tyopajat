{
 "cells": [
  {
   "cell_type": "markdown",
   "metadata": {},
   "source": [
    "# ESIMERKKI 3: Maapallon ilmakehä"
   ]
  },
  {
   "cell_type": "markdown",
   "metadata": {},
   "source": [
    "Tutustutaan ihan ensimmäisenä siihen, miten Maan ilmakehä on syntynyt. Alla on esitetty karkea aikajana niistä asioista, joilla on ollut merkittävä vaikutus siihen miten meille on muodostunut näinkin harvinaislaatuinen ilmakehä. Voit avata kuvan uuteen välilehteen, jotta pääset suurentamaan sen isommaksi.\n",
    "\n",
    "Ilmakehän kehityksen osalta on tärkeää huomata, että meidän nykyinen biosfäärimme ylläpitää nykyistä ilmakehää, eikä päinvastoin. Happirikkaan ilmakehän muodostuminen on aiheuttanut merkittävän kriisin silloiselle elämälle, joka oli tottunut hiilidioksidipohjaiseen ilmakehään. Vastaavasti ylimääräisen hapin kerääntyminen ilmakehään, ja sitä kautta otsonikerroksen muodostuminen, on mahdollistanut uudenlaisen – hapen käyttöön pohjautuvan – elämän syntymisen ja elämän siirtymisen maalle. Jos jostain syystä nykyinen biosfääri muuttuisikin niin, että uutta happea ei enää muodostettaisi, ilmakehän happipitoisuus alkaisi laskea hiljakseen, kunnes se olisi poistunut ilmakehästä kokonaan.\n",
    "\n",
    "Meidän nykyinen ilmakehä onkin seurausta meidän kannalta onnekkaiden tapahtumien ketjusta. Kasvihuoneilmiötä on kiittäminen ilmakehän elinkaaren alkutaipaleilla, sillä ilman sitä Maapallolla ei todennäköisesti olisi ollut nestemäistä vettä. On arveltu, että hiilidioksidipitoisuus on voinut olla jopa 9000 ppm, mikä on hirvittävän korkea luku nykyiseen – siitä voidaankin siis kuvitella, kuinka merkittävä kasvihuoneilmiö on silloin ollut. Silloin Aurinko on ollut huomattavasti himmeämpi, todennäköisesti noin 70% nykyisestä, joten lämmittävälle vaikutukselle on todellakin ollut tarvetta. Tiesitkö, että ilman nykyistä ilmakehää Maapallon keskilämpötila olisi noin -18°C?\n",
    "\n",
    "![ilmakehan_synty](../kuvat/IMG_5773.jpg)"
   ]
  },
  {
   "cell_type": "markdown",
   "metadata": {},
   "source": [
    "***\n",
    "Vertaillaan myös Maapallon nykyistä ilmakehää planeettanaapureiden ilmakehiin.\n",
    "\n",
    "| Planeetta | Ilmanpaine (bar) | CO2 (%) | O2 (%) | N2 (%) | H2O (%) | Pintalämpötila (C) |\n",
    "| --- | --- | --- | --- | --- | --- | --- | \n",
    "| Venus | 92 | 96.5 | hyvin vähän | 3.5 | < 0.00003 | 464 |\n",
    "| Maa | 1 | 0.033 | 20 | 78 | < 3 | 14 |\n",
    "| Mars | 0.006 | 95.3 | hyvin vähän | 2.7 | < 0.0001 | -63 |"
   ]
  },
  {
   "cell_type": "markdown",
   "metadata": {},
   "source": [
    "### Hiilidioksidipitoisuus viimeisen 800 000 vuoden aikana\n",
    "\n",
    "Tarkastellaan [täältä](https://ourworldindata.org/atmospheric-concentrations) löytyvän datan avulla, miten Maan ilmakehän hiilidioksidipitoisuus on muuttunut viimeisen 800 000 vuoden aikana."
   ]
  },
  {
   "cell_type": "code",
   "execution_count": null,
   "metadata": {},
   "outputs": [],
   "source": [
    "# Otetaan tarvittavat kirjastot käyttöön ajamalla tämä solu\n",
    "\n",
    "import pandas as pd\n",
    "import matplotlib.pyplot as plt\n",
    "import numpy as np"
   ]
  },
  {
   "cell_type": "code",
   "execution_count": null,
   "metadata": {},
   "outputs": [],
   "source": [
    "# Ladataan datasetti ja kurkataan sisälle.\n",
    "\n",
    "ilmasto_data = pd.read_csv('https://raw.githubusercontent.com/opendata-education/Tyopajat/main/materiaali/data/ilmakehan_pitoisuudet.csv')\n",
    "ilmasto_data.head()"
   ]
  },
  {
   "cell_type": "code",
   "execution_count": null,
   "metadata": {},
   "outputs": [],
   "source": [
    "# Otetaan ne tiedot talteen, jotka koskettaa koko maapalloa.\n",
    "ilmasto = ilmasto_data[(ilmasto_data['Entity']=='World')]\n",
    "\n",
    "# Ja tallennetaan omiin muuttujiin x- ja y-akselille tulevat tiedot.\n",
    "vuosi = ilmasto['Year']\n",
    "co2 = ilmasto['CO2 concentrations'] # yksikkö on ppm = parts per million eli miljoonasosa"
   ]
  },
  {
   "cell_type": "code",
   "execution_count": null,
   "metadata": {},
   "outputs": [],
   "source": [
    "# Sitten piirretään kuvaaja.\n",
    "\n",
    "plt.figure(figsize = (20, 10)) # Voit muokata kuvaajan kokoa.\n",
    "\n",
    "plt.plot(vuosi, co2)\n",
    "\n",
    "plt.title('Otsikko') # Määritä kuvaajalle otsikko\n",
    "plt.xlabel('x-akselin nimi') # ja molempien akseleiden nimet ja yksiköt\n",
    "plt.ylabel('y-akselin nimi')\n",
    "plt.xticks(rotation=90)\n",
    "\n",
    "#plt.xlim(1700, 1800) # Tämän komennon avulla voit skaalata x-akselia, esimerkkinä näytetään 1700 - 1800 -luvut.\n",
    "\n",
    "plt.show()"
   ]
  },
  {
   "cell_type": "markdown",
   "metadata": {},
   "source": [
    "***\n",
    "**Pohdintaa**\n",
    "\n",
    "Komennon plt.xlim(min,max) avulla voit tarkastella erilaisia ajankohtia ylemmästä kuvaajasta. Käyttäkää kyseistä komentoa ja käykää vieruskaverin kanssa läpi seuraavat kysymykset:\n",
    "\n",
    "1. Millä tavalla CO2-pitoisuus on muuttunut viimeisen 2000 vuoden aikana?\n",
    "2. Löydätkö kuvaajasta xlim-komennon vuosia vaihtamalla sen kohdan, milloin säännöllisten mittausten ottaminen on aloitettu?\n",
    "3. Jos mietitään ajanjaksoa ennen 1800-lukua, mikä on ollut korkein CO2-pitoisuus viimeisen 800 000 vuoden aikana? Milloin tämä korkein lukema on ollut?"
   ]
  },
  {
   "cell_type": "markdown",
   "metadata": {},
   "source": [
    "### Hiilipitoisuuden vertailu muihin arvoihin\n",
    "\n",
    "***\n",
    "Tässä alla on muutama solu, joissa valmistellaan muutama datasetti valmiiksi vertailua varten. Voit ajaa solut ilman sen suurempaa tarkastelua."
   ]
  },
  {
   "cell_type": "code",
   "execution_count": null,
   "metadata": {},
   "outputs": [],
   "source": [
    "# Valmistellaan fossiilisien polttoaineiden kulutukseen liittyvä datasetti.\n",
    "\n",
    "# Tämän solun ajamisesta tulee punainen \"virheilmoitus\", mutta se ei menoa haittaa. Eteenpäin vain.\n",
    "\n",
    "fossiiliset_polttoaineet_data = pd.read_csv('https://raw.githubusercontent.com/opendata-education/Tyopajat/main/materiaali/data/fossil-fuel-consumption-by-fuel-type.csv')\n",
    "\n",
    "fossiiliset_polttoaineet = fossiiliset_polttoaineet_data[(fossiiliset_polttoaineet_data['Entity']=='World')]\n",
    "fossiiliset_polttoaineet = fossiiliset_polttoaineet.reset_index(drop = True)\n",
    "fossiiliset_polttoaineet.head()\n",
    "\n",
    "yht = np.zeros(len(fossiiliset_polttoaineet))\n",
    "fossiiliset_polttoaineet[\"Yht\"] = yht\n",
    "\n",
    "for i in range(len(fossiiliset_polttoaineet)):\n",
    "    fossiiliset_polttoaineet[\"Yht\"][i] = (fossiiliset_polttoaineet['Gas Consumption - TWh'][i] + fossiiliset_polttoaineet['Coal Consumption - TWh'][i] + fossiiliset_polttoaineet['Oil Consumption - TWh'][i])\n"
   ]
  },
  {
   "cell_type": "code",
   "execution_count": null,
   "metadata": {},
   "outputs": [],
   "source": [
    "# Valmistellaan raportoituihin katastrofeihin liittyvä datasetti.\n",
    "\n",
    "katastrofit_data = pd.read_csv('https://raw.githubusercontent.com/opendata-education/Tyopajat/main/materiaali/data/number-of-natural-disaster-events.csv')\n",
    "katastrofit = katastrofit_data[(katastrofit_data['Entity']=='All natural disasters')]"
   ]
  },
  {
   "cell_type": "code",
   "execution_count": null,
   "metadata": {},
   "outputs": [],
   "source": [
    "# Valmistellaan eri muuttujiin halutut tiedot dataseteistä valmiiksi.\n",
    "\n",
    "metaani = ilmasto['CH4 concentrations']\n",
    "typpi_oksidi = ilmasto['N2O concentrations']\n",
    "fossiiliset_kulutus = fossiiliset_polttoaineet['Yht']\n",
    "fossiiliset_vuosi = fossiiliset_polttoaineet['Year']\n",
    "katastrofit_maara = katastrofit['Number of disasters (EMDAT (2020))']\n",
    "katastrofit_vuosi = katastrofit['Year']"
   ]
  },
  {
   "cell_type": "code",
   "execution_count": null,
   "metadata": {},
   "outputs": [],
   "source": [
    "# Tyhjä koodisolu, jos lopuksi haluat lisätä omia kuvaajia tarkasteltavaksi."
   ]
  },
  {
   "cell_type": "markdown",
   "metadata": {},
   "source": [
    "Ja tähän loppuu datasettien valmistelu.\n",
    "***\n",
    "\n",
    "Nyt piirretään kuva, johon voidaan plotata samaan aikaan kaksi eri kuvaajaa. Ax1-komennolla ohjaillaan ensimmäistä kuvaajaa ja ax2-komennoilla toista kuvaajaa. Tarkoituksena on vertailla erilaisia käyriä aiemman hiilidioksidipitoisuus-käyrän kanssa. Alla on listattu valmiiksi neljä eri vaihtoehtoa toiselle kuvaajalle, joita voit vaihdella vapaasti sen mukaan, mikä rivi on näkyvillä ja mitkä kommentoitu piiloon.\n",
    "\n",
    "Vertailtavat kuvaajat ovat:\n",
    "1. [Ilmakehän metaanipitoisuus](https://ourworldindata.org/atmospheric-concentrations), yksikkö on ppb = parts per billion eli miljardisosa\n",
    "2. [Ilmakehän typpioksidipitoisuus](https://ourworldindata.org/atmospheric-concentrations), yksikkö on ppb\n",
    "3. [Globaali fossiilisten polttoaineiden kulutus](https://ourworldindata.org/fossil-fuels), yksikkö on TWh\n",
    "4. Globaali tilasto [raportoiduista luonnonkatastrofeista](https://ourworldindata.org/natural-disasters)"
   ]
  },
  {
   "cell_type": "code",
   "execution_count": null,
   "metadata": {},
   "outputs": [],
   "source": [
    "fig, ax1 = plt.subplots(figsize = (20,10))\n",
    "\n",
    "#########\n",
    "# Valmistellaan kuvaaja\n",
    "\n",
    "ax1.set_xlabel('X1-axis') \n",
    "ax1.set_ylabel('Y1-axis', color = 'red', fontsize = 15)\n",
    "ax1.tick_params(axis ='y', labelcolor = 'red')\n",
    "\n",
    "ax2 = ax1.twinx() \n",
    "ax2.set_ylabel('Y2-axis', color = 'blue', fontsize = 15) \n",
    "ax2.tick_params(axis ='y', labelcolor = 'blue') \n",
    "\n",
    "#########\n",
    "# Kuvaajavaihtoehdot\n",
    "\n",
    "ax1.plot(vuosi, co2, label = 'co2', color = 'red')\n",
    "#ax2.plot(vuosi, metaani, label = 'metaani', color = 'blue') # metaanipitoisuuden yksikkö on ppb = parts per billion eli miljardisosa\n",
    "#ax2.plot(vuosi, typpi_oksidi, label = 'typpioksidi', color = 'black') # typpi-oksidipitoisuuden yksikkö on ppb\n",
    "#ax2.plot(fossiiliset_vuosi, fossiiliset_kulutus, label = 'fossiiliset', color = 'orange') # fossiilisten polttoaineiden kulutuksen yksikkö on TWh\n",
    "ax2.plot(katastrofit_vuosi, katastrofit_maara, label = 'katastrofit', color = 'purple') # raportoidut katastrofit\n",
    "\n",
    "#########\n",
    "# Asetukset, kuten x-akselin skaalaus ja otsikointi.\n",
    "\n",
    "plt.xlim(1900,2022)\n",
    "\n",
    "plt.title('Otsikko', fontsize = 20)\n",
    "plt.figlegend(loc = \"upper right\", fontsize = 15)\n",
    "\n",
    "plt.show()"
   ]
  },
  {
   "cell_type": "markdown",
   "metadata": {},
   "source": [
    "**Pohdintaa**\n",
    "\n",
    "1. Miten metaani- ja typpioksidipitoisuus ovat muuttuneet lähivuosien aikana? Milloin näitä suureita on alettu mittaamaan tarkemmin? Löydätkö jotakin poikkeamia tai erilaisuuksia niistä verrattuna hiilidioksidikuvaajaan?\n",
    "2. Miten fossiilisten polttoaineiden kulutus on muuttunut? Onko sillä yhtenevyyttä hiilidioksidipitoisuuksien kanssa?\n",
    "1. Pohdi katastrofien lukumäärään liittyvän kuvaajan luotettavuutta? Miksi kuvaajan mukaan näyttäisi siltä, että ennen ei ole tapahtunut katastrofeja juuri lainkaan nykymäärään verrattuna?\n",
    "\n",
    "***\n",
    "\n",
    "Jos aikaa riittää, voit lisätä myös 1-2 muuta kuvaajaa tarkasteluun kirjoittamalla niille sopivat koodit. Voit kopioida tästä linkin datasettiin ja kirjoittaa koodin ylempänä olevaan tyhjään koodisoluun. Komennot kopioituvat aiemmista koodisoluista, kunhan vain kirjoittaa uudet muuttujat.\n",
    "\n",
    "1. Ihmisten elinajanodote (https://raw.githubusercontent.com/opendata-education/Tyopajat/main/materiaali/data/life-expectancy.csv)\n",
    "2. Globaalit hiilidioksidipäästöt, lukuarvot annettu tonneissa (https://raw.githubusercontent.com/opendata-education/Tyopajat/main/materiaali/data/annual-co2-emissions-per-country.csv)"
   ]
  }
 ],
 "metadata": {
  "kernelspec": {
   "display_name": "Python 3",
   "language": "python",
   "name": "python3"
  },
  "language_info": {
   "codemirror_mode": {
    "name": "ipython",
    "version": 3
   },
   "file_extension": ".py",
   "mimetype": "text/x-python",
   "name": "python",
   "nbconvert_exporter": "python",
   "pygments_lexer": "ipython3",
   "version": "3.8.5"
  }
 },
 "nbformat": 4,
 "nbformat_minor": 4
}
