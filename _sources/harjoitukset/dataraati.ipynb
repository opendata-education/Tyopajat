{
 "cells": [
  {
   "cell_type": "markdown",
   "metadata": {},
   "source": [
    "# Datan visualisointi -raati\n",
    "\n",
    "Edellisessä harjoituksessa tutustuttiin lämpötilapoikkeaman käsitteeseen ja pyöriteltiin siihen liittyvää dataa. Jääkiekkomaila on kuvaajana ihan OK, mutta millä tavalla samanlaista dataa on visualisoitu eri ihmisten toimesta?"
   ]
  },
  {
   "cell_type": "markdown",
   "metadata": {},
   "source": [
    "***\n",
    "**[Video 1](https://www.youtube.com/watch?v=C-FdOVGTZrk): Antti Lipponen / Ilmatieteenlaitos**\n",
    "\n",
    "Maittain esitetyt lämpötilapoikkeamat."
   ]
  },
  {
   "cell_type": "markdown",
   "metadata": {},
   "source": [
    "***\n",
    "**[Video 2](https://www.youtube.com/watch?v=jWFxoAhic1o): Antti Lipponen / Ilmatieteenlaitos**\n",
    "\n",
    "Ympyräkuvaaja, jossa esitetty lämpötilapoikkeamat maittain."
   ]
  },
  {
   "cell_type": "markdown",
   "metadata": {},
   "source": [
    "***\n",
    "**[Video 3](https://climate.nasa.gov/climate_resources/301/video-global-warming-broken-down-by-latitude-zone-1880-2021/): NASA**\n",
    "\n",
    "Lämpötilapoikkeamat Maapallon leveyskäyrien mukaan."
   ]
  },
  {
   "cell_type": "markdown",
   "metadata": {},
   "source": [
    "***\n",
    "**[Video 4](https://climate.nasa.gov/climate_resources/300/video-climate-spiral/): NASA**\n",
    "\n",
    "Kuukausittaiset lämpötilapoikkeamat esitetty spiraalin avulla."
   ]
  },
  {
   "cell_type": "markdown",
   "metadata": {},
   "source": [
    "***\n",
    "### Arviointi ja pisteytys\n",
    "\n",
    "Pisteyttäkää jokainen video arvosanoilla 1 - 5. Alla tukikysymyksiä, joiden avulla voidaan pohtia pisteytystä.\n",
    "\n",
    "1. Kuinka mielenkiintoinen video oli?\n",
    "2. Kuinka selkeästi asia tuli esille?\n",
    "3. Kuinka tärkeältä video sai asian tuntumaan?"
   ]
  }
 ],
 "metadata": {
  "kernelspec": {
   "display_name": "Python 3",
   "language": "python",
   "name": "python3"
  },
  "language_info": {
   "codemirror_mode": {
    "name": "ipython",
    "version": 3
   },
   "file_extension": ".py",
   "mimetype": "text/x-python",
   "name": "python",
   "nbconvert_exporter": "python",
   "pygments_lexer": "ipython3",
   "version": "3.8.5"
  }
 },
 "nbformat": 4,
 "nbformat_minor": 4
}
