{
 "cells": [
  {
   "cell_type": "markdown",
   "metadata": {},
   "source": [
    "# Mikä on Jupyter Notebook?"
   ]
  },
  {
   "cell_type": "markdown",
   "metadata": {},
   "source": [
    "Moi! Tämä alusta tässä on Jupyter Notebook. Täällä voit samassa dokumentissa käsitellä tekstiä, koodia, yhtälöitä, kuvia sekä data-aineistoja interaktiivisesti. Näppärää! Näitä dokumentteja kutsutaan notebookeiksi.\n",
    "\n",
    "Kuten varmaan jo huomasit, tämä alusta toimii sinun internet-selaimessa. Se mahdollistaa oppilaille suunnattujen tehtävien helpon jakamisen ilman kömpelöä välivaihetta, jossa ohjelmistoja pitää ladata ja niiden opettelu vie hirveästi aikaa. Tämän alustan etuja on ehdottomasti helppokäyttöisyys.\n",
    "\n",
    "Jupyter Notebookia voi käyttää myös *lokaalisti*, eli asentamalla ohjelman omalle tietokoneelle. Silloinkin tisamalleen samanlainen alusta avautuu selaimeen, mutta voit käyttää sinun koneella olevia tiedostoja suoraan tai tallentaa keskeneräisen tiedoston omalle koneelle. Tämä on kannattavaa silloin, kun haluat luoda omia tehtäviä tai tarkastaa oppilaiden tekemiä vastauksia, jotka sisältävät koodia tai dataa. Esimerkiksi Anaconda-Navigator sisältää Jupyter Notebookin.\n",
    "\n",
    "Jupyter Notebookien kanssa työskennellessä on hyvä muistaa, että nämä virtuaaliset (ei koske lokaalia työskentelyä) \"sessiot\" vanhentuvat, jos et ole aktiivinen kymmeneen minuuttiin. Jos uudelleen käynnistys ei onnistu, niin siinä tapauksessa muokatun tiedoston voi vielä tallentaa, jolloin siihen voi palata sitä kautta uudelleen.\n",
    "\n",
    "Yläpalkista löytyy kaikki tarpeellinen – voit tallentaa tiedoston ja luoda checkpointteja, lisätä tai poistaa uusia soluja, liikutella soluja ylös tai alas sekä ajaa/suorittaa soluja. Alasvetovalikosta voit valita, onko muokkaamasi solu tekstisolu (markdown) vai koodisolu (code).\n",
    "\n",
    "Jos haluat muokata jotain yksittäistä solua, sen saa editointitilaan tuplaklikkaamalla solua. Muokatun solun voit suorittaa Run-painikkeella tai pikakomentona Control + Enter (Mac: Command + Enter)."
   ]
  },
  {
   "cell_type": "code",
   "execution_count": null,
   "metadata": {},
   "outputs": [],
   "source": [
    "# Tältä näyttää koodisolu. Risuaidalla voit kirjoittaa koodisoluun kommentteja tai ohjeita.\n",
    "# Esimerkin vuoksi tehdään pieni laskutoimitus\n",
    "\n",
    "a = 1+1 # muuttuja 'a' sisältää nyt laskutoimituksen 1+1\n",
    "print(a) # tulostetaan muuttuja 'a' näkyviin, jolloin nähdään laskutoimituksen lopputulos."
   ]
  },
  {
   "cell_type": "markdown",
   "metadata": {},
   "source": [
    "Ylhäällä on koodisolu, joka sisältää pienen laskutoimituksen. Voit suorittaa solun, jolloin sen alapuolelle tulostuu kaikki, mitä koodisolussa käsketään tulostaa. Jos ihan vasemmalla olevissa hakasulkeissa on __In [\\*]__, niin solun suorittaminen on vielä kesken. Suoritetun koodisolun kohdalla hakasulkeisiin tulee numero, josta näkee, missä järjestyksessä solut on suoritettu. Jos suoritit ylempänä olevan solun kerran, hakasulkeissa pitäisi olla 1, jos suoritat sen saman solun nyt toisen kerran, siihen pitäisi tulla 2."
   ]
  },
  {
   "cell_type": "markdown",
   "metadata": {},
   "source": [
    "### Tehtävä: Muokkaa tätä tekstisolua – lisää alle lause, jossa kerrot minkälainen sää on tänään."
   ]
  },
  {
   "cell_type": "markdown",
   "metadata": {},
   "source": [
    "### Tehtävä: Kokeile lisätä alle uusi koodisolu ja laske jokin mielivaltainen summa muuttujaan b."
   ]
  },
  {
   "cell_type": "markdown",
   "metadata": {},
   "source": [
    "## 1. Funktiokirjastot"
   ]
  },
  {
   "cell_type": "markdown",
   "metadata": {},
   "source": [
    "Pythonia käytettäessä hyödynnetään erilaisia paketteja, joista kukin sisältää oman valikoimansa erilaisia funktioita. Meillä yleisimmin käytössä olevat paketit ovat\n",
    "- __numpy__, sisältää numeerisen laskennan työkaluja\n",
    "- __pandas__, sisältää työkaluja datan lukemiseen\n",
    "- __matplotlib.pyplot__, sisältää kuvaajien piirtotyökaluja\n",
    "\n",
    "Jokainen haluttu paketti voidaan tuoda erikseen käyttöön __import__-komennolla."
   ]
  },
  {
   "cell_type": "code",
   "execution_count": null,
   "metadata": {},
   "outputs": [],
   "source": [
    "# Aja tämä solu ensin\n",
    "\n",
    "import numpy as np # tuodaan numpy-paketti käyttöön ja annetaan sille lyhenne funktioiden kutsumista varten"
   ]
  },
  {
   "cell_type": "code",
   "execution_count": null,
   "metadata": {},
   "outputs": [],
   "source": [
    "# Luodaan lista [1 3 6] ja tallennetaan se muuttujaan 'vektori'\n",
    "\n",
    "vektori = np.array([1,3,6])\n",
    "print(vektori)"
   ]
  },
  {
   "cell_type": "markdown",
   "metadata": {},
   "source": [
    "Array-funktion avulla voidaan rakentaa taulukoita ja listoja, jolloin sillä voidaan kuvata esimerkiksi vektoreita ja matriiseja. Se sopii myös todella hyvin mittausdatan käsittelyyn."
   ]
  },
  {
   "cell_type": "code",
   "execution_count": null,
   "metadata": {},
   "outputs": [],
   "source": [
    "# Lisätään jokaiseen elementtiin 2. \n",
    "print(vektori + 2)"
   ]
  },
  {
   "cell_type": "code",
   "execution_count": null,
   "metadata": {},
   "outputs": [],
   "source": [
    "# Mitä veikkaatte, jos tämän jälkeen printataan pelkkä muuttuja 'vektori'?\n",
    "print(vektori)"
   ]
  },
  {
   "cell_type": "code",
   "execution_count": null,
   "metadata": {},
   "outputs": [],
   "source": [
    "vektori = vektori + 2\n",
    "print(vektori)"
   ]
  },
  {
   "cell_type": "code",
   "execution_count": null,
   "metadata": {},
   "outputs": [],
   "source": [
    "# Luodaan kaksi listaa ja testataan erilaisia summia.\n",
    "\n",
    "lista1 = np.array([[2,2],\n",
    "                    [1,2]])\n",
    "lista2 = np.array([[10,11],\n",
    "                   [20,21]])\n",
    "summa = lista1+lista2\n",
    "print(\"Listan 1 elementtien summa: \", lista1.sum())\n",
    "print(\"Vektorisummmat: \", summa)"
   ]
  },
  {
   "cell_type": "markdown",
   "metadata": {},
   "source": [
    "### Tehtävä: Luo kaksi mielivaltaista vektoria muuttujiin vek1 ja vek2 sekä laske niiden vektorisumma."
   ]
  },
  {
   "cell_type": "markdown",
   "metadata": {},
   "source": [
    "## 2. Datan lukeminen"
   ]
  },
  {
   "cell_type": "markdown",
   "metadata": {},
   "source": [
    "Jupyter Notebookiin voi tuoda datasettejä suoraan avoimien linkkien kautta. Datasettien lukemista varten tarvitaan pandas-pakettia sekä __read.csv()__-funktiota. CSV (comma-separated values) on tiedostomuoto, jolla voidaan tallentaa yksinkertaista taulukkomuotoista tietoa tekstitiedostoon. Vastaavasti __head()__-komennolla voidaan kurkistaa datasetin sisälle.\n",
    "\n",
    "Kokeillaan tätä CERN:n CMS-kokeen avoimella datalla.\n",
    "http://opendata.cern.ch/"
   ]
  },
  {
   "cell_type": "code",
   "execution_count": null,
   "metadata": {},
   "outputs": [],
   "source": [
    "import pandas as pd\n",
    "data = pd.read_csv(\"http://opendata.cern.ch/record/5209/files/diphoton.csv\")\n",
    "data.head()"
   ]
  },
  {
   "cell_type": "markdown",
   "metadata": {},
   "source": [
    "Jos haluat poimia datasetistä jonkin tietyn muuttujan esimerkiksi kuvaajaa varten, se tapahtuu näin:"
   ]
  },
  {
   "cell_type": "code",
   "execution_count": null,
   "metadata": {},
   "outputs": [],
   "source": [
    "# Tietyn sarakkeen poimiminen\n",
    "invariantti_massa = data['M']\n",
    "print(invariantti_massa)\n",
    "\n",
    "# Tietyn rivin poimiminen\n",
    "rivi = data.loc[1]\n",
    "print(rivi)\n"
   ]
  },
  {
   "cell_type": "markdown",
   "metadata": {},
   "source": [
    "### Tehtävä: Kokeile avata tässä notebookissa jokin toinen CMS-kokeen datasetti."
   ]
  },
  {
   "cell_type": "markdown",
   "metadata": {},
   "source": [
    "## 3. Kuvaajat"
   ]
  },
  {
   "cell_type": "markdown",
   "metadata": {},
   "source": [
    "Seuraavaksi piirrellään kuvaajia. Sitä varten tarvitaan matplotlip.pyplot -pakettia. Käytetään apuna myös numpy-pakettia, mutta koska se on tuotu meidän käyttöön jo aiemmin, niin sitä ei tarvitse tuoda uudestaan."
   ]
  },
  {
   "cell_type": "code",
   "execution_count": null,
   "metadata": {},
   "outputs": [],
   "source": [
    "import matplotlib.pyplot as plt"
   ]
  },
  {
   "cell_type": "code",
   "execution_count": null,
   "metadata": {},
   "outputs": [],
   "source": [
    "# Piirretään kuvaaja sinifunktiosta\n",
    "\n",
    "x = np.linspace(-np.pi, np.pi)\n",
    "plt.plot(x, np.sin(x))\n",
    "plt.xlabel('Kulma [rad]')\n",
    "plt.ylabel('sin(x)')\n",
    "plt.title('Kuvaaja 1: Sinifunktio kulman funktiona')\n",
    "plt.show()"
   ]
  },
  {
   "cell_type": "markdown",
   "metadata": {},
   "source": [
    "### Tehtävä: Piirrä kuvaaja kosinifunktiosta."
   ]
  },
  {
   "cell_type": "markdown",
   "metadata": {},
   "source": [
    "Seuraavaksi yhdistetään: valitaan datasetti ja poimitaan sieltä tiedot haluttua kuvaajaa varten."
   ]
  },
  {
   "cell_type": "code",
   "execution_count": null,
   "metadata": {},
   "outputs": [],
   "source": [
    "kaksi_myonia = pd.read_csv(\"http://opendata.cern.ch/record/303/files/dimuon.csv\")\n",
    "kaksi_myonia.head()"
   ]
  },
  {
   "cell_type": "code",
   "execution_count": null,
   "metadata": {},
   "outputs": [],
   "source": [
    "invariantti_massa = kaksi_myonia['M']\n",
    "\n",
    "fig = plt.figure(figsize=(15, 10))\n",
    "plt.hist(invariantti_massa , bins=300)\n",
    "\n",
    "plt.xlabel('Invariantti massa [GeV/c²]', fontsize=15)\n",
    "plt.ylabel('Tapahtumien lukumäärä', fontsize=15)\n",
    "plt.title('Kahden myonin invariantti massa', fontsize=15)\n",
    "\n",
    "plt.show()"
   ]
  },
  {
   "cell_type": "markdown",
   "metadata": {},
   "source": [
    "### Tehtävä: Valitse jokin toinen datasetti ja piirrä vastaava histogrammi."
   ]
  }
 ],
 "metadata": {
  "kernelspec": {
   "display_name": "Python 3",
   "language": "python",
   "name": "python3"
  },
  "language_info": {
   "codemirror_mode": {
    "name": "ipython",
    "version": 3
   },
   "file_extension": ".py",
   "mimetype": "text/x-python",
   "name": "python",
   "nbconvert_exporter": "python",
   "pygments_lexer": "ipython3",
   "version": "3.8.5"
  }
 },
 "nbformat": 4,
 "nbformat_minor": 4
}
