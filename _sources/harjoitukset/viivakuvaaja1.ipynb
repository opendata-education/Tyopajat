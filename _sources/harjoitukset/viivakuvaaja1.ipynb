{
 "cells": [
  {
   "cell_type": "markdown",
   "metadata": {},
   "source": [
    "# Viivakuvaaja 1 - data yhdeltä riviltä"
   ]
  },
  {
   "cell_type": "markdown",
   "metadata": {},
   "source": [
    "### Tämä pohja on tehty sinulle muokattavaksi.\n",
    "\n",
    "Usein esimerkiksi valtioihin liittyvät asiat ja erilaiset listaukset keskenään vertailtavista asioista, kuten ruoka-aineiden hiilidioksidipäästöistä, on annettu listattuna datatiedostona. Tällöin voidaan haluta nostaa sieltä yksi rivi kerrallaan tarkasteluun, ja kenties lisätä kuvaajaan toisen rivin tiedot vertailun vuoksi. Tässä käytetään esimerkkinä [täältä](https://www.gapminder.org/data/) löydettyä dataa, mistä nähdään valtiokohtaiset energiankulutukset asukasta kohden vuosina 1960 - 2015.\n",
    "\n",
    "Voit käyttää tätä tiedostoa mallipohjana, jos haluat tehdä viivakuvaajan jonkin datatiedoston rivistä. Luet vain oman datatiedoston, muokkailet vähän muuttujien nimiä ja lisäät sopivat tekstit ympärille. Jos tulee ongelmia joihin ei Googlesta tunnu löytyvän vastausta, niin meille voi laittaa sähköpostia matalalla kynnyksellä. "
   ]
  },
  {
   "cell_type": "code",
   "execution_count": null,
   "metadata": {},
   "outputs": [],
   "source": [
    "# Ladataan tietokirjastot käyttöön.\n",
    "\n",
    "import pandas as pd\n",
    "import matplotlib.pyplot as plt\n",
    "import numpy as np"
   ]
  },
  {
   "cell_type": "code",
   "execution_count": null,
   "metadata": {},
   "outputs": [],
   "source": [
    "# Luetaan csv-tiedosto, joka on ladattu GitHubiin.\n",
    "# Head-komennolla nähdään, miltä valittu datatiedosto näyttää.\n",
    "\n",
    "energia_per_asukas = pd.read_csv('https://raw.githubusercontent.com/opendata-education/Harjoittelu/main/data/energy_use_per_person.csv')\n",
    "energia_per_asukas.head()"
   ]
  },
  {
   "cell_type": "code",
   "execution_count": null,
   "metadata": {},
   "outputs": [],
   "source": [
    "# Tällä komennolla voidaan selvittää, millä rivillä haluttu maa on tässä tiedostossa.\n",
    "\n",
    "energia_per_asukas.loc[energia_per_asukas['country'] == 'Finland']"
   ]
  },
  {
   "cell_type": "code",
   "execution_count": null,
   "metadata": {},
   "outputs": [],
   "source": [
    "# Valmistellaan kuvaajan x-akselin data, eli kerätään datatiedoston sarakkeiden otsikot yhteen listaan.\n",
    "# np.float_ -komennon sijasta voi käyttää myös np.int_-komentoa. Tämän tarkoituksena on muuttaa listassa olevat\n",
    "# numerot luvuiksi. Homma toimii oikein, kun vuosilukujen ympärille ei jää näitä '' hipsuja.\n",
    "\n",
    "# values-komennon hakasulkeissa oleva [1:] tarkoittaa sitä, että valitaan sarakkeet numerosta 1 lähtien viimeiseen\n",
    "# sarakkeeseen saakka. Koska ensimmäinen sarake on numero 0, niin tällä tavalla voidaan tiputtaa 'country'-sarake\n",
    "# pois, koska sitähän me ei tässä tapauksessa haluta mukaan. Jos haluaisit valita esimerkiksi vuodet 1960-1969,\n",
    "# komennoksi tulisi values[1:11].\n",
    "\n",
    "vuosi = list(np.float_(energia_per_asukas.columns.values[1:]))\n",
    "vuosi"
   ]
  },
  {
   "cell_type": "code",
   "execution_count": null,
   "metadata": {},
   "outputs": [],
   "source": [
    "# Valmistellaan y-akselin data. Valitaan loc-komennon hakasulkeisiin halutun maan rivinumero, joka\n",
    "# selvitettiin aikaisemmin. Suomen tapauksessa siis 51.\n",
    "\n",
    "suomi = energia_per_asukas.loc[51]\n",
    "suomi = list(np.float_(suomi[1:]))\n",
    "suomi"
   ]
  },
  {
   "cell_type": "code",
   "execution_count": null,
   "metadata": {},
   "outputs": [],
   "source": [
    "# Tiedot on kerätty, voidaan siis piirtää viivakuvaaja plt.plot(x,y) -komennolla.\n",
    "\n",
    "plt.plot(vuosi, suomi)\n",
    "plt.title('Otsikko')\n",
    "plt.xlabel('x-akselin nimi')\n",
    "plt.ylabel('y-akselin nimi')\n",
    "plt.show()"
   ]
  },
  {
   "cell_type": "markdown",
   "metadata": {},
   "source": [
    "#### Jos haluat lisätä toisen rivin tiedot kuvaajaan, tässä siihen koodi:\n",
    "\n",
    "Vertaillaan suomalaisten energiankulutusta esimerkiksi intialaisten energiankulutukseen."
   ]
  },
  {
   "cell_type": "code",
   "execution_count": null,
   "metadata": {},
   "outputs": [],
   "source": [
    "# Etsitään datatiedostosta Intia.\n",
    "\n",
    "energia_per_asukas.loc[energia_per_asukas['country'] == 'India']"
   ]
  },
  {
   "cell_type": "code",
   "execution_count": null,
   "metadata": {},
   "outputs": [],
   "source": [
    "# Valmistellaan toinen y-akselin data, molemmilla on sama x-akselin data. \n",
    "\n",
    "intia = energia_per_asukas.loc[72]\n",
    "intia = list(np.float_(intia[1:]))\n",
    "intia"
   ]
  },
  {
   "cell_type": "code",
   "execution_count": null,
   "metadata": {},
   "outputs": [],
   "source": [
    "# Piirretään molemmat viivat, lisätään halutut värit ja viivojen nimet.\n",
    "\n",
    "plt.plot(vuosi, suomi, color='blue', label='Suomi')\n",
    "plt.plot(vuosi, intia, color='red', label='Intia')\n",
    "\n",
    "plt.title('Otsikko')\n",
    "plt.xlabel('x-akselin nimi')\n",
    "plt.ylabel('y-akselin nimi')\n",
    "\n",
    "plt.legend() # Tulostaa viivojen nimet\n",
    "plt.show()"
   ]
  }
 ],
 "metadata": {
  "kernelspec": {
   "display_name": "Python 3",
   "language": "python",
   "name": "python3"
  },
  "language_info": {
   "codemirror_mode": {
    "name": "ipython",
    "version": 3
   },
   "file_extension": ".py",
   "mimetype": "text/x-python",
   "name": "python",
   "nbconvert_exporter": "python",
   "pygments_lexer": "ipython3",
   "version": "3.8.5"
  }
 },
 "nbformat": 4,
 "nbformat_minor": 4
}
