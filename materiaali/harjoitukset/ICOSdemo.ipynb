{
 "cells": [
  {
   "cell_type": "markdown",
   "id": "4c2d3e31-a0d7-42a1-8f1d-366c743d8e3c",
   "metadata": {},
   "source": [
    "# Informaatiota ilmakehästä\n",
    "Demo ICOS-aineistoilla. Tarkastellaan tässä yhteydessä hiilidioksidiarvoja mittausasemien ilmapiirissä."
   ]
  },
  {
   "cell_type": "markdown",
   "id": "7d5df465-6a40-4b82-9e56-e998772823b5",
   "metadata": {},
   "source": [
    "## 1. Työkalut ja aineistot"
   ]
  },
  {
   "cell_type": "code",
   "execution_count": null,
   "id": "1071db68-b483-43e6-aea7-ad0bce33928e",
   "metadata": {},
   "outputs": [],
   "source": [
    "# Kirjastot\n",
    "# AJA TÄMÄ SOLU ENSIMMÄISENÄ!\n",
    "\n",
    "import pandas as pd\n",
    "import matplotlib.pyplot as plt\n",
    "import numpy as np"
   ]
  },
  {
   "cell_type": "code",
   "execution_count": null,
   "id": "37dd5c72-4f81-455c-9008-dec530f77c5c",
   "metadata": {},
   "outputs": [],
   "source": [
    "# Kaikki tässä oleva haettu Obspackista 1972-2024\n",
    "# https://meta.icos-cp.eu/objects/xfK_Mjw7m3jN1LIzq-wtsCYq \n",
    "\n",
    "# Aineistot, paikat ja mittauskorkeudet\n",
    "\n",
    "# Puijo, Itä-Suomi, 47 m\n",
    "PuiCO2 = pd.read_csv(\"https://raw.githubusercontent.com/opendata-education/Tyopajat/refs/heads/main/materiaali/data/Pui470.csv\")\n",
    "# Hyytiälä, Keski-Suomi, 67.2 m\n",
    "HyyCO2 = pd.read_csv(\"https://raw.githubusercontent.com/opendata-education/Tyopajat/refs/heads/main/materiaali/data/Hyy672.csv\")\n",
    "# Zeppelin, Huippuvuoret, 15 m\n",
    "ZepCO2 = pd.read_csv(\"https://raw.githubusercontent.com/opendata-education/Tyopajat/refs/heads/main/materiaali/data/Zep150.csv\")\n",
    "# Izaña, Teneriffa, 29 m\n",
    "IzoCO2 = pd.read_csv(\"https://raw.githubusercontent.com/opendata-education/Tyopajat/refs/heads/main/materiaali/data/Izo290.csv\")"
   ]
  },
  {
   "cell_type": "markdown",
   "id": "90b8068f-a41e-4f8a-b843-c5417d1fca95",
   "metadata": {},
   "source": [
    "## 2. Katsaus aineistoihin"
   ]
  },
  {
   "cell_type": "markdown",
   "id": "f1b5b145-042a-46ca-89b9-cbdae6a7abeb",
   "metadata": {},
   "source": [
    "Alla olevalla koodilla nähdään mitä muuttujan sisällä on.\n",
    "\n",
    "**TEE ITSE:** vaihda muuttujan nimeä tarkistaaksesi jonkun toisenkin aseman tiedot. Voit myös vaihtaa .head()-komennon sisässä olevaa numeroa."
   ]
  },
  {
   "cell_type": "code",
   "execution_count": null,
   "id": "359eea4e-ad26-45b5-88c6-b5d23ce4db8b",
   "metadata": {},
   "outputs": [],
   "source": [
    "PuiCO2.head(6)"
   ]
  },
  {
   "cell_type": "markdown",
   "id": "3d09169e-4e79-483b-afcd-34c4a67e61fd",
   "metadata": {},
   "source": [
    "## 3. Analyysi"
   ]
  },
  {
   "cell_type": "markdown",
   "id": "b3063728-4d73-420b-bd78-31d9f61d484c",
   "metadata": {},
   "source": [
    "Aikasarake \"datetimeISO\" on hitusen kummallinen. Luodaan aineistoihin uudet päivämääräsarakkeet.\n",
    "\n",
    "**TEE ITSE:** lisää sarake muihinkin muuttujiin."
   ]
  },
  {
   "cell_type": "code",
   "execution_count": null,
   "id": "d7b36e85-03a5-4c9d-823a-1ef5f9b9adec",
   "metadata": {},
   "outputs": [],
   "source": [
    "# Päivämäärän lisääminen\n",
    "PuiCO2['PVM'] = pd.to_datetime(PuiCO2['datetimeISO'], format = \"mixed\")"
   ]
  },
  {
   "cell_type": "code",
   "execution_count": null,
   "id": "0e4bfa0d-d622-4353-bbe9-cc51df6ef3e3",
   "metadata": {},
   "outputs": [],
   "source": [
    "# Tarkistusvilkaisu\n",
    "PuiCO2"
   ]
  },
  {
   "cell_type": "markdown",
   "id": "0f72cbb5-74ac-4eda-908d-c17fc263c44e",
   "metadata": {},
   "source": [
    "Nyt voidaan luoda testiksi simppeli kuvaaja aineistosta.\n",
    "\n",
    "**TEE ITSE:** lisää samaan kuvaajaan muutkin mitta-asemat!"
   ]
  },
  {
   "cell_type": "code",
   "execution_count": null,
   "id": "74aeb705-0ea0-41ea-8f81-70ce26974c9f",
   "metadata": {},
   "outputs": [],
   "source": [
    "# Asetetaan kuvaajan koko\n",
    "plt.figure(figsize = (20, 10))\n",
    "\n",
    "# Valitaan piirrettävät suureet\n",
    "plt.plot(PuiCO2[\"PVM\"], PuiCO2[\"value\"], label = \"Puijo\", color = \"green\", alpha = 0.5)\n",
    "\n",
    "# Lisätään muotoilutermejä oman maun mukaan\n",
    "plt.ylabel(\"Hiilidioksidikonsentraatio ilmassa (µmol mol-1) \\n\", fontsize = 15)\n",
    "plt.xlabel(\"\\n Aika (vuosi)\", fontsize = 15)\n",
    "plt.title(\"CO2-fraktio ilmakehässä ICOS-asemilla \\n\", fontsize = 20)\n",
    "plt.legend(loc = \"upper left\", fontsize = 20)\n",
    "\n",
    "# Piirretään lopputulos\n",
    "plt.show()"
   ]
  },
  {
   "cell_type": "markdown",
   "id": "a30e377e-68d8-4a4a-8f72-d905a8e278d4",
   "metadata": {},
   "source": [
    "Pelkkä mittausten esittely harvoin riittää. Mennään siis syvemmälle aineistoihin vaikkapa pidemmän ajan keskiarvojen avulla.\n",
    "\n",
    "**TEE ITSE:** vertaile eri asemien kuukausikeskiarvojen käyttäytymistä."
   ]
  },
  {
   "cell_type": "code",
   "execution_count": null,
   "id": "f9f748f4-1634-4475-8f78-1e1e85d0dfc0",
   "metadata": {},
   "outputs": [],
   "source": [
    "# Kokeillaan kuukausikeskiarvojen laskemista.\n",
    "\n",
    "KA = PuiCO2.groupby([\"month\"]).mean(numeric_only = True)\n",
    "\n",
    "print(\"Valitun aineiston kuukausittaiset keskiarvot (ppm) ovat: \")\n",
    "print(KA[\"value\"])\n",
    "\n",
    "k = [\"tammi\", \"helmi\", \"maalis\", \"huhti\", \"touko\", \"kesä\", \"heinä\", \"elo\", \"syys\", \"loka\", \"marras\", \"joulu\"]\n",
    "\n",
    "plt.figure(figsize = (20, 10))\n",
    "plt.plot(k, KA[\"value\"], c = \"y\")\n",
    "plt.scatter(k, KA[\"value\"], c = \"red\", label = \"CO2\")\n",
    "\n",
    "plt.ylabel(\"Konsentraatio ilmassa (µmol mol-1) \\n\", fontsize = 15)\n",
    "plt.xlabel(\"\\n Aika (kuukausi)\", fontsize = 15)\n",
    "plt.title(\"Hiilidioksidifraktio ilmakehässä valitulla mitta-asemalla, kuukausikeskiarvo \\n\", fontsize = 20)\n",
    "plt.legend(loc = \"center right\", fontsize = 15)\n",
    "\n",
    "plt.show()"
   ]
  }
 ],
 "metadata": {
  "kernelspec": {
   "display_name": "Python 3 (ipykernel)",
   "language": "python",
   "name": "python3"
  },
  "language_info": {
   "codemirror_mode": {
    "name": "ipython",
    "version": 3
   },
   "file_extension": ".py",
   "mimetype": "text/x-python",
   "name": "python",
   "nbconvert_exporter": "python",
   "pygments_lexer": "ipython3",
   "version": "3.12.4"
  }
 },
 "nbformat": 4,
 "nbformat_minor": 5
}
