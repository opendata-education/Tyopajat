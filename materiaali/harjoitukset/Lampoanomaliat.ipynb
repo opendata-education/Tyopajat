{
 "cells": [
  {
   "cell_type": "markdown",
   "id": "f9aeca6b",
   "metadata": {},
   "source": [
    "# ESIMERKKI: Lämpötiloista ja anomalioista"
   ]
  },
  {
   "cell_type": "markdown",
   "id": "10c3c527",
   "metadata": {},
   "source": [
    "### Työn rakenne\n",
    "\n",
    "Yksinkertainen projekti noudattaa yleensä simppeliä perusrakennetta:\n",
    "\n",
    "1. Määritetään kiinnostuksen kohde (tutkimuskysymys)\n",
    "2. Etsitään aineistoa (datankeruu)\n",
    "3. Tarkastellaan löydöksiä (analyysi)\n",
    "4. Arvioidaan, kritisoidaan (tulokset ja johtopäätökset)\n",
    "5. Selitetään tarpeen mukaan käytetyt aineistot (lähteet)"
   ]
  },
  {
   "cell_type": "markdown",
   "id": "ec19a016",
   "metadata": {},
   "source": [
    "## 1. Tutkimuskysymys"
   ]
  },
  {
   "cell_type": "markdown",
   "id": "328421cc",
   "metadata": {},
   "source": [
    "Globaaleja ilmastotilastoja esitetään usein varsinaisten mitattujen lämpötilojen sijaan lämpötila-anomalioina, eli poikkeamina jostain valitusta pohjatasosta. Tämä on yleensä keskiarvo 30-vuotisjaksolta tai kokonaiselta vuosisadalta.\n",
    "\n",
    "<img src=\"https://earthobservatory.nasa.gov/ContentWOC/images/globaltemp/global_gis_2022.png\">\n",
    "\n",
    "(Kuva NASA:n Earth Observatory -sivuilta.)\n",
    "\n",
    "Miten hyvin tällainen suurten linjojen kuvaus pätee pienemmällä, paikallisella tasolla? Kokonaisen planeetan tai edes pallonpuoliskon tarkastelu yhdellä kertaa muokkaa varmasti luonteensa vuoksi havaintojen muotoa, koska kyseessä on useiden paikkojen yhdistelmä, mutta onko niissä kuitenkin havaittavia yhteneväisyyksiä?\n",
    "\n",
    "Vertaillaan kansainvälisten instituuttien (NASA, NOAA, JMA, MetOffice) globaaleja havaintoja suomalaisiin Ilmatieteen laitoksen mittauksiin."
   ]
  },
  {
   "cell_type": "markdown",
   "id": "67eb2357",
   "metadata": {},
   "source": [
    "## 2. Aineisto"
   ]
  },
  {
   "cell_type": "markdown",
   "id": "2647a313",
   "metadata": {},
   "source": [
    "YK:n ympäristöohjelman sivuilta (https://data.unep.org/climate/essential-climate-variables-ecv/global-temperature-change) löytyy näppärästi materiaalia jota verrata FMI:n latauspalvelusta saataviin materiaaleihin (https://www.ilmatieteenlaitos.fi/havaintojen-lataus)."
   ]
  },
  {
   "cell_type": "code",
   "execution_count": null,
   "id": "d6784eeb",
   "metadata": {},
   "outputs": [],
   "source": [
    "# Tuodaan tarvittavat työkalukirjastot.\n",
    "\n",
    "import pandas as pd\n",
    "import matplotlib.pyplot as plt\n",
    "import numpy as np"
   ]
  },
  {
   "cell_type": "code",
   "execution_count": null,
   "id": "d3fba047",
   "metadata": {},
   "outputs": [],
   "source": [
    "# Tuodaan halutut aineistot käyttöön nimettyinä muuttujina.\n",
    "\n",
    "# Globaalit mittaukset.\n",
    "data = pd.read_csv(\"https://raw.githubusercontent.com/opendata-education/Tyopajat/main/materiaali/data/global-surface-temperature.csv\") \n",
    "\n",
    "# Helsingin Kaisaniemen mittaukset.\n",
    "KLam = pd.read_csv(\"https://raw.githubusercontent.com/opendata-education/Biologia/main/materiaali/data/KeskLam.txt\", sep = \"\\t\")\n"
   ]
  },
  {
   "cell_type": "code",
   "execution_count": null,
   "id": "5b62a902",
   "metadata": {},
   "outputs": [],
   "source": [
    "# Tarkastellaan miltä aineistot näyttävät.\n",
    "\n",
    "data.head()"
   ]
  },
  {
   "cell_type": "code",
   "execution_count": null,
   "id": "775c96f8",
   "metadata": {},
   "outputs": [],
   "source": [
    "KLam.head()"
   ]
  },
  {
   "cell_type": "markdown",
   "id": "96d33216",
   "metadata": {},
   "source": [
    "## 3. Analyysi"
   ]
  },
  {
   "cell_type": "markdown",
   "id": "1431e61b",
   "metadata": {},
   "source": [
    "Molemmat muuttujat sisältävät nyt Celsius-asteina taulukoituja tietoja 1800-luvulta nykypäivään. Kaisaniemen aseman tiedot ovat kuukausittaisia keskiarvoja, muut vuosittaisia. Korjataan asia laskemalla vuosiarvot Kaisaniemen tiedoista."
   ]
  },
  {
   "cell_type": "code",
   "execution_count": null,
   "id": "0f725854",
   "metadata": {},
   "outputs": [],
   "source": [
    "# Tämän solun ajaminen nostaa huomautuksen, älä välitä.\n",
    "# Tehdään uusi, tyhjä sarake KLam-muuttujaan.\n",
    "\n",
    "la = np.zeros(len(KLam))\n",
    "KLam[\"KA\"] = la\n",
    "\n",
    "# Käydään tiedot rivi kerrallaan läpi, asettaen äskeiseen uuteen sarakkeeseen arvo. Mikä arvo?\n",
    "# Miten siihen vaikuttaa, mikäli tietoaineistossa on puuttuvia kohtia (NaN, not a number)?\n",
    "  \n",
    "for i in range(len(KLam)):\n",
    "    KLam[\"KA\"][i] = (KLam[\"Tammi\"][i]+KLam[\"Helmi\"][i]+KLam[\"Maalis\"][i]+KLam[\"Huhti\"][i]+KLam[\"Touko\"][i]\n",
    "    +KLam[\"Kesä\"][i]+KLam[\"Heinä\"][i]+KLam[\"Elo\"][i]+KLam[\"Syys\"][i]+KLam[\"Loka\"][i]\n",
    "    +KLam[\"Marras\"][i]+KLam[\"Joulu\"][i])/12\n",
    "    "
   ]
  },
  {
   "cell_type": "markdown",
   "id": "78a6fc03",
   "metadata": {},
   "source": [
    "**Miltä muuttuja KLam nyt näyttää? Kirjoita alle koodisoluun jotain joka näyttää sen.**"
   ]
  },
  {
   "cell_type": "code",
   "execution_count": null,
   "id": "70634ad6",
   "metadata": {},
   "outputs": [],
   "source": []
  },
  {
   "cell_type": "markdown",
   "id": "9cb6b116",
   "metadata": {},
   "source": [
    "Tarkastellaan ensin yksinkertaisesti miltä vuositietomme näyttävät piirtämällä kuvaajat molemmista muuttujista."
   ]
  },
  {
   "cell_type": "code",
   "execution_count": null,
   "id": "d3444de5",
   "metadata": {},
   "outputs": [],
   "source": [
    "# Globaali tilanne.\n",
    "\n",
    "plt.figure(figsize = (20,10))\n",
    "\n",
    "plt.plot(data[\"Category\"], data[\"NOAA National Climatic Data Center\"],\n",
    "         label = \"NOAA National Climatic Data Center\")\n",
    "plt.plot(data[\"Category\"], data[\"NASA Goddard Institute for Space Studies\"],\n",
    "         label = \"NASA Goddard Institute for Space Studies\")\n",
    "plt.plot(data[\"Category\"], data[\"Japanese Meteorological Agency\"],\n",
    "         label = \"Japanese Meteorological Agency\")\n",
    "plt.plot(data[\"Category\"], data[\"Met Office Hadley Centre/Climatic Research Unit\"],\n",
    "         label = \"Met Office Hadley Centre/Climatic Research Unit\")\n",
    "\n",
    "plt.axhline(0, linestyle='--', label = \"Globaali vertailuarvo 1910-2000\", color='k', alpha = 0.5)\n",
    "\n",
    "plt.title(\"Globaali lämpötila-anomalia maanpinnalla 1880-2022 \\n\", fontsize = 20)\n",
    "plt.ylabel(\"Poikkeama (°C)\", fontsize = 20)\n",
    "plt.xlabel(\"Vuosi\", fontsize = 20)\n",
    "plt.legend(fontsize = 20)\n",
    "plt.show()"
   ]
  },
  {
   "cell_type": "code",
   "execution_count": null,
   "id": "285b6454",
   "metadata": {},
   "outputs": [],
   "source": [
    "# Helsingin tilanne.\n",
    "\n",
    "plt.figure(figsize = (20,10))\n",
    "\n",
    "plt.scatter(KLam[\"Vuosi\"], KLam[\"KA\"], label = \"Kaisaniemi\")\n",
    "plt.plot(KLam[\"Vuosi\"], KLam[\"KA\"], c = \"y\", alpha = 0.5)\n",
    "\n",
    "plt.title(\"Lämpötila Helsingin Kaisaniemessä 1844-2020 \\n\", fontsize = 20)\n",
    "plt.ylabel(\"Lämpötila (°C)\", fontsize = 20)\n",
    "plt.xlabel(\"Vuosi\", fontsize = 20)\n",
    "plt.legend(fontsize = 20)\n",
    "plt.show()"
   ]
  },
  {
   "cell_type": "markdown",
   "id": "b326ca9a",
   "metadata": {},
   "source": [
    "Nyt meillä on globaalisti poikkeamat vuosien 1910-2000 keskiarvosta mutta mitatut (instrumentaaliset) arvot Kaisaniemestä, eli kuvaajia ei voi ihan hyvällä omallatunnolla verrata suoraan toisiinsa.\n",
    "\n",
    "**Miten saamme aikaan vastaavan pohjatason Kaisaniemen tiedoista? Koodaa alle.**\n",
    "\n",
    "```python\n",
    "# Esimerkkinä .query()-käskyllä\n",
    "val = KLam.query(\"(Vuosi > 2012) and (Vuosi < 2015)\") \n",
    "# saataisiin val-muuttujaan pala alkuperäisestä taulukosta, jossa olisi vain vuosien 2013 tai 2014 tiedot.\n",
    "```\n",
    "\n"
   ]
  },
  {
   "cell_type": "code",
   "execution_count": null,
   "id": "f6b06e7d",
   "metadata": {},
   "outputs": [],
   "source": [
    "\n"
   ]
  },
  {
   "cell_type": "markdown",
   "id": "42cf819d",
   "metadata": {},
   "source": [
    "```python\n",
    "# Valitusta muuttujasta, jossa on yhä kaikki alkuperäiset sarakkeet, voidaan sitten\n",
    "# ottaa keskiarvosarakkeesta pitkän ajan keskiarvo talteen. Tarkkana nimien kanssa.\n",
    "UusiNimi = VanhaNimi[\"Sarakkeen nimi\"].mean()\n",
    "\n",
    "```"
   ]
  },
  {
   "cell_type": "code",
   "execution_count": null,
   "id": "82e29f0b",
   "metadata": {},
   "outputs": [],
   "source": [
    "\n",
    "\n"
   ]
  },
  {
   "cell_type": "markdown",
   "id": "27dc703c",
   "metadata": {},
   "source": [
    "**Kun olet saanut laskettua Kaisaniemelle vertailupohjan, tehdään sen avulla anomaliakuvaaja.**\n",
    "\n",
    "```python\n",
    "# Napataan koko aineiston vuosiarvot kopiona uudeksi pätkäksi, jonka jokaisesta rivistä\n",
    "# vähennetään vertailuajan pohja pois, eli ajetaan tulosta kohti nollaa kuten globaaleissakin\n",
    "# tiedoissa oli.\n",
    "Kaisa = KLam[\"KA\"].copy()\n",
    "Kaisa -= UusiNimi\n",
    "\n",
    "```"
   ]
  },
  {
   "cell_type": "code",
   "execution_count": null,
   "id": "e54d5756",
   "metadata": {},
   "outputs": [],
   "source": []
  },
  {
   "cell_type": "markdown",
   "id": "764448be",
   "metadata": {},
   "source": [
    "**Piirretään kaikki viisi käyrää samaan kuvaajaan!**"
   ]
  },
  {
   "cell_type": "code",
   "execution_count": null,
   "id": "1509f5f1",
   "metadata": {},
   "outputs": [],
   "source": [
    "plt.figure(figsize = (30,10))\n",
    "plt.plot(data[\"Category\"], data[\"NOAA National Climatic Data Center\"],\n",
    "         label = \"NOAA National Climatic Data Center\")\n",
    "plt.plot(data[\"Category\"], data[\"NASA Goddard Institute for Space Studies\"],\n",
    "         label = \"NASA Goddard Institute for Space Studies\")\n",
    "plt.plot(data[\"Category\"], data[\"Japanese Meteorological Agency\"],\n",
    "         label = \"Japanese Meteorological Agency\")\n",
    "plt.plot(data[\"Category\"], data[\"Met Office Hadley Centre/Climatic Research Unit\"],\n",
    "         label = \"Met Office Hadley Centre/Climatic Research Unit\")\n",
    "\n",
    "plt.plot(KLam[\"Vuosi\"], Kaisa, label = \"Kaisaniemi\")\n",
    "\n",
    "plt.axhline(0, linestyle='--', label = \"Globaali vertailuarvo 1910-2000\", color='k', alpha = 0.5)\n",
    "\n",
    "# Jos haluat hifistellä kuvaajaasi myös keskihajontarajat, laske hajo = np.std(Kaisa) mukaan. \n",
    "# plt.axhline(hajo, linestyle='--', label = \"Kaisaniemen keskihajonta $\\sigma$\" , color='y', alpha = 0.3)\n",
    "# plt.axhline(-hajo, linestyle='--', color='y', alpha = 0.3)\n",
    "\n",
    "plt.title(\"Globaali lämpötila-anomalia maanpinnalla 1880-2022 \\n\", fontsize = 25)\n",
    "plt.ylabel(\"Poikkeama (°C)\", fontsize = 20)\n",
    "plt.xlabel(\"Vuosi\", fontsize = 20)\n",
    "plt.legend(fontsize = 20)\n",
    "plt.show()\n",
    "\n",
    "\n"
   ]
  },
  {
   "cell_type": "markdown",
   "id": "3cf8f8e1",
   "metadata": {},
   "source": [
    "**Entä jos tarkasteltaisiinkin kuukausittaista kehitystä sijaan? Miten tekisit kuvaajan vaikkapa huhtikuiden lämpötiloista Helsingissä? Saisiko sen 1900-luvusta vertailuarvoa mukaan?**"
   ]
  },
  {
   "cell_type": "code",
   "execution_count": null,
   "id": "54bbdd6d",
   "metadata": {
    "scrolled": false
   },
   "outputs": [],
   "source": []
  },
  {
   "cell_type": "markdown",
   "id": "77f6a781",
   "metadata": {},
   "source": [
    "## 4. Tulokset ja johtopäätökset"
   ]
  },
  {
   "cell_type": "markdown",
   "id": "b2d9f011",
   "metadata": {},
   "source": [
    "Onko maailmanlaajuisessa ja paikallisessa lämpötilakäytöksessä yhteneväisyyksiä? Miksi tai miksei?\n",
    "\n",
    "Millaisilla asemilla ja menetelmillä tulokset on saatu? Mitä epävarmuustekijöitä niihin liittyy?\n",
    "\n",
    "Onko poikkeama sinusta suoria lämpötila-arvoja näppärämpi tapa kuvata asioita joissain yhteyksissä?\n",
    "\n"
   ]
  },
  {
   "cell_type": "markdown",
   "id": "c6b488d1",
   "metadata": {},
   "source": [
    "## 5. Lähteet"
   ]
  },
  {
   "cell_type": "markdown",
   "id": "432563ff",
   "metadata": {},
   "source": [
    "[1] https://data.unep.org/climate/essential-climate-variables-ecv/global-temperature-change\n",
    "\n",
    "[2] https://www.ilmatieteenlaitos.fi/havaintojen-lataus"
   ]
  }
 ],
 "metadata": {
  "kernelspec": {
   "display_name": "Python 3 (ipykernel)",
   "language": "python",
   "name": "python3"
  },
  "language_info": {
   "codemirror_mode": {
    "name": "ipython",
    "version": 3
   },
   "file_extension": ".py",
   "mimetype": "text/x-python",
   "name": "python",
   "nbconvert_exporter": "python",
   "pygments_lexer": "ipython3",
   "version": "3.9.7"
  }
 },
 "nbformat": 4,
 "nbformat_minor": 5
}
