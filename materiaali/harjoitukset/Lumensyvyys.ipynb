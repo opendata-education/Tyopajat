{
 "cells": [
  {
   "cell_type": "markdown",
   "id": "a9283362",
   "metadata": {},
   "source": [
    "# ESIMERKKI: Lumensyvyys"
   ]
  },
  {
   "cell_type": "markdown",
   "id": "d562c346",
   "metadata": {},
   "source": [
    "### Työn rakenne"
   ]
  },
  {
   "cell_type": "markdown",
   "id": "41b3f6d2",
   "metadata": {},
   "source": [
    "Yksinkertainen projekti noudattaa yleensä simppeliä perusrakennetta:\n",
    "\n",
    "1. Määritetään kiinnostuksen kohde (tutkimuskysymys)\n",
    "2. Etsitään aineistoa (datankeruu)\n",
    "3. Tarkastellaan löydöksiä (analyysi)\n",
    "4. Arvioidaan, kritisoidaan (tulokset ja johtopäätökset)\n",
    "5. Selitetään tarpeen mukaan käytetyt aineistot (lähteet) "
   ]
  },
  {
   "cell_type": "markdown",
   "id": "12e9f972",
   "metadata": {},
   "source": [
    "### 1. Tutkimuskysymys"
   ]
  },
  {
   "cell_type": "markdown",
   "id": "7f7dd0c7",
   "metadata": {},
   "source": [
    "Sanotaan, että meitä kiinnostaa pohtia Espoon talvien lumisuutta tällä vuosituhannella. Onko kevät 2022 tosiaan lumisin vuosiin vai tuntuuko se vain siltä?"
   ]
  },
  {
   "cell_type": "markdown",
   "id": "0ac403e8",
   "metadata": {},
   "source": [
    "### 2. Aineisto"
   ]
  },
  {
   "cell_type": "markdown",
   "id": "8d45590f",
   "metadata": {},
   "source": [
    "Ilmatieteen laitokselta löytyy reaaliaikaisia mittauksia tarjoava portaali, josta voidaan kaivaa haluttujen paikkakuntien mitta-asemilta mitattuja arvoja.\n",
    "\n",
    "https://www.ilmatieteenlaitos.fi/havaintojen-lataus\n",
    "\n",
    "Tässä esimerkissä on käytetty Espoon asemia vuosilta 2000-2022. Yksikin mittaus on mittaus, mutta paremman yleiskuvan saamiseksi voi olla hyödyllistä tarkastella useamman lähiaseman aineistoja. Ilmatieteen laitoksen kartasta osuu ensimmäisenä silmään Tapiolan, Nupurin ja Nuuksion asemia, joten katsotaan mitä niistä selviää.\n",
    "\n",
    "Tiedot on noudettu palvelusta 6.3.2022"
   ]
  },
  {
   "cell_type": "code",
   "execution_count": null,
   "id": "e2853e21",
   "metadata": {},
   "outputs": [],
   "source": [
    "# Tuodaan tarvittavat työkalukirjastot\n",
    "\n",
    "import pandas as pd\n",
    "import matplotlib.pyplot as plt"
   ]
  },
  {
   "cell_type": "code",
   "execution_count": null,
   "id": "a8024b3f",
   "metadata": {},
   "outputs": [],
   "source": [
    "# Huomaa lukukomennon sisään lisätty 'parse'-parametri, jolla luodaan tiedostoon yhdistelmä päivämääräsarakkeista,\n",
    "# jolloin saadaan juoksevasti kasvava luku tulevan visualisoinnin aika-akseliksi.\n",
    "\n",
    "Tapiola = pd.read_csv(\"EspooTapiola.csv\",\n",
    "                    parse_dates = {\"Aika\":[\"Vuosi\", \"Kk\", \"Pv\", \"Klo\"]}, keep_date_col = True)\n",
    "Nupuri = pd.read_csv(\"EspooNupuri.csv\",\n",
    "                    parse_dates = {\"Aika\":[\"Vuosi\", \"Kk\", \"Pv\", \"Klo\"]}, keep_date_col = True)\n",
    "Nuuksio = pd.read_csv(\"EspooNuuksio.csv\",\n",
    "                    parse_dates = {\"Aika\":[\"Vuosi\", \"Kk\", \"Pv\", \"Klo\"]}, keep_date_col = True)\n"
   ]
  },
  {
   "cell_type": "code",
   "execution_count": null,
   "id": "c1dbf911",
   "metadata": {},
   "outputs": [],
   "source": [
    "Tapiola"
   ]
  },
  {
   "cell_type": "code",
   "execution_count": null,
   "id": "f57c009c",
   "metadata": {
    "scrolled": false
   },
   "outputs": [],
   "source": [
    "Nupuri"
   ]
  },
  {
   "cell_type": "code",
   "execution_count": null,
   "id": "b590384c",
   "metadata": {},
   "outputs": [],
   "source": [
    "Nuuksio"
   ]
  },
  {
   "cell_type": "markdown",
   "id": "06dde350",
   "metadata": {},
   "source": [
    "### 3. Analyysi"
   ]
  },
  {
   "cell_type": "markdown",
   "id": "08f00819",
   "metadata": {},
   "source": [
    "Kuvaajat ovat erinomainen työkalu nopeisiin arviointeihin. Otetaan ensimmäiseksi yleiskuva ajan suhteen:"
   ]
  },
  {
   "cell_type": "code",
   "execution_count": null,
   "id": "d6a4e7b6",
   "metadata": {},
   "outputs": [],
   "source": [
    "plt.figure(figsize = (30, 5))\n",
    "plt.scatter(Tapiola[\"Aika\"], Tapiola[\"Lumensyvyys (cm)\"])\n",
    "plt.title(\"Lumensyvyys Tapiolan mitta-asemalla (cm) \\n\", fontsize = 30)\n",
    "plt.show()\n",
    "\n",
    "plt.figure(figsize = (30, 5))\n",
    "plt.scatter(Nupuri[\"Aika\"], Nupuri[\"Lumensyvyys (cm)\"])\n",
    "plt.title(\"Lumensyvyys Nupurin mitta-asemalla (cm) \\n\", fontsize = 30)\n",
    "plt.show()\n",
    "\n",
    "plt.figure(figsize = (30, 5))\n",
    "plt.scatter(Nuuksio[\"Aika\"], Nuuksio[\"Lumensyvyys (cm)\"])\n",
    "plt.title(\"Lumensyvyys Nuuksion mitta-asemalla (cm) \\n\", fontsize = 30)\n",
    "plt.show()"
   ]
  },
  {
   "cell_type": "markdown",
   "id": "aaff6bd3",
   "metadata": {},
   "source": [
    "Tapiolan ja Nuuksion tiedot näyttävät olevan samalta ajalta, mikä helpottaa rinnakkaista vertailua:"
   ]
  },
  {
   "cell_type": "code",
   "execution_count": null,
   "id": "c520539f",
   "metadata": {},
   "outputs": [],
   "source": [
    "plt.figure(figsize = (30, 5))\n",
    "plt.scatter(Nupuri[\"Aika\"], Nupuri[\"Lumensyvyys (cm)\"], c = \"red\", label = \"Nupuri\")\n",
    "plt.scatter(Nuuksio[\"Aika\"], Nuuksio[\"Lumensyvyys (cm)\"], c = \"blue\", label = \"Nuuksio\")\n",
    "plt.scatter(Tapiola[\"Aika\"], Tapiola[\"Lumensyvyys (cm)\"], c = \"orange\", label = \"Tapiola\")\n",
    "plt.title(\"Lumensyvyys Espoon mitta-asemilla (cm) \\n\", fontsize = 30)\n",
    "plt.legend(fontsize = 20)\n",
    "plt.show()"
   ]
  },
  {
   "cell_type": "markdown",
   "id": "279f5294",
   "metadata": {},
   "source": [
    "Aineistossa näkyy muutamia poikkeuksellisia kausia, kuten poikkeuksellisen lumettomia vuosia (2008, 2020) tai korkeita kinoksia (2010, 2022). Tarkastellaan niitä vähän lähemmin."
   ]
  },
  {
   "cell_type": "code",
   "execution_count": null,
   "id": "4a2542a3",
   "metadata": {},
   "outputs": [],
   "source": [
    "Tapiola20 = Tapiola.query(\"Vuosi >= '2019'\")\n",
    "Nuuksio20 = Nuuksio.query(\"Vuosi >= '2019'\")\n",
    "\n",
    "plt.figure(figsize = (30, 5))\n",
    "\n",
    "#plt.subplot(1,2,1)\n",
    "plt.scatter(Tapiola20[\"Aika\"], Tapiola20[\"Lumensyvyys (cm)\"], c = \"orange\", label = \"Tapiola\")\n",
    "plt.xticks(rotation = 45)\n",
    "\n",
    "#plt.subplot(1,2,2)\n",
    "plt.scatter(Nuuksio20[\"Aika\"], Nuuksio20[\"Lumensyvyys (cm)\"], c = \"b\", alpha = 0.5, label = \"Nuuksio\")\n",
    "\n",
    "plt.suptitle(\"Lumensyvyys viime vuosina Espoon mitta-asemilla (cm) \\n\", fontsize = 30)\n",
    "plt.xticks(rotation = 45)\n",
    "plt.legend(fontsize = 20)\n",
    "plt.show()"
   ]
  },
  {
   "cell_type": "code",
   "execution_count": null,
   "id": "5dc3b0ed",
   "metadata": {},
   "outputs": [],
   "source": [
    "Tapiola21 = Tapiola.query(\"Vuosi >= '2021'\")\n",
    "Nuuksio21 = Nuuksio.query(\"Vuosi >= '2021'\")\n",
    "\n",
    "plt.figure(figsize = (15, 5))\n",
    "\n",
    "#plt.subplot(1,2,1)\n",
    "plt.scatter(Tapiola21[\"Aika\"], Tapiola21[\"Lumensyvyys (cm)\"], c = \"orange\", label = \"Tapiola\")\n",
    "plt.xticks(rotation = 45)\n",
    "\n",
    "#plt.subplot(1,2,2)\n",
    "plt.scatter(Nuuksio21[\"Aika\"], Nuuksio21[\"Lumensyvyys (cm)\"], c = \"b\", alpha = 0.5, label = \"Nuuksio\")\n",
    "\n",
    "plt.suptitle(\"Lumensyvyys 21-22 Espoon mitta-asemilla (cm) \\n\", fontsize = 30)\n",
    "plt.xticks(rotation = 45)\n",
    "plt.legend(fontsize = 20)\n",
    "plt.show()"
   ]
  },
  {
   "cell_type": "markdown",
   "id": "88357ac3",
   "metadata": {},
   "source": [
    "### 4. Arviointi"
   ]
  },
  {
   "cell_type": "markdown",
   "id": "5edc204d",
   "metadata": {},
   "source": [
    "Ilmatieteen laitoksen sivuilta saa jonkinlaista kuvaa mittausten tarkkuudesta ja asemien paikkatiedoista.\n",
    "\n",
    "Lumensyvyyden hetkelliseksi tarkkuudeksi ilmoitetaan ± 2 cm. Vuorokausiarvoja, joita tässäkin käytettiin, ei keskiarvoisteta läpi päivän vaan ne ilmoitetaan kello 8 (kesällä 9) havainnoista.\n",
    "\n",
    "Asemista kerrotaan seuraavaa.\n",
    "\n",
    "Nuuksio:\n",
    "*Asema sijaitsee laajalla metsäisellä, harvaan asutulla ja hyvin rikkonaisella järviylängöllä jonka korkeustaso on keskimäärin 80-110 m mpy, mutta syvät murroslaaksot 30-60 m mpy. Järviylänkö on sade- ja lumimaksimialuetta. Laajemmat alavat, tyypilliset Etelä-Suomen jokimaat (20-50 m mpy) sijaitsevat lähimmillään kaakossa ja lounaassa n. 6 km päässä asemasta. Sääasema sijaitsee pienellä metsäaukiolla korkean mäen reunamalla.*\n",
    "\n",
    "Tapiola:\n",
    "*Asema sijaitsee rannikolla, pääkaupunkiseudun (asukasluku n. 1,1 milj.) esikaupunkialueella. Keskimääräiseen rannikkoviivaan on etäisyyttä n. 2 km sektorissa 120-240 astetta, lisäksi Laajalahden-Seurasaaren lahti sijaitsee n. 2,5 km päässä idässä ja koillisessa. Maa-aluetta hallitsevat kallio/moreeniselänteet (20-50 m mpy) ja näiden väliset savitasangot (0-20 m mpy). Sääasema sijaitsee Gräsanojan loivassa laaksossa, laajan ulkoilualueen melko avoimessa puistossa, jossa muutamien lehtipuiden lisäksi 30 metriä korkea rakennus lounaassa n. 25 m päässä asemasta.*\n",
    "\n",
    "Nupurin aseman toiminta lopetettiin vuonna 2011.\n",
    "\n",
    "---------\n",
    "\n",
    "Ylläolevan perusteella ei liene ihmeellistä, että piirretyssä aineistossa havaitaan Nuuksion ylittävän reippaasti Tapiolan arvot. Syitä löytyy niin maantieteen (paikallinen lumimaksimi, pohjoisempana) kuin ihmistoiminnankin vuoksi (Tapiola sijaitsee tiiviimmin asutetulla alueella). Trendit noudattavat kuitenkin toisiaan, kuten nähdään erittäin lumisesta vuodesta 2022 tai käytännössä lumettomasta vuodesta 2020.\n",
    "\n",
    "Lumiaineistot ovat näillä asemilla kuitenkin harmillisen lyhyitä. Kaivelemalla latauspalvelusta vanhempia asemia tai tekemällä johtopäätöksiä yleisten sademäärien kautta pystyisi syventämään väitteitään alueen ilmaston aikakehityksestä. Jatkopohdintana voi miettiä, miten lumettomien ja hyvin lumisten vuosien heiluminen tilastoissa liittyy yleisesti ilmastonmuutoksen tuomiin säähäiriöihin."
   ]
  },
  {
   "cell_type": "markdown",
   "id": "37544352",
   "metadata": {},
   "source": [
    "### 5. Lähteet"
   ]
  },
  {
   "cell_type": "markdown",
   "id": "894eab4b",
   "metadata": {},
   "source": [
    "https://www.ilmatieteenlaitos.fi/havaintojen-lataus\n",
    "\n",
    "https://www.ilmatieteenlaitos.fi/havaintoasemat\n",
    "\n",
    "https://www.ilmatieteenlaitos.fi/nuuksion-saahavaintoasema"
   ]
  }
 ],
 "metadata": {
  "kernelspec": {
   "display_name": "Python 3 (ipykernel)",
   "language": "python",
   "name": "python3"
  },
  "language_info": {
   "codemirror_mode": {
    "name": "ipython",
    "version": 3
   },
   "file_extension": ".py",
   "mimetype": "text/x-python",
   "name": "python",
   "nbconvert_exporter": "python",
   "pygments_lexer": "ipython3",
   "version": "3.9.7"
  }
 },
 "nbformat": 4,
 "nbformat_minor": 5
}
