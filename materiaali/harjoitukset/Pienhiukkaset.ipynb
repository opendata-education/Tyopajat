{
 "cells": [
  {
   "cell_type": "markdown",
   "metadata": {},
   "source": [
    "# ESIMERKKI 4: Pienhiukkaset - saasteita ja aerosoleja"
   ]
  },
  {
   "cell_type": "markdown",
   "metadata": {},
   "source": [
    "Ilmakehä koostuu paljosta muustakin kuin pelkistä kaasuista ja meille eläville olennoille oleellista on, missä määrin tämä vaikuttaa eläinten ja kasvien toimintaan. Kokonaiskuvan kannalta on hyvä muistaa heti alusta alkaen, että ilmakehän monimutkaisuus tekee yksittäisten tulosten väärintulkinnasta helppoa: kun tehdään ennusteita ja tulkintoja planeetan kannalta tärkeistä toimista, pitää muistaa tarkastella niin hiukkasten syntyprosesseja, käytöstä ilmakehässä, niiden kulkeutumista tuulten mukana lämpötiloista ja kosteudesta riippuen sekä vuorovaikutuksia erilaisten ekosysteemien kanssa.\n",
    "\n",
    "Tarkastellaan seuraavaksi erinäisiä mikro- ja nanometrikokoluokassa olevia hiukkastyyppejä. Lähteinä käytämme Ilmatieteenlaitoksen ja SMEAR-asemien avoimia aineistoja."
   ]
  },
  {
   "cell_type": "markdown",
   "metadata": {},
   "source": [
    "## 1. SMEAR - Station for Measuring Ecosystem-Atmosphere Relations"
   ]
  },
  {
   "cell_type": "markdown",
   "metadata": {},
   "source": [
    "Torilla tavataan, Suomi on näet kansainvälinen supervalta laadukkaan ja pitkäaikaisen datankeruun suhteen kun puhutaan ilmakehän poikkitieteellisestä tutkimuksesta. Professori Markku Kulmalan ja muiden nimet keikkuvat jatkuvasti alan kärkilistoilla ja projektit puskevat ihmiskunnan ymmärrystä mm. aerosolien muodostumisesta ja käyttäytymisestä aina vain pidemmälle.\n",
    "\n",
    "[SMEAR-asemat](https://www.atm.helsinki.fi/SMEAR/) ovat monipuolisia koeasemia, joilla mitataan yhtäaikaisesti niin säähavaintoja, ainevirtauksia kuin laajempia ekosysteemimuutoksiakin. Erityisen tärkeitä asemat ovat aerosolien tutkimuksen kannalta, sillä näitä on perinteisesti ollut erittäin vaikeaa tarkastella luotettavilla tavoilla reaaliajassa. \n",
    "\n",
    "### 1.1 Aerosolit - mitä ja miksi?\n",
    "\n",
    "Aerosolit ovat yhdistelmä kaasua ja siihen sekoittuneita hiukkasia, joita syntyy kaikkialla. Liikenne, teollisuus, merten aallot, kasvien fotosynteesin sivutuotteet... lukematon määrä prosesseja planeetallamme aiheuttaa hiukkasten virtausta ekosysteemien ja ilmakehän välillä. Kuten Auringon toiminta on planeettamme ensisijainen energianlähde, erilaisten aerosolien vaikutus maailmamme elinkelpoisuuteen on ensisijaisen tärkeää mm. pilvien muodostumisen, veden kierron ja paikallisten ilmamassojen energiajakauman kannalta. Suoraan ilmakehään siirtyneet aineet ovat primääriaerosoleja ja siellä kaasuista kehittyneet aineet sekundaarisia aerosoleja.\n",
    "\n",
    "Merkittävät osat ilmastonmuutoskeskustelua liittyvät aerosoleihin. Nokihiutaleiden määrä imee auringonvaloa itseensä ja pitää tehokkaasti lämpöä ilmakehässä, rikkiyhdisteet tehostavat pienipisaraisten pilvien muodostumista ja heijastavat enemmän valoa pois, ilmakehä yleisesti sakenee enemmän valoa himmentäväksi ja johtaa paikallisiin nälänhätiin mutta sen siivoaminen nostaa globaalia lämpötilaa suuremman osan valosta päästessä pinnalle ja niin edelleen.\n",
    "\n",
    "Kyseessä on monimutkainen vyyhti, jonka ratkaiseminen on yhteisen selviämisemme kannalta oleellista, mutta se vaatii poliittista vastuunkantoa ja ohjausta. Tutkimuksen kannalta suunta on selvä, kuten professori Hanna Vehkamäki sanoo: \"ilmakehän tutkiminen on toki tärkeää luonnon ja ihmisten hyvinvoinnin kannalta. Mutta minulle on tärkeintä saada tietää, miten molekyylit käyttäytyvät. Minun tehtäväni on yksinkertaisesti selvittää, miten luonto toimii. Siinä kaikki.\" *-Yhdessä ilmakehässä, 2016*\n",
    "\n",
    "### 1.2 Pohjoinen metsävyöhyke ja muutoksen vaikutukset\n",
    "\n",
    "Tutkimusjulkaisussa \"Long-term sub-micrometer aerosol chemical composition in the boreal forest: inter- and intra-annual variability\" (Heikkinen ym., 2020) todettiin SMEAR II datojen perusteella seuraavaa:\n",
    "\n",
    "\"*During the exceptionally hot months of July of 2014 and 2018, the organic aerosol concentrations were up to 70 % higher than the 7-year July mean. The projected increase in heat wave frequency over Finland will most likely influence the loading and chemical composition of aerosol particles in the future. Our findings suggest strong influence of meteorological conditions such as radiation, ambient temperature, and wind speed and direction on aerosol chemical composition.*\"\n",
    "\n",
    "Mitä jos tutustuisimme osaan aineistosta? Alla kuva samasta julkaisusta:\n"
   ]
  },
  {
   "cell_type": "markdown",
   "metadata": {},
   "source": [
    "![aerosolit](https://raw.githubusercontent.com/opendata-education/Tyopajat/main/materiaali/data/aerosolit.png)"
   ]
  },
  {
   "cell_type": "markdown",
   "metadata": {},
   "source": [
    "### 1.3 Aineisto\n",
    "\n"
   ]
  },
  {
   "cell_type": "code",
   "execution_count": null,
   "metadata": {},
   "outputs": [],
   "source": [
    "# Ladataan tarvittavat työkalut\n",
    "\n",
    "import pandas as pd # taulukoiden käsittelyyn\n",
    "import matplotlib.pyplot as plt # kuvaajien piirtoon\n",
    "import numpy as np # luonnonvakioihin\n",
    "\n",
    "plt.rcParams['font.size'] = 25 # yleiseen fonttikoon säätöön"
   ]
  },
  {
   "cell_type": "code",
   "execution_count": null,
   "metadata": {},
   "outputs": [],
   "source": [
    "# Vuoden 2014 kokonaisaerosolimäärät ja lämpötilamittaukset Hyytiälän SMEAR II -asemalla.\n",
    "\n",
    "A_tot = pd.read_csv(\"https://raw.githubusercontent.com/opendata-education/Tyopajat/main/materiaali/data/HyyATot.csv\",\n",
    "                    parse_dates = {\"Aika\":[\"Year\", \"Month\", \"Day\", \"Hour\"]}, keep_date_col = True)\n",
    "T1 = pd.read_csv(\"https://raw.githubusercontent.com/opendata-education/Tyopajat/main/materiaali/data/HyyT1.csv\",\n",
    "                 parse_dates = {\"Aika\":[\"Year\", \"Month\", \"Day\", \"Hour\"]}, keep_date_col = True)"
   ]
  },
  {
   "cell_type": "code",
   "execution_count": null,
   "metadata": {
    "scrolled": false
   },
   "outputs": [],
   "source": [
    "# Piirretään kuvaaja.\n",
    "\n",
    "fig = plt.figure(figsize = (30, 10))\n",
    "\n",
    "plt.plot(A_tot[\"Aika\"], A_tot[\"HYY_DMPS.tconc\"], \"orange\", label = \"Aerosolit\")\n",
    "plt.ylabel(\"ppb\\n\", fontsize = 25)\n",
    "\n",
    "plt.twinx()\n",
    "\n",
    "plt.plot(T1[\"Aika\"], T1[\"HYY_META.T672\"], \"c\", label = \"Lämpötila\")\n",
    "plt.ylabel(\"Lämpötila (°C)\")\n",
    "\n",
    "plt.title(\"Aerosolikonsentraatio Hyytiälän asemalla \\n\", fontsize = 30)\n",
    "fig.supxlabel(\"\\nAika\", fontsize = 25)\n",
    "\n",
    "fig.legend(loc = \"upper right\", fontsize = 25)\n",
    "plt.show()"
   ]
  },
  {
   "cell_type": "code",
   "execution_count": null,
   "metadata": {},
   "outputs": [],
   "source": [
    "# Äskeinen kuvaaja on tehty tunnin resoluutiolla. Entä jos katsotaan laajaa kuvaa kuukausikeskiarvoilla?\n",
    "\n",
    "KKA = A_tot.groupby([\"Month\"]).mean()\n",
    "KKT = T1.groupby([\"Month\"]).mean()"
   ]
  },
  {
   "cell_type": "code",
   "execution_count": null,
   "metadata": {
    "scrolled": true
   },
   "outputs": [],
   "source": [
    "# Piirretään kuvaaja.\n",
    "\n",
    "fig = plt.figure(figsize = (30, 10))\n",
    "\n",
    "plt.plot(KKA[\"HYY_DMPS.tconc\"], \"orange\", label = \"Aerosolit\")\n",
    "plt.ylabel(\"ppb\\n\", fontsize = 25)\n",
    "\n",
    "plt.twinx()\n",
    "\n",
    "plt.plot(KKT[\"HYY_META.T672\"], \"c\", label = \"Lämpötila\")\n",
    "plt.ylabel(\"Lämpötila (°C)\")\n",
    "\n",
    "plt.title(\"Aerosolikonsentraatio Hyytiälän asemalla (kuukausikeskiarvo) \\n\", fontsize = 30)\n",
    "fig.supxlabel(\"\\nAika\", fontsize = 25)\n",
    "fig.legend(loc = \"upper right\", fontsize = 25)\n",
    "plt.show()"
   ]
  },
  {
   "cell_type": "code",
   "execution_count": null,
   "metadata": {},
   "outputs": [],
   "source": [
    "# Tai vaihtelua kellonajan mukaan? \n",
    "\n",
    "KKAt = A_tot.groupby([\"Hour\"]).mean()\n",
    "KKTt = T1.groupby([\"Hour\"]).mean()"
   ]
  },
  {
   "cell_type": "code",
   "execution_count": null,
   "metadata": {},
   "outputs": [],
   "source": [
    "# Piirretään kuvaaja.\n",
    "\n",
    "fig = plt.figure(figsize = (30, 10))\n",
    "\n",
    "plt.plot(KKAt[\"HYY_DMPS.tconc\"], \"orange\", label = \"Aerosolit\")\n",
    "plt.ylabel(\"ppb\\n\", fontsize = 25)\n",
    "\n",
    "plt.twinx()\n",
    "\n",
    "plt.plot(KKTt[\"HYY_META.T672\"], \"c\", label = \"Lämpötila\")\n",
    "plt.ylabel(\"Lämpötila (°C)\")\n",
    "\n",
    "plt.title(\"Aerosolikonsentraatio Hyytiälän asemalla (vuorokaudenajan mukaan) \\n\", fontsize = 30)\n",
    "fig.supxlabel(\"\\nAika\", fontsize = 25)\n",
    "fig.legend(loc = \"upper right\", fontsize = 25)\n",
    "plt.show()"
   ]
  },
  {
   "cell_type": "code",
   "execution_count": null,
   "metadata": {},
   "outputs": [],
   "source": [
    "# Äskeinen tietysti sekoittaa vuodenaikojen keskiarvot. Lisätehtävänä voisit tehdä tähän tarkemmankin jaon.\n",
    "\n"
   ]
  },
  {
   "cell_type": "markdown",
   "metadata": {},
   "source": [
    "## 2. Paikallistarkastelussa Hyvinkää - kulkeeko henki?"
   ]
  },
  {
   "cell_type": "markdown",
   "metadata": {},
   "source": [
    "Hyvinkään kaupunki on ollut vuodesta 2008 asti osana kansallista ilmanlaatumittausten sarjaa, joihin pääsee käsiksi Ilmatieteen laitoksen sivuilta: https://www.ilmatieteenlaitos.fi/havaintojen-lataus ja joista saa nopean visualisaation https://www.ilmatieteenlaitos.fi/ilmanlaatu avulla.\n",
    "\n",
    "Kaikilla asemilla ei mitata kaikkia suureita, joten ladataan aineistot ja katsotaan mitä siellä on tehty. "
   ]
  },
  {
   "cell_type": "markdown",
   "metadata": {},
   "source": [
    "### 2.1 Aineisto"
   ]
  },
  {
   "cell_type": "code",
   "execution_count": null,
   "metadata": {},
   "outputs": [],
   "source": [
    "# Haetaan aineistot Ilmatieteen laitoksen sivuilta.\n",
    "\n",
    "Hyv8 = pd.read_csv(\"https://raw.githubusercontent.com/opendata-education/Tyopajat/main/materiaali/data/Hyv812.csv\",\n",
    "                 parse_dates = {\"Aika\":[\"Vuosi\", \"Kk\", \"Pv\", \"Klo\"]}, keep_date_col = True)\n",
    "Hyv13 = pd.read_csv(\"https://raw.githubusercontent.com/opendata-education/Tyopajat/main/materiaali/data/Hyv1317.csv\",\n",
    "                 parse_dates = {\"Aika\":[\"Vuosi\", \"Kk\", \"Pv\", \"Klo\"]}, keep_date_col = True)\n",
    "Hyv18 = pd.read_csv(\"https://raw.githubusercontent.com/opendata-education/Tyopajat/main/materiaali/data/Hyv1822.csv\",\n",
    "                 parse_dates = {\"Aika\":[\"Vuosi\", \"Kk\", \"Pv\", \"Klo\"]}, keep_date_col = True)\n",
    "\n",
    "# Yhdistetään tiedot yhteen muuttujaan.\n",
    "\n",
    "Hyv = pd.concat([Hyv8, Hyv13, Hyv18])\n",
    "\n",
    "# Taulukossa on vääriä tietotyyppejä (tekstiä numeroiden sijaan). Korjataan tilanne.\n",
    "\n",
    "Hyv[\"Vuosi\"] = pd.to_numeric(Hyv[\"Vuosi\"], errors = \"coerce\")\n",
    "Hyv[\"Kk\"] = pd.to_numeric(Hyv[\"Kk\"], errors = \"coerce\")\n",
    "Hyv[\"Pv\"] = pd.to_numeric(Hyv[\"Pv\"], errors = \"coerce\")\n",
    "Hyv[\"Hengitettävät hiukkaset (ug/m3)\"] = pd.to_numeric(Hyv[\"Hengitettävät hiukkaset (ug/m3)\"], errors = \"coerce\")\n",
    "Hyv[\"Typpidioksidi (ug/m3)\"] = pd.to_numeric(Hyv[\"Typpidioksidi (ug/m3)\"], errors = \"coerce\")\n",
    "Hyv[\"Typpimonoksidi (ug/m3)\"] = pd.to_numeric(Hyv[\"Typpimonoksidi (ug/m3)\"], errors = \"coerce\")"
   ]
  },
  {
   "cell_type": "code",
   "execution_count": null,
   "metadata": {
    "scrolled": false
   },
   "outputs": [],
   "source": [
    "# Katsotaan miltä aineisto näyttää.\n",
    "\n",
    "Hyv"
   ]
  },
  {
   "cell_type": "markdown",
   "metadata": {},
   "source": [
    "### 2.2 Hiukkasen asiaa"
   ]
  },
  {
   "cell_type": "markdown",
   "metadata": {},
   "source": [
    "Asemalla mitataan siis typpiyhdisteitä (NO$_x$, tässä mono- ja dioksidi) sekä hengitettäviä hiukkasia (PM$_{10}$, particulate matter < 10 $\\mu m$). Näiden mukaan laskettu ilmanlaadun indeksi on dynaamisesti määritettävä suure, jota ohjaa Suomen oloihin HSY:n ja THL:n määrittämä [taulukko](https://www.ilmatieteenlaitos.fi/ilmanlaatuindeksi):\n",
    "\n",
    "| Indeksiluokitus | SO$_2$ (${\\mu g} / {m^3}$)| NO$_2$ (${\\mu g} / {m^3}$) | PM$_{10}$ (${\\mu g} / {m^3}$)|\n",
    "| --- | --- | --- | --- |\n",
    "| Hyvä | alle 20 | alle 40 | alle 20|\n",
    "| Tyydyttävä | 20-80 | 40-70 | 20-50 |\n",
    "| Välttävä | 80-250 | 70-150 | 50-100 |\n",
    "| Huono| 250-350 | 150-200 | 100-200 |\n",
    "| Erittäin huono | yli 350| yli 200 | yli 200|\n",
    "\n",
    "**Hengitettävät hiukkaset**\n",
    "\n",
    "![PM10](https://www.ilmatieteenlaitos.fi/hli0qi7fbbos/3azcRrSzYFLj3nZfy295GK/063a60487fd683de0fb9947a71bbb75d/PM10_1994-2020.jpg?fm=webp)\n",
    "\n",
    "Pääasiassa pölyä ja suoloja, mutta mukana kulkeutuu myös haitallisia raskasmetalleja ja hiilivetyjä. Sisältää myös varsinaisten pienhiukkasten PM$_{2-5}$ joukon. Mikä on suurin lähde etenkin kaupungeissa?\n",
    "\n",
    "![PM2-5](https://www.ilmatieteenlaitos.fi/hli0qi7fbbos/PCYhXRMreVEPQUktDPxXT/b28960b16838418ffbbeff290f6c3dd0/PM2.5_1998-2020.jpg?fm=webp)\n",
    "\n",
    "**Typpidioksidi NO$_2$**\n",
    "\n",
    "![NOx](https://www.ilmatieteenlaitos.fi/hli0qi7fbbos/4uobj2kV5I6L8Fl40yS6VF/faa518e98f691744715d7f46d30626db/NO2_1994-2020.jpg?fm=webp)\n",
    "\n",
    "Hengitystä ärsyttävä aine, joka rehevöittää ja happamoittaa ekosysteemejä. Osallistuu matalalla ilmakehässä otsonin tuotantoon. Mistä typpiyhdisteitä syntyy?"
   ]
  },
  {
   "cell_type": "markdown",
   "metadata": {},
   "source": [
    "## 2.3 Tutkitaas itse"
   ]
  },
  {
   "cell_type": "code",
   "execution_count": null,
   "metadata": {},
   "outputs": [],
   "source": [
    "# Piirretään koko aineisto kuvaajaan.\n",
    "\n",
    "plt.figure(figsize = (30, 10))\n",
    "\n",
    "plt.plot(Hyv[\"Aika\"], Hyv[\"Hengitettävät hiukkaset (ug/m3)\"], color = \"c\", label = \"Hengitettävät hiukkaset\")\n",
    "plt.plot(Hyv[\"Aika\"], Hyv[\"Typpidioksidi (ug/m3)\"], color = \"b\", label = \"Typpidioksidi\")\n",
    "plt.plot(Hyv[\"Aika\"], Hyv[\"Typpimonoksidi (ug/m3)\"], color = \"g\", label = \"Typpimonoksidi\")\n",
    "\n",
    "plt.title(\"Ilmanlaatu Hyvinkään kaupungissa\", fontsize = 30, y = 1.1)\n",
    "plt.ylabel(\"Konsentraatio ($\\mu$g / m$^3$)\", fontsize = 25)\n",
    "plt.xlabel(\"Aika\", fontsize = 25)\n",
    "\n",
    "plt.legend(loc = \"upper right\")\n",
    "plt.show()"
   ]
  },
  {
   "cell_type": "markdown",
   "metadata": {},
   "source": [
    "Tulipas huonosti luettava kuvaaja, mutta ainakin näemme miltä ajalta dataa on kerätty. Paloitellaan oikeasti mitatut vuodet (2008, 2013, 2014 ja 2018) vierekkäisiksi kuvaajiksi."
   ]
  },
  {
   "cell_type": "code",
   "execution_count": null,
   "metadata": {},
   "outputs": [],
   "source": [
    "H08 = Hyv.query(\"Vuosi == 2008\")\n",
    "H13 = Hyv.query(\"Vuosi == 2013\")\n",
    "H14 = Hyv.query(\"Vuosi == 2014\")\n",
    "H18 = Hyv.query(\"Vuosi == 2018\")\n",
    "\n",
    "# query on kiva työkalu, jolle voisi antaa monimutkaisempiakin ohjeita, \n",
    "# esim. Hyv.query(\"(Vuosi == 2008) and (Kk > 2 and Kk < 6)\")"
   ]
  },
  {
   "cell_type": "code",
   "execution_count": null,
   "metadata": {},
   "outputs": [],
   "source": [
    "fig, ax = plt.subplots(1, 4, sharex='col', sharey='row', figsize = (30, 10))\n",
    "\n",
    "fig.suptitle(\"Ilmanlaatu Hyvinkään kaupungissa vuosittain\", fontsize = 30, y = 1)\n",
    "fig.supxlabel(\"Aika\", fontsize = 25, y = -0.05)\n",
    "fig.supylabel(\"Konsentraatio ($\\mu$g / m$^3$)\", fontsize = 25, x = 0.08)\n",
    "\n",
    "H = [H08, H13, H14, H18]\n",
    "\n",
    "# Tehdään kerralla useampi kuvaaja silmukan avulla.\n",
    "\n",
    "for i in range(4):\n",
    "    plt.subplot(1,4,i+1)\n",
    "    plt.plot(H[i][\"Aika\"], H[i][\"Hengitettävät hiukkaset (ug/m3)\"], color = \"c\", label = \"Hengitettävät hiukkaset\")\n",
    "    plt.plot(H[i][\"Aika\"], H[i][\"Typpidioksidi (ug/m3)\"], color = \"b\",label = \"Typpidioksidi\")\n",
    "    plt.plot(H[i][\"Aika\"], H[i][\"Typpimonoksidi (ug/m3)\"], color = \"g\", label = \"Typpimonoksidi\")\n",
    "    plt.xticks(rotation = 30)\n",
    "\n",
    "plt.legend(loc = \"upper right\", fontsize = 20)\n",
    "plt.show()"
   ]
  },
  {
   "cell_type": "markdown",
   "metadata": {},
   "source": [
    "Miten Hyvinkään mittaukset vertautuvat annettuihin rajoihin? Milloin ja miksi rajat paukkuvat eniten?"
   ]
  },
  {
   "cell_type": "code",
   "execution_count": null,
   "metadata": {},
   "outputs": [],
   "source": [
    "# Valitaan tarkasteluun pienempi osa-alue, vaikkapa maalis-toukokuu joltakin vuodelta.\n",
    "\n",
    "# Entä jos kokeilisit viivapiirron sijasta yksittäisten mittaustulosten merkkaamista?\n",
    "# Lisää väriparametriin vaikkapa *, v, + tai muu sopiva merkki (täysi lista googlaamalla python plot marker).\n",
    "\n",
    "Hm = Hyv.query(\"(Vuosi == 2018) and (Kk > 2 and Kk < 6)\")\n",
    "\n",
    "plt.figure(figsize = (30,10))\n",
    "\n",
    "plt.title(\"Ilmanlaatu Hyvinkään kaupungissa\", fontsize = 30, y = 1.1)\n",
    "plt.xlabel(\"Aika\", fontsize = 25)\n",
    "plt.ylabel(\"Konsentraatio ($\\mu$g / m$^3$)\", fontsize = 25)\n",
    "\n",
    "plt.plot(Hm[\"Aika\"], Hm[\"Hengitettävät hiukkaset (ug/m3)\"], \"c\", label = \"Hengitettävät hiukkaset\")\n",
    "plt.plot(Hm[\"Aika\"], Hm[\"Typpidioksidi (ug/m3)\"], \"b\",label = \"Typpidioksidi\")\n",
    "plt.plot(Hm[\"Aika\"], Hm[\"Typpimonoksidi (ug/m3)\"], \"g\", label = \"Typpimonoksidi\")\n",
    "plt.xticks(rotation = 30)\n",
    "\n",
    "plt.legend()\n",
    "plt.show()"
   ]
  },
  {
   "cell_type": "markdown",
   "metadata": {},
   "source": [
    "Tarkkojen tuntimittausten ohella voisimme tietysti kaivaa aineistosta myös päiväkohtaiset keskiarvot."
   ]
  },
  {
   "cell_type": "code",
   "execution_count": null,
   "metadata": {},
   "outputs": [],
   "source": [
    "# Päiväkeskiarvot on helpointa toteuttaa lisäämällä aineistoon ladattaessa kelloton aikasarake.\n",
    "\n",
    "Vrk8 = pd.read_csv(\"https://raw.githubusercontent.com/opendata-education/Tyopajat/main/materiaali/data/Hyv812.csv\",\n",
    "                 parse_dates = {\"Vrk\":[\"Vuosi\", \"Kk\", \"Pv\"]}, keep_date_col = True)\n",
    "\n",
    "Vrk8[\"Vuosi\"] = pd.to_numeric(Vrk8[\"Vuosi\"], errors = \"coerce\")\n",
    "Vrk8[\"Kk\"] = pd.to_numeric(Vrk8[\"Kk\"], errors = \"coerce\")\n",
    "Vrk8[\"Pv\"] = pd.to_numeric(Vrk8[\"Pv\"], errors = \"coerce\")\n",
    "Vrk8[\"Hengitettävät hiukkaset (ug/m3)\"] = pd.to_numeric(Vrk8[\"Hengitettävät hiukkaset (ug/m3)\"], errors = \"coerce\")\n",
    "Vrk8[\"Typpidioksidi (ug/m3)\"] = pd.to_numeric(Vrk8[\"Typpidioksidi (ug/m3)\"], errors = \"coerce\")\n",
    "Vrk8[\"Typpimonoksidi (ug/m3)\"] = pd.to_numeric(Vrk8[\"Typpimonoksidi (ug/m3)\"], errors = \"coerce\")\n",
    "\n",
    "# Nyt voimme ryhmitellä groupby()-komennolla kaikki uniikit vuorokaudet ja laskea niihin liittyvät keskiarvot.\n",
    "\n",
    "KV = Vrk8.groupby([\"Vrk\"]).mean()"
   ]
  },
  {
   "cell_type": "code",
   "execution_count": null,
   "metadata": {},
   "outputs": [],
   "source": [
    "# Tarkastellaan tulosta.\n",
    "\n",
    "KV"
   ]
  },
  {
   "cell_type": "code",
   "execution_count": null,
   "metadata": {},
   "outputs": [],
   "source": [
    "# Piirretään päiväkeskiarvot kuvaajaan\n",
    "\n",
    "plt.figure(figsize = (30,10))\n",
    "\n",
    "plt.plot(KV[\"Hengitettävät hiukkaset (ug/m3)\"], \"cv\", label = \"Hengitettävät hiukkaset\")\n",
    "plt.plot(KV[\"Typpidioksidi (ug/m3)\"], \"b*\", label = \"Typpidioksidi\")\n",
    "plt.plot(KV[\"Typpimonoksidi (ug/m3)\"],\"gs\", label = \"Typpimonoksidi\")\n",
    "plt.xticks(rotation = 30)\n",
    "\n",
    "# Lisätään selkeyden nimissä myös pari rajaviivaa kuvaajaan, jotta sitä on helpompaa tulkita.\n",
    "\n",
    "plt.axhline(20, linestyle='--', label = \"Hyvä hh\", c = 'r', alpha = 0.5)\n",
    "plt.axhline(40, linestyle='--', label = \"Hyvä NOx\", c = 'b', alpha = 0.5)\n",
    "plt.axhline(50, linestyle='--', label = \"Tyydyttävä hh\", c = 'orange', alpha = 0.5)\n",
    "plt.axhline(70, linestyle='--', label = \"Tyydyttävä NOx\", c = 'y', alpha = 0.5)\n",
    "\n",
    "plt.title(\"Ilmanlaatu Hyvinkään kaupungissa\", fontsize = 30, y = 1.1)\n",
    "plt.xlabel(\"Aika\", fontsize = 25)\n",
    "plt.ylabel(\"Konsentraatio ($\\mu$g / m$^3$)\", fontsize = 25)\n",
    "\n",
    "plt.legend()\n",
    "plt.show()"
   ]
  },
  {
   "cell_type": "markdown",
   "metadata": {},
   "source": [
    "Miksi havainnot sahaavat piikkeinä ylös alas? Entä jos tarkastelisimmekin havaintoja kellonajan mukaan?\n"
   ]
  },
  {
   "cell_type": "code",
   "execution_count": null,
   "metadata": {},
   "outputs": [],
   "source": [
    "# Kellonaikakohtaiset keskiarvot aiemmin jaotellusta \"Hm\"-muuttujasta.\n",
    "\n",
    "KA = Hm.groupby([\"Klo\"]).mean()\n",
    "KA"
   ]
  },
  {
   "cell_type": "code",
   "execution_count": null,
   "metadata": {
    "scrolled": false
   },
   "outputs": [],
   "source": [
    "# Piirretään ajallinen jakauma keskiarvojen avulla. \n",
    "\n",
    "plt.figure(figsize = (30,10))\n",
    "\n",
    "plt.plot(KA[\"Hengitettävät hiukkaset (ug/m3)\"], color = \"c\", label = \"Hengitettävät hiukkaset\")\n",
    "plt.plot(KA[\"Typpidioksidi (ug/m3)\"], color = \"b\",label = \"Typpidioksidi\")\n",
    "plt.plot(KA[\"Typpimonoksidi (ug/m3)\"], color = \"g\", label = \"Typpimonoksidi\")\n",
    "plt.xticks(rotation = 30)\n",
    "\n",
    "# Lisätään selkeyden nimissä myös pari rajaviivaa kuvaajaan, jotta sitä on helpompaa tulkita.\n",
    "\n",
    "plt.axhline(20, linestyle='--', label = \"Hyvä hh\", c = 'r', alpha = 0.5)\n",
    "plt.axhline(40, linestyle='--', label = \"Hyvä NOx\", c = 'b', alpha = 0.5)\n",
    "plt.axhline(50, linestyle='--', label = \"Tyydyttävä hh\", c = 'orange', alpha = 0.5)\n",
    "plt.axhline(70, linestyle='--', label = \"Tyydyttävä NOx\", c = 'y', alpha = 0.5)\n",
    "\n",
    "plt.title(\"Ilmanlaatu Hyvinkään kaupungissa vuonna ???\", fontsize = 30, y = 1.1)\n",
    "plt.xlabel(\"Aika\", fontsize = 25)\n",
    "plt.ylabel(\"Konsentraatio ($\\mu$g / m$^3$)\", fontsize = 25)\n",
    "\n",
    "plt.legend()\n",
    "plt.show()"
   ]
  },
  {
   "cell_type": "markdown",
   "metadata": {},
   "source": [
    "Tuloksia voi käydä huvin vuoksi vertaamassa kansainväliseen tilaan World Air Quality Index -projektin sivuilta, vaikkapa Kiinaan tai Intiaan:\n",
    "\n",
    "\n",
    "https://aqicn.org/map/china/\n",
    "\n"
   ]
  }
 ],
 "metadata": {
  "kernelspec": {
   "display_name": "Python 3 (ipykernel)",
   "language": "python",
   "name": "python3"
  },
  "language_info": {
   "codemirror_mode": {
    "name": "ipython",
    "version": 3
   },
   "file_extension": ".py",
   "mimetype": "text/x-python",
   "name": "python",
   "nbconvert_exporter": "python",
   "pygments_lexer": "ipython3",
   "version": "3.9.7"
  }
 },
 "nbformat": 4,
 "nbformat_minor": 4
}
