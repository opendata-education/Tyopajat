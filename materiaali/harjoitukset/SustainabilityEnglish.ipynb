{
 "cells": [
  {
   "cell_type": "markdown",
   "id": "833bba0e",
   "metadata": {},
   "source": [
    "# <ins> SUSTAINABILITY - physical musings on the atmosphere </ins>"
   ]
  },
  {
   "cell_type": "markdown",
   "id": "88932179",
   "metadata": {},
   "source": [
    "<span style=\"color:red\">*v0.3 1.9.25 - THIS NOTEBOOK IS A WORK IN PROGRESS*</span>"
   ]
  },
  {
   "cell_type": "markdown",
   "id": "7dbf4860",
   "metadata": {},
   "source": [
    "### Exercise structure\n",
    "\n",
    "A simple project usually goes along these lines:\n",
    "\n",
    "1. Identify an area of interest (research question)\n",
    "2. Find or collect materials (data acquisition)\n",
    "3. Inquiry into the materials (analysis)\n",
    "4. Assessment, critique (results and conclusions)\n",
    "5. Further explanations as necessary (sources and discussion)"
   ]
  },
  {
   "cell_type": "markdown",
   "id": "2cf11660",
   "metadata": {},
   "source": [
    "## <ins> 1. Research questions </ins>"
   ]
  },
  {
   "cell_type": "markdown",
   "id": "29f081c7",
   "metadata": {},
   "source": [
    "Observing and understanding climate change requires a global network. National weather stations, research institutes, universities and similar organisations all around the planet offer us a diverse selection of constantly updated observations.\n",
    "\n",
    "First one should decide which variables they are looking at. Temperature, carbon dioxide and methane fractions in the air, ecosystem's carbon fluxes, precipitation and winds et cetera. \n",
    "\n",
    "**How do the chosen variables evolve over time? What kinds of variation do they have? How does the observation site affect the results?**\n"
   ]
  },
  {
   "cell_type": "markdown",
   "id": "9e0bee7f",
   "metadata": {},
   "source": [
    "## <ins> 2. Data </ins>"
   ]
  },
  {
   "cell_type": "markdown",
   "id": "c1e11707",
   "metadata": {},
   "source": [
    "Let's look at some materials on the carbon cycle from [the ICOS-project](https://www.icos-cp.eu/about/icos-in-nutshell). This multinational effort collects high-quality observations into their data portal in a collected and thus easily comparable format.\n",
    "\n",
    "<img src = \"https://www.icos-cp.eu/sites/default/files/2020-04/ICOS%20RI_logo_rgb.png\">\n",
    "\n",
    "**NOTE!** The materials in the portal contain tens or hundreds of thousands of rows of data as well as dozens of cryptically named columns that contain the observations from various research stations. Each dataset includes a link to its source, where you can see the so-called *metadata* for what each column's title means in more detail. In research, using various explanations and references like this is important to avoid confusion."
   ]
  },
  {
   "cell_type": "markdown",
   "id": "475f7b0d",
   "metadata": {},
   "source": [
    "#### 2.1 Tools"
   ]
  },
  {
   "cell_type": "code",
   "execution_count": null,
   "id": "07334a33",
   "metadata": {},
   "outputs": [],
   "source": [
    "# Let's import some important libraries.\n",
    "\n",
    "import pandas as pd \n",
    "import matplotlib.pyplot as plt\n",
    "import numpy as np"
   ]
  },
  {
   "cell_type": "markdown",
   "id": "0ee56cc9",
   "metadata": {},
   "source": [
    "#### 2.2 Data - Hyytiälä, Middle-Finland"
   ]
  },
  {
   "cell_type": "code",
   "execution_count": null,
   "id": "85a7b8a1",
   "metadata": {},
   "outputs": [],
   "source": [
    "# Methane concentration\n",
    "# Hyytiälä 67.2 m CH4 2016-12-13–2023-03-31\n",
    "# https://meta.icos-cp.eu/objects/XRJWd0QZw0wKGjXZnspH20t5\n",
    "\n",
    "HyyCH4 = pd.read_csv(\"https://raw.githubusercontent.com/opendata-education/Tyopajat/main/materiaali/data/HyyCH4.csv\",\n",
    "                     parse_dates = [\"TIMESTAMP\"])\n",
    "\n",
    "# Carbon dioxide concentration\n",
    "# Hyytiälä 67.2 m CO2 2016-12-13–2023-03-31\n",
    "# https://meta.icos-cp.eu/objects/9Y6WV_HjpEVbbc-lq_FE9qV8\n",
    "\n",
    "HyyCO2 = pd.read_csv(\"https://raw.githubusercontent.com/opendata-education/Tyopajat/main/materiaali/data/HyyCO2.csv\",\n",
    "                     parse_dates = [\"TIMESTAMP\"])\n",
    "\n",
    "# Meteorological observations\n",
    "# Hyytiälä 67.2 m ICOS ATC Meteo 2017-12-31–2022-12-31\n",
    "# https://meta.icos-cp.eu/objects/zdx_A4ariX25X6Pu8DUG_vE1\n",
    "\n",
    "HyyMeteo = pd.read_csv(\"https://raw.githubusercontent.com/opendata-education/Tyopajat/main/materiaali/data/HyyMeteo.csv\",\n",
    "                       parse_dates = [\"TIMESTAMP\"])\n",
    "\n",
    "# Fluxes\n",
    "# Hyytiälä FLUXNET-archive 1996-2020\n",
    "# https://meta.icos-cp.eu/objects/4F2-9d7QV9A0SlL2pIaRxsJP\n",
    "\n",
    "HyyGPP = pd.read_csv(\"https://raw.githubusercontent.com/opendata-education/Tyopajat/main/materiaali/data/HyyFluxGPP.csv\",\n",
    "                     parse_dates = [\"TIMESTAMP\"])\n",
    "HyyNEE = pd.read_csv(\"https://raw.githubusercontent.com/opendata-education/Tyopajat/main/materiaali/data/HyyFluxNEE.csv\",\n",
    "                     parse_dates = [\"TIMESTAMP\"]) # this one also includes temperature"
   ]
  },
  {
   "cell_type": "markdown",
   "id": "f5c11166",
   "metadata": {},
   "source": [
    "#### 2.3 Data - Utö, Baltic Sea, Finnish archipelago"
   ]
  },
  {
   "cell_type": "code",
   "execution_count": null,
   "id": "1e95e4bc",
   "metadata": {},
   "outputs": [],
   "source": [
    "# Methane concentration\n",
    "# Atmospheric CH4 product, Utö - Baltic sea (57.0 m) 2012-03-23–2023-03-31\n",
    "# https://meta.icos-cp.eu/objects/0QpkTakURubEz9vnSxkAIL3j\n",
    "\n",
    "UtCH4 = pd.read_csv(\"https://raw.githubusercontent.com/opendata-education/Tyopajat/main/materiaali/data/UtCH4.csv\",\n",
    "                    parse_dates = [\"TIMESTAMP\"])\n",
    "\n",
    "# Carbon dioxide concentration\n",
    "# Atmospheric CO2 product, Utö - Baltic sea (57.0 m) 2012-03-23–2023-03-31\n",
    "# https://meta.icos-cp.eu/objects/Gfcb8rZBPxZQNJgm7qiwAcYz\n",
    "\n",
    "UtCO2 = pd.read_csv(\"https://raw.githubusercontent.com/opendata-education/Tyopajat/main/materiaali/data/UtCO2.csv\",\n",
    "                    parse_dates = [\"TIMESTAMP\"])\n",
    "\n",
    "# Meteorological observations\n",
    "# Utö 58 m ICOS ATC Meteo 2018-12-12–2023-03-31\n",
    "# https://meta.icos-cp.eu/objects/Q9In1Q-KI-HrxDHlrHytOCOd\n",
    "\n",
    "UtMeteo = pd.read_csv(\"https://raw.githubusercontent.com/opendata-education/Tyopajat/main/materiaali/data/UtMeteo.csv\",\n",
    "                      parse_dates = [\"TIMESTAMP\"])"
   ]
  },
  {
   "cell_type": "markdown",
   "id": "cd0759d9",
   "metadata": {},
   "source": [
    "#### 2.4 Data - Pallas and Kenttärova, Northern Finland"
   ]
  },
  {
   "cell_type": "code",
   "execution_count": null,
   "id": "8cdf10ed",
   "metadata": {},
   "outputs": [],
   "source": [
    "# Atmospheric CH4 product, Pallas (12.0 m)\n",
    "# 2004-02-11–2023-03-31\n",
    "# https://meta.icos-cp.eu/objects/ATqgqugIHsWAIXKZgEq2QkKz\n",
    "\n",
    "PalCH4 = pd.read_csv(\"https://raw.githubusercontent.com/opendata-education/Tyopajat/main/materiaali/data/PalCH4.csv\",\n",
    "                     parse_dates = [\"TIMESTAMP\"])\n",
    "\n",
    "# Atmospheric CO2 product, Pallas (12.0 m)\n",
    "# 1998-07-01–2023-03-31\n",
    "# https://meta.icos-cp.eu/objects/sp32Z270ruWRU847KagynNOK\n",
    "\n",
    "PalCO2 = pd.read_csv(\"https://raw.githubusercontent.com/opendata-education/Tyopajat/main/materiaali/data/PalCO2.csv\",\n",
    "                     parse_dates = [\"TIMESTAMP\"])\n",
    "\n",
    "# Fluxnet Product, Kenttarova\n",
    "# 2017-12-31–2020-12-31\n",
    "# https://meta.icos-cp.eu/objects/vXcr9a7FPpBA3_Tg5X2gT1xo\n",
    "\n",
    "KenFlux1 = pd.read_csv(\"https://raw.githubusercontent.com/opendata-education/Tyopajat/main/materiaali/data/KenFlux1.csv\",\n",
    "                       parse_dates = [\"TIMESTAMP\"])\n",
    "\n",
    "# ETC L2 Fluxnet (half-hourly), Kenttarova\n",
    "# 2019-12-31–2022-12-31\n",
    "# https://meta.icos-cp.eu/objects/aqULa_iF0GDVTc4_AUb7h-nN\n",
    "\n",
    "KenFlux2 = pd.read_csv(\"https://raw.githubusercontent.com/opendata-education/Tyopajat/main/materiaali/data/KenFlux2.csv\",\n",
    "                       parse_dates = [\"TIMESTAMP\"])"
   ]
  },
  {
   "cell_type": "markdown",
   "id": "99e7ba33",
   "metadata": {},
   "source": [
    "#### 2.5 Data - Karlsruhe, Germany"
   ]
  },
  {
   "cell_type": "code",
   "execution_count": null,
   "id": "92e45fb3",
   "metadata": {},
   "outputs": [],
   "source": [
    "# Methane concentration\n",
    "# Karlsruhe 60 m CH4 2016-12-16–2023-03-31\n",
    "# https://meta.icos-cp.eu/objects/lO1I16P7gM7zloZbzWLSur02\n",
    "\n",
    "KarlCH4 = pd.read_csv(\"https://raw.githubusercontent.com/opendata-education/Tyopajat/main/materiaali/data/KarlCH4.csv\",\n",
    "                      parse_dates = [\"TIMESTAMP\"])\n",
    "\n",
    "# Carbon dioxide concentration\n",
    "# Karlsruhe 60 m CO2 2016-12-16–2023-03-31\n",
    "# https://meta.icos-cp.eu/objects/vXTxJscV4CHFfaljH9KQ5pty\n",
    "\n",
    "KarlCO2 = pd.read_csv(\"https://raw.githubusercontent.com/opendata-education/Tyopajat/main/materiaali/data/KarlCO2.csv\",\n",
    "                      parse_dates = [\"TIMESTAMP\"])\n",
    "\n",
    "# Meteorological observations\n",
    "# Karlsruhe 60 m ICOS ATC Meteo 2019-08-01–2023-03-31\n",
    "# https://meta.icos-cp.eu/objects/rJGDmG0anqNeRrPyLBuog258\n",
    "\n",
    "KarlMeteo = pd.read_csv(\"https://raw.githubusercontent.com/opendata-education/Tyopajat/main/materiaali/data/KarlMeteo.csv\",\n",
    "                        parse_dates = [\"TIMESTAMP\"])"
   ]
  },
  {
   "cell_type": "markdown",
   "id": "f4419328",
   "metadata": {},
   "source": [
    "#### 2.6 Data - Castelporziano 2, Italy"
   ]
  },
  {
   "cell_type": "code",
   "execution_count": null,
   "id": "ac63b657",
   "metadata": {},
   "outputs": [],
   "source": [
    "# Fluxes\n",
    "# Castelporziano ETC L2 Fluxnet 2020-12-31–2023-10-31\n",
    "# https://meta.icos-cp.eu/objects/DZcO_1NvbH4wRqTcxnNVKd47\n",
    "\n",
    "CasFlux = pd.read_csv(\"https://raw.githubusercontent.com/opendata-education/Tyopajat/main/materiaali/data/CasFlux.csv\",\n",
    "                      parse_dates = [\"TIMESTAMP\"])\n",
    "\n",
    "# Meteorological observations\n",
    "# Castelporziano ETC L2 Meteo 2020-12-31–2023-10-31\n",
    "# https://meta.icos-cp.eu/objects/b9jFmI9WtonRGMRRsWOeBQK9\n",
    "\n",
    "CasMeteo = pd.read_csv(\"https://raw.githubusercontent.com/opendata-education/Tyopajat/main/materiaali/data/CasMeteo.csv\",\n",
    "                       parse_dates = [\"TIMESTAMP\"])"
   ]
  },
  {
   "cell_type": "markdown",
   "id": "e24dbe70",
   "metadata": {},
   "source": [
    "#### 2.7 Data - Izaña, Spain (Tenerife)"
   ]
  },
  {
   "cell_type": "code",
   "execution_count": null,
   "id": "ab8437d3",
   "metadata": {},
   "outputs": [],
   "source": [
    "# Methane concentration\n",
    "# Atmospheric CH4 product, Izaña (29.0 m) 1984-01-01–2023-03-31\n",
    "# https://meta.icos-cp.eu/objects/j_qLA35m18_V9HXmKXNTtV1d\n",
    "\n",
    "IzaCH4 = pd.read_csv(\"https://raw.githubusercontent.com/opendata-education/Tyopajat/main/materiaali/data/IzaCH4.csv\",\n",
    "                     parse_dates = [\"TIMESTAMP\"])\n",
    "\n",
    "# Carbon dioxide concentration\n",
    "# Atmospheric CO2 product, Izaña (29.0 m) 2007-01-19–2023-03-31\n",
    "# https://meta.icos-cp.eu/objects/pinswiNsT4yB9YSX5O-TlAYD\n",
    "\n",
    "IzaCO2 = pd.read_csv(\"https://raw.githubusercontent.com/opendata-education/Tyopajat/main/materiaali/data/IzaCO2.csv\",\n",
    "                     parse_dates = [\"TIMESTAMP\"])\n",
    "\n",
    "# Meteorological observations\n",
    "# 1996-01-01-2023-12-21\n",
    "# https://meteostat.net/en/station/60010\n",
    "# (retrieved from another source, as the station is relatively new to the ICOS network\n",
    "# despite being well established on its own)\n",
    "\n",
    "IzaMet = pd.read_csv(\"https://raw.githubusercontent.com/opendata-education/Tyopajat/main/materiaali/data/IzaMet.csv\",\n",
    "                     parse_dates = [\"date\"])"
   ]
  },
  {
   "cell_type": "markdown",
   "id": "8a1ac07a",
   "metadata": {},
   "source": [
    "## <ins> 3. Analysis </ins>"
   ]
  },
  {
   "cell_type": "markdown",
   "id": "b1d20164",
   "metadata": {},
   "source": [
    "Let's take a look at the data contained in the materials defined above. The following example uses observations from Hyytiälä, but you can analyse the other stations just as well by changing the names of the variables (by opening, say, 'CasFlux' instead)."
   ]
  },
  {
   "cell_type": "markdown",
   "id": "ebf546d0",
   "metadata": {},
   "source": [
    "#### 3.1 A peek into the materials"
   ]
  },
  {
   "cell_type": "code",
   "execution_count": null,
   "id": "eb3b899a",
   "metadata": {},
   "outputs": [],
   "source": [
    "# Let's see what the information stored into the variables looks like. \n",
    "\n",
    "HyyCO2"
   ]
  },
  {
   "cell_type": "code",
   "execution_count": null,
   "id": "bf70a09b",
   "metadata": {},
   "outputs": [],
   "source": [
    "# Let's make the simplest graph we can from the data in one column.\n",
    "\n",
    "plt.plot(HyyCO2[\"TIMESTAMP\"], HyyCO2[\"co2\"])\n",
    "plt.show()"
   ]
  },
  {
   "cell_type": "markdown",
   "id": "c956ffaa",
   "metadata": {},
   "source": [
    "Are there any repeating patterns you can discern in the graph? What is happening?"
   ]
  },
  {
   "cell_type": "markdown",
   "id": "3829a52c",
   "metadata": {},
   "source": [
    "#### 3.2 A more detailed look"
   ]
  },
  {
   "cell_type": "code",
   "execution_count": null,
   "id": "a57d7629",
   "metadata": {
    "scrolled": false
   },
   "outputs": [],
   "source": [
    "# Let's add some formatting into the graph.\n",
    "\n",
    "plt.figure(figsize = (20, 10))\n",
    "\n",
    "plt.plot(HyyCO2[\"TIMESTAMP\"], HyyCO2[\"co2\"], label = \"CO2\", color = \"green\")\n",
    "\n",
    "plt.ylabel(\"Carbon dioxide in the air (µmol mol-1) \\n\", fontsize = 15)\n",
    "plt.xlabel(\"\\n Time (year)\", fontsize = 15)\n",
    "plt.title(\"CO2 fraction in the atmosphere at Hyytiälä SMEAR-II station 2017-2023 \\n\", fontsize = 20)\n",
    "plt.legend(loc = \"upper left\", fontsize = 20)\n",
    "\n",
    "plt.show()"
   ]
  },
  {
   "cell_type": "code",
   "execution_count": null,
   "id": "02820851",
   "metadata": {},
   "outputs": [],
   "source": [
    "# Showing multiple quantities at the same time.\n",
    "\n",
    "plt.figure(figsize = (20, 10))\n",
    "\n",
    "plt.subplot(311)\n",
    "plt.plot(HyyCO2[\"TIMESTAMP\"], HyyCO2[\"co2\"], label = \"CO2\", c = \"g\")\n",
    "plt.ylabel(\"Concentration in the air \\n (µmol mol-1) \\n\", fontsize = 10)\n",
    "plt.legend(loc = \"upper left\", fontsize = 20)\n",
    "\n",
    "plt.title(\"Molecular fractions in the atmosphere at Hyytiälä SMEAR-II station 2017-2023 \\n\", fontsize = 20)\n",
    "\n",
    "plt.subplot(312)\n",
    "plt.plot(HyyCH4[\"TIMESTAMP\"], HyyCH4[\"ch4\"], label = \"CH4\", c = \"b\")\n",
    "plt.ylabel(\"Concentration in the air \\n (nmol mol-1) \\n\", fontsize = 10)\n",
    "plt.legend(loc = \"upper left\", fontsize = 20)\n",
    "\n",
    "plt.subplot(313)\n",
    "plt.plot(HyyMeteo[\"TIMESTAMP\"], HyyMeteo[\"AT\"], label = \"Temperature\", c = \"cyan\")\n",
    "plt.ylabel(\"Air temperature(°C) \\n\", fontsize = 10)\n",
    "plt.legend(loc = \"upper left\", fontsize = 20)\n",
    "\n",
    "plt.xlabel(\"\\n Time (year)\", fontsize = 15)\n",
    "plt.show()"
   ]
  },
  {
   "cell_type": "markdown",
   "id": "57c04c29",
   "metadata": {},
   "source": [
    "Are the quantities in the graphs dependent on each other? Do they exhibit any similarities or deviations from each other?"
   ]
  },
  {
   "cell_type": "code",
   "execution_count": null,
   "id": "217fcb70",
   "metadata": {},
   "outputs": [],
   "source": [
    "# Let's repeat the above for ecosystemic action over a bit longer period as well. Let's add a zero line for clarity.\n",
    "\n",
    "plt.figure(figsize = (20, 10))\n",
    "\n",
    "plt.subplot(311)\n",
    "plt.plot(HyyNEE[\"TIMESTAMP\"], HyyNEE[\"NEE_VUT_REF\"], label = \"NEE\", c = \"g\")\n",
    "plt.axhline(y = 0, color = 'y', linestyle = 'dashed')\n",
    "plt.ylabel(\"Net Ecosystem Exchange \\n (µmol m-2 s-1) \\n\", fontsize = 10)\n",
    "plt.legend(loc = \"upper left\", fontsize = 20)\n",
    "\n",
    "plt.title(\"Carbon fluxes in the forest at Hyytiälä SMEAR-II station 1996-2020 \\n\", fontsize = 20)\n",
    "\n",
    "plt.subplot(312)\n",
    "plt.plot(HyyGPP[\"TIMESTAMP\"], HyyGPP[\"GPP_DT_VUT_REF\"], label = \"GPP DT\", c = \"b\", alpha = 0.5)\n",
    "plt.plot(HyyGPP[\"TIMESTAMP\"], HyyGPP[\"GPP_NT_VUT_REF\"], label = \"GPP NT\", c = \"orange\", alpha = 0.5)\n",
    "plt.axhline(y = 0, color = 'y', linestyle = 'dashed')\n",
    "plt.ylabel(\"CO2 Gross Primary Production \\n (µmol m-2 s-1) \\n\", fontsize = 10)\n",
    "plt.legend(loc = \"upper left\", fontsize = 20)\n",
    "\n",
    "plt.subplot(313)\n",
    "plt.plot(HyyNEE[\"TIMESTAMP\"], HyyNEE[\"TA_F\"], label = \"Temperature\", c = \"cyan\")\n",
    "plt.axhline(y = 0, color = 'y', linestyle = 'dashed')\n",
    "plt.ylabel(\"Air temperature (°C) \\n\", fontsize = 10)\n",
    "plt.legend(loc = \"upper left\", fontsize = 20)\n",
    "\n",
    "plt.xlabel(\"\\n Time (year)\", fontsize = 15)\n",
    "plt.show()"
   ]
  },
  {
   "cell_type": "markdown",
   "id": "f49ba954",
   "metadata": {},
   "source": [
    "Can you see any variation between the years or the seasons?"
   ]
  },
  {
   "cell_type": "markdown",
   "id": "0e33c564",
   "metadata": {},
   "source": [
    "#### 3.3. Understanding data requires working with it"
   ]
  },
  {
   "cell_type": "markdown",
   "id": "586cd221",
   "metadata": {},
   "source": [
    "When we're looking at graphs, it's worth bearing in mind how frequently observations have been taken and how many of them there are. The data you've seen above has been collected hourly or more frequently, which might lead to some needless detail in your graphs. For the sake of clarity, it is often necessary to split, categorise, average or otherwise edit the original data and try to pry out certain statistical variables that emerge from the raw numbers in order to move from pure data to meaningful information.\n"
   ]
  },
  {
   "cell_type": "code",
   "execution_count": null,
   "id": "0648bebf",
   "metadata": {},
   "outputs": [],
   "source": [
    "# Let's edit an existing variable. We'll take the collated timestamps in the data, split them into their constituents and save\n",
    "# them in new columns inside the same variable. This will make it easier to select certain parts of the data, such as \"all\n",
    "# summer months only\".\n",
    "\n",
    "# For example, the first ten rows in our CO2 table were:\n",
    "print(\"HyyCO2 in the beginning: \")\n",
    "print(HyyCO2.head(10))\n",
    "\n",
    "# Adding columns by digging the information out of the timestamp in their own columns:\n",
    "\n",
    "HyyCO2['DATE'] = pd.to_datetime(HyyCO2['TIMESTAMP']).dt.date\n",
    "HyyCO2['DATE'] = pd.to_datetime(HyyCO2['DATE'])                # Correcting the date-format into a datetime-format.\n",
    "HyyCO2['YY'] = pd.to_datetime(HyyCO2['TIMESTAMP']).dt.year\n",
    "HyyCO2['MM'] = pd.to_datetime(HyyCO2['TIMESTAMP']).dt.month\n",
    "HyyCO2['DD'] = pd.to_datetime(HyyCO2['TIMESTAMP']).dt.day\n",
    "HyyCO2['HH'] = pd.to_datetime(HyyCO2['TIMESTAMP']).dt.hour\n",
    "\n",
    "print(\"HyyCO2 after a small edit: \")\n",
    "print(HyyCO2.head(10))"
   ]
  },
  {
   "cell_type": "code",
   "execution_count": null,
   "id": "9f97c19c",
   "metadata": {},
   "outputs": [],
   "source": [
    "# Calculating monthly averages.\n",
    "\n",
    "AVG = HyyCO2.groupby([\"MM\"]).mean(numeric_only = True)\n",
    "\n",
    "print(AVG[\"co2\"])\n",
    "\n",
    "k = [\"Jan\", \"Feb\", \"Mar\", \"Apr\", \"May\", \"Jun\", \"Jul\", \"Aug\", \"Sep\", \"Oct\", \"Nov\", \"Dec\"]\n",
    "\n",
    "plt.figure(figsize = (20, 10))\n",
    "plt.plot(k, AVG[\"co2\"], c = \"y\")\n",
    "plt.scatter(k, AVG[\"co2\"], c = \"red\", label = \"CO2\")\n",
    "\n",
    "plt.ylabel(\"Concentration in the air (µmol mol-1) \\n\", fontsize = 15)\n",
    "plt.xlabel(\"\\n Time (month)\", fontsize = 15)\n",
    "plt.title(\"Carbon dioxide fraction in the atmosphere at Hyytiälä SMEAR-II station, monthly average 2017-2023 \\n\", fontsize = 20)\n",
    "plt.legend(loc = \"center right\", fontsize = 15)\n",
    "\n",
    "plt.show()"
   ]
  },
  {
   "cell_type": "markdown",
   "id": "ba18e99d",
   "metadata": {},
   "source": [
    "How does the averaged graph look compared to the original observations?"
   ]
  },
  {
   "cell_type": "code",
   "execution_count": null,
   "id": "3329c142",
   "metadata": {},
   "outputs": [],
   "source": [
    "# Longer datasets can give us a better picture of seasonal variations.\n",
    "# What about shorter periods, like within a day?\n",
    "\n",
    "d = '2017-07-05'\n",
    "dat = HyyCO2.query(\"DATE == @d\")\n",
    "\n",
    "plt.figure(figsize = (20, 10))\n",
    "plt.plot(dat[\"TIMESTAMP\"], dat[\"co2\"], c = \"y\")\n",
    "plt.scatter(dat[\"TIMESTAMP\"], dat[\"co2\"], c = \"red\", label = \"CO2\")\n",
    "\n",
    "plt.ylabel(\"Concentration in the air (µmol mol-1) \\n\", fontsize = 15)\n",
    "plt.xlabel(\"\\n Time (h)\", fontsize = 15)\n",
    "plt.title(f\"Carbon dioxide fraction in the atmosphere at Hyytiälä SMEAR-II station, {d} \\n\", fontsize = 20)\n",
    "plt.legend(loc = \"center right\", fontsize = 15)\n",
    "\n",
    "plt.show()"
   ]
  },
  {
   "cell_type": "code",
   "execution_count": null,
   "id": "334ae581",
   "metadata": {},
   "outputs": [],
   "source": [
    "# Or between given dates?\n",
    "# Try to switch the graphed period over two days, a week or a month.\n",
    "\n",
    "a = '2017-07-05'\n",
    "b = '2017-07-09'\n",
    "cut = HyyCO2.query(\"DATE >= @a & DATE < @b\")\n",
    "\n",
    "plt.figure(figsize = (20, 10))\n",
    "plt.plot(cut[\"TIMESTAMP\"], cut[\"co2\"], c = \"y\")\n",
    "plt.scatter(cut[\"TIMESTAMP\"], cut[\"co2\"], c = \"red\", label = \"CO2\")\n",
    "\n",
    "plt.ylabel(\"Concentration in the air (µmol mol-1) \\n\", fontsize = 15)\n",
    "plt.xlabel(\"\\n Time (h)\", fontsize = 15)\n",
    "plt.title(f\"Carbon dioxide fraction at Hyytiälä SMEAR-II station, between {a} and {b} \\n\", fontsize = 20)\n",
    "plt.legend(loc = \"center right\", fontsize = 15)\n",
    "\n",
    "plt.show()"
   ]
  },
  {
   "cell_type": "markdown",
   "id": "cf01147d",
   "metadata": {},
   "source": [
    "What kind of differences can you find between days within the same season?\n",
    "Do the shapes or sizes of daily variation change between seasons?"
   ]
  },
  {
   "cell_type": "markdown",
   "id": "3d9c8894",
   "metadata": {},
   "source": [
    "#### 3.4 Finding connections requires using multiple sources and observed quantities"
   ]
  },
  {
   "cell_type": "code",
   "execution_count": null,
   "id": "7f33ab4c",
   "metadata": {},
   "outputs": [],
   "source": [
    "# Daily CO2-levels, temperatures, rainfall, short-wave radiation, GPP?"
   ]
  },
  {
   "cell_type": "code",
   "execution_count": null,
   "id": "f2151f8d",
   "metadata": {},
   "outputs": [],
   "source": [
    "# Try here."
   ]
  },
  {
   "cell_type": "code",
   "execution_count": null,
   "id": "94bf30a9",
   "metadata": {},
   "outputs": [],
   "source": []
  },
  {
   "cell_type": "markdown",
   "id": "13170e7e",
   "metadata": {},
   "source": [
    "#### 3.5 Comparisons between various stations to find out regional differences"
   ]
  },
  {
   "cell_type": "code",
   "execution_count": null,
   "id": "3678cd8a",
   "metadata": {},
   "outputs": [],
   "source": [
    "# For example, Hyytiälä v. Izana\n",
    "\n",
    "bott = \"2016-01-01\"\n",
    "top = \"2024-01-01\"\n",
    "\n",
    "bott = pd.to_datetime(bott)\n",
    "top = pd.to_datetime(top)\n",
    "\n",
    "plt.figure(figsize = (20, 10))\n",
    "\n",
    "ax1 = plt.subplot(211)\n",
    "plt.plot(HyyCO2[\"TIMESTAMP\"], HyyCO2[\"co2\"], label = \"Hyytiälä\", c = \"g\", alpha = 0.5)\n",
    "plt.plot(IzaCO2[\"TIMESTAMP\"], IzaCO2[\"co2\"], label = \"Izana\", c = \"b\", alpha = 0.5)\n",
    "plt.ylabel(\"Concentration in the air \\n (µmol mol-1) \\n\", fontsize = 10)\n",
    "plt.legend(loc = \"upper left\", fontsize = 20)\n",
    "plt.xlim(bott, top)\n",
    "\n",
    "plt.title(f\"CO2 fractions and temperatures in the atmosphere between {bott} - {top} \\n\", fontsize = 20)\n",
    "\n",
    "plt.subplot(212, sharex = ax1)\n",
    "plt.plot(HyyMeteo[\"TIMESTAMP\"], HyyMeteo[\"AT\"], label = \"Hyytiälä\", c = \"cyan\", alpha = 0.7)\n",
    "plt.plot(IzaMet[\"date\"], IzaMet[\"tavg\"], label = \"Izana\", c = \"red\", alpha = 0.5)\n",
    "plt.axhline(y = 0, color = 'y', linestyle = 'dashed')\n",
    "plt.ylabel(\"Air temperature (°C) \\n\", fontsize = 10)\n",
    "plt.legend(loc = \"upper left\", fontsize = 20)\n",
    "\n",
    "plt.xlabel(\"\\n Time (year)\", fontsize = 15)\n",
    "plt.show()"
   ]
  },
  {
   "cell_type": "markdown",
   "id": "02db39fd",
   "metadata": {},
   "source": [
    "How do the observations in Finland and at the Canary Islands differ? Do they contain momentary deviations? Does it make a difference, that the temperature values in the Izaña data are daily averages?"
   ]
  },
  {
   "cell_type": "code",
   "execution_count": null,
   "id": "596ebc3c",
   "metadata": {},
   "outputs": [],
   "source": [
    "# The individual observations seem to see-saw up and down. Let's fit a trend line in there to get a general idea of them.\n",
    "\n",
    "plt.figure(figsize = (20, 10))\n",
    "\n",
    "# Observation data\n",
    "\n",
    "plt.plot(HyyCO2[\"TIMESTAMP\"], HyyCO2[\"co2\"], label = \"Hyytiälä\", c = \"g\", alpha = 0.5)\n",
    "plt.plot(IzaCO2[\"TIMESTAMP\"], IzaCO2[\"co2\"], label = \"Izana\", c = \"b\", alpha = 0.5)\n",
    "\n",
    "# Hyytiälä trend\n",
    "\n",
    "x = np.arange(HyyCO2['TIMESTAMP'].size)\n",
    "y = HyyCO2[\"co2\"].copy()\n",
    "y[np.isnan(y)] = y[~np.isnan(y)].mean()\n",
    "\n",
    "z = np.polyfit(x, y, 1)\n",
    "p = np.poly1d(z)\n",
    "plt.plot(HyyCO2['TIMESTAMP'], p(x), c = \"black\", linestyle = \"dashed\", label = \"Hyytiälä\", alpha = 0.7)\n",
    "\n",
    "# Izaña trend\n",
    "\n",
    "q = np.arange(IzaCO2['TIMESTAMP'].size)\n",
    "w = IzaCO2[\"co2\"].copy()\n",
    "w[np.isnan(w)] = w[~np.isnan(w)].mean()\n",
    "\n",
    "v = np.polyfit(q, w, 1)\n",
    "pf = np.poly1d(v)\n",
    "plt.plot(IzaCO2['TIMESTAMP'], pf(q), \"r--\", label = \"Izana\", alpha = 0.7)\n",
    "\n",
    "# Labels \n",
    "\n",
    "plt.xlabel(\"\\n Time (year)\", fontsize = 20)\n",
    "plt.ylabel(\"Concentration in the air (µmol mol-1) \\n\", fontsize = 20)\n",
    "plt.legend(loc = \"upper left\", fontsize = 20)\n",
    "\n",
    "plt.title(\"CO2 fraction trend at the measuring stations between 2008-2023 \\n\", fontsize = 20)\n",
    "plt.show()\n",
    "\n",
    "print(f\"Hyytiälä's trendline equation: y = {z[0]}*x + {z[1]}\")\n",
    "print(f\"Izaña's trendline equation: y = {v[0]}*x + {v[1]}\")"
   ]
  },
  {
   "cell_type": "markdown",
   "id": "57ef6ece",
   "metadata": {},
   "source": [
    "Are there observable trends in the data? Do the trends differ based on location or other factors between the stations? What needs to be accounted for in reading the equations?"
   ]
  },
  {
   "cell_type": "markdown",
   "id": "9b7d3465",
   "metadata": {},
   "source": [
    "## <ins> 4. Results and conclusions </ins>"
   ]
  },
  {
   "cell_type": "markdown",
   "id": "d415a255",
   "metadata": {},
   "source": [
    "*- discussion on the implications -*"
   ]
  },
  {
   "cell_type": "markdown",
   "id": "2a915981",
   "metadata": {},
   "source": [
    "## <ins> 5. Sources </ins>"
   ]
  },
  {
   "cell_type": "markdown",
   "id": "f6f8faa5",
   "metadata": {},
   "source": [
    "*- discussion on the stations or any further inquiries performed -*"
   ]
  }
 ],
 "metadata": {
  "kernelspec": {
   "display_name": "Python 3 (ipykernel)",
   "language": "python",
   "name": "python3"
  },
  "language_info": {
   "codemirror_mode": {
    "name": "ipython",
    "version": 3
   },
   "file_extension": ".py",
   "mimetype": "text/x-python",
   "name": "python",
   "nbconvert_exporter": "python",
   "pygments_lexer": "ipython3",
   "version": "3.11.5"
  }
 },
 "nbformat": 4,
 "nbformat_minor": 5
}
