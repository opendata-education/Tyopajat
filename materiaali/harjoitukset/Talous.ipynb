{
 "cells": [
  {
   "cell_type": "markdown",
   "id": "6b6d3972-118b-422e-80b2-13492423f4df",
   "metadata": {},
   "source": [
    "# Liiketoiminnan tunnusluvuista\n",
    "\n",
    "Tämä kirjanen esittelee hieman miten pörssiyhtiöiden tietoja pystyy tarkastelemaan ohjelmoinnin avulla."
   ]
  },
  {
   "cell_type": "markdown",
   "id": "5e3e00cb-3b6a-4145-8866-015234650b7d",
   "metadata": {},
   "source": [
    "### 1. Työkalut"
   ]
  },
  {
   "cell_type": "code",
   "execution_count": null,
   "id": "2abd6d16-e5bf-4b7f-b2ce-863f4cd87e28",
   "metadata": {},
   "outputs": [],
   "source": [
    "# Tuodaan tarvittavat kirjastot\n",
    "\n",
    "import pandas as pd\n",
    "import numpy as np\n",
    "import matplotlib.pyplot as plt\n",
    "\n",
    "# Jotkut Pythonin versiot eivät oletusarvoisesti tue pandaksen kautta Excel-tiedostojen lukemista. Alla oleva käsky auttaa virheilmoituksiin.\n",
    "#%pip install openpyxl"
   ]
  },
  {
   "cell_type": "markdown",
   "id": "8b58f742-4245-4098-8523-b0f848909241",
   "metadata": {},
   "source": [
    "### 2. Aineistot"
   ]
  },
  {
   "cell_type": "code",
   "execution_count": null,
   "id": "28872e16-0e69-4194-9212-0424dda80536",
   "metadata": {},
   "outputs": [],
   "source": [
    "# Haetaan tarkasteltavia tietoja.\n",
    "# Tässä on käytetty Kauppalehden listaa Helsingin pörssistä, jonka on tuottanut Alma Talent Tietopalvelut.\n",
    "# Esimerkkiaineisto on haettu 21.4.2025.\n",
    "# https://www.kauppalehti.fi/porssi/indeksit/omxhpi\n",
    "\n",
    "data = pd.read_excel(\"https://github.com/opendata-education/Tyopajat/raw/refs/heads/main/materiaali/data/AFAGR_financialstmt.xlsx\", header=1)"
   ]
  },
  {
   "cell_type": "code",
   "execution_count": null,
   "id": "7ffb9232-e539-4406-a5ae-0482f94a3fe0",
   "metadata": {},
   "outputs": [],
   "source": [
    "# Vilkaistaan aineistoon.\n",
    "data"
   ]
  },
  {
   "cell_type": "code",
   "execution_count": null,
   "id": "d4ee2373-78ed-401e-af06-67c02a521035",
   "metadata": {},
   "outputs": [],
   "source": [
    "# Huomataan, että tiedoston lopussa on turhia osasia. Poistetaan ne rivi-indeksien avulla.\n",
    "data = data.drop([40, 41, 42, 43, 44])\n",
    "\n",
    "# Siistitään samalla nimisaraketta hieman\n",
    "data = data.rename(columns = {\"Afarak Group Oyj\": \"Afarak_Group_Oyj\"})"
   ]
  },
  {
   "cell_type": "code",
   "execution_count": null,
   "id": "bd4cbcc0-38c4-4c99-9b9f-d81b31282084",
   "metadata": {},
   "outputs": [],
   "source": [
    "# Tarkastetaan, että tulos näyttää oikealta.\n",
    "data"
   ]
  },
  {
   "cell_type": "markdown",
   "id": "fc0e616c-ece9-4e8e-871b-271be3afee39",
   "metadata": {},
   "source": [
    "### 3. Analyysi"
   ]
  },
  {
   "cell_type": "markdown",
   "id": "3740aa78-cd8c-48f6-a13d-17cf1f03569f",
   "metadata": {},
   "source": [
    "Lähdetään tarkastelemaan ensin yhden muuttujan kohdalla miten rivistä saadaan yksinkertainen kuvaaja ulos ennen kuin alamme laskemaan niistä tarkempia lukuja."
   ]
  },
  {
   "cell_type": "code",
   "execution_count": null,
   "id": "268e8c6a-b5a9-4132-9633-1e50a75942db",
   "metadata": {},
   "outputs": [],
   "source": [
    "# Määritetään mitä riviä halutaan tarkastella.\n",
    "ehto = \"Nettovelkaantumisaste, %\"\n",
    "\n",
    "# Kyseisen rivin aineistot halutaan y-akselille, joten tehdään niistä lista.\n",
    "pysty = data.query('Afarak_Group_Oyj == @ehto')\n",
    "pysty = pysty.iloc[0][1:].tolist()\n",
    "\n",
    "# Käytetään vaaka-akselina sarakeotsikoiden päiväyksiä.\n",
    "vaaka = data.columns[1:].tolist()\n",
    "\n",
    "# Piirretään kuvaajat.\n",
    "plt.figure(figsize = (10,5))\n",
    "plt.plot(vaaka, pysty, c = \"y\")\n",
    "plt.scatter(vaaka, pysty, c = \"firebrick\")\n",
    "\n",
    "# Koristellaan kuvaaja soveltuvilla selitteillä.\n",
    "plt.title(ehto)\n",
    "plt.xticks(rotation = 30)\n",
    "plt.show()"
   ]
  },
  {
   "cell_type": "markdown",
   "id": "34f1c3bd-fb73-4d44-aefd-4e295f1f780c",
   "metadata": {},
   "source": [
    "Tyypillisesti meitä kiinnostaa erilaisten keskiarvojen tai poikkeamien laskeskelu. Yksi tapa tehdä näin on käyttää numpy-kirjaston mean()-käskyä, joka soveltuu lista-tyyppisten muuttujien käsittelyyn. "
   ]
  },
  {
   "cell_type": "code",
   "execution_count": null,
   "id": "a94a5323-0ed4-4016-82d5-353dc4fee812",
   "metadata": {},
   "outputs": [],
   "source": [
    "print(f\"Keskiarvo muuttujalle {ehto} on : \" + str(np.mean(pysty)))"
   ]
  },
  {
   "cell_type": "markdown",
   "id": "924b23e4-e759-4eac-af08-f82683682c41",
   "metadata": {},
   "source": [
    "Voisimme tietysti yhdistää useamman eri muuttujan keskiarvoineen samaan kuvaajaan helpottamaan vertailutyötämme."
   ]
  },
  {
   "cell_type": "code",
   "execution_count": null,
   "id": "bfd65e5c-fc40-461a-813d-28d39bd47f9a",
   "metadata": {},
   "outputs": [],
   "source": [
    "# Määritetään mitä riviä halutaan tarkastella.\n",
    "ehto1 = \"P/E-luku\"\n",
    "ehto2 = \"EV/EBIT-luku\"\n",
    "\n",
    "# Kyseisten rivien aineistot halutaan y-akselille, joten tehdään niistä listat.\n",
    "y1 = data.query('Afarak_Group_Oyj == @ehto1')\n",
    "y1 = y1.iloc[0][1:].tolist()\n",
    "\n",
    "y2 = data.query('Afarak_Group_Oyj == @ehto2')\n",
    "y2 = y2.iloc[0][1:].tolist()\n",
    "\n",
    "# Käytetään vaaka-akselina sarakeotsikoiden päiväyksiä.\n",
    "vaaka = data.columns[1:].tolist()\n",
    "\n",
    "# Lasketaan kummankin muuttujan keskiarvot.\n",
    "KA1 = np.mean(y1)\n",
    "KA2 = np.mean(y2)\n",
    "\n",
    "# Piirretään kuvaajat.\n",
    "plt.figure(figsize = (10,5))\n",
    "\n",
    "plt.plot(vaaka, y1, c = \"y\")\n",
    "plt.scatter(vaaka, y1, c = \"firebrick\", label = f\"{ehto1}, keskiarvo {str(KA1)}\")\n",
    "\n",
    "plt.plot(vaaka, y2, c = \"slateblue\")\n",
    "plt.scatter(vaaka, y2, c = \"navy\", label = f\"{ehto2}, keskiarvo {str(KA2)}\")\n",
    "\n",
    "# Piirretään vielä keskiarvotkin mukaan.\n",
    "plt.axhline(y = KA1, color = 'wheat', linestyle = 'dashed')\n",
    "plt.axhline(y = KA2, color = 'lightsteelblue', linestyle = 'dashed')\n",
    "\n",
    "# Koristellaan kuvaaja soveltuvilla selitteillä.\n",
    "plt.title(f\"Vertailussa {ehto1} ja {ehto2} \\n\", fontsize = 20)\n",
    "plt.xticks(rotation = 30)\n",
    "plt.legend()\n",
    "plt.show()"
   ]
  },
  {
   "cell_type": "markdown",
   "id": "b8c7e578-3926-482a-99aa-77e99b399bec",
   "metadata": {},
   "source": [
    "Ylläolevasta kuvasta voi miettiä miten hyvä työkalu koko kymmenvuotisen kauden keskiarvo on kuvaamaan yrityksen yleistä tilaa tai muutosta. Tähän tarkoitukseen voisi käyttää jotakin sopivampaa, kuten trendiviivaa."
   ]
  },
  {
   "cell_type": "code",
   "execution_count": null,
   "id": "2ea6293f-479c-436e-8de9-a4ab35b16684",
   "metadata": {},
   "outputs": [],
   "source": [
    "# Sovitetaan äskeisiin havaintoihin yleiskuvaa tasoittava trendiviiva.\n",
    "plt.figure(figsize = (10, 5))\n",
    "\n",
    "# Aineisto y2.\n",
    "plt.scatter(vaaka, y2, c = \"navy\", label = f\"{ehto2}, keskiarvo {str(KA2)}\")\n",
    "\n",
    "# Trendi.\n",
    "x = np.arange(len(vaaka))\n",
    "y = y2.copy()\n",
    "\n",
    "# Tästä lukua vaihtamalla voi muuttaa sovitetun yhtälön astetta.\n",
    "z = np.polyfit(x, y, 3)\n",
    "p = np.poly1d(z)\n",
    "plt.plot(vaaka, p(x), c = \"black\", linestyle = \"dashed\", label = f\"{ehto2}\", alpha = 0.7)\n",
    "\n",
    "# Selitteet.\n",
    "plt.legend(loc = \"lower left\")\n",
    "plt.title(f\"{ehto2} \\n\", fontsize = 20)\n",
    "plt.xticks(rotation = 30)\n",
    "plt.show()\n"
   ]
  },
  {
   "cell_type": "markdown",
   "id": "71e38ec2-45e2-46e2-bead-b84c78f1719a",
   "metadata": {},
   "source": [
    "### Ideoita omiin testailuihin\n",
    "\n",
    "Kauppalehden sivuilta voit etsiä eri yrityksiä ja yhtiöitä oman mielenkiintosi mukaan.\n",
    "Niiden aineistoista voisi kysyä esimerkiksi seuraavia:\n",
    "\n",
    "- Liikevaihdon ja tuloksen keskimääräinen kasvuprosentti viideltä ja kymmeneltä vuodelta.\n",
    "- Viiden vuoden ja 10 vuoden keskiarvo P/E-luvulle sekä EV/EBIT-luvulle, niiden vertaaminen nykyisiin P/E- ja EV/EBIT-lukuihin.\n",
    "- Oman pääoman tuottoprosentin suhde P/B-lukuun sekä näistä viiden ja 10 vuoden keskiarvo.\n",
    "- Sijoitetun pääoman tuotto, viiden ja 10 vuoden keskiarvo.\n",
    "- Nettovelkaantumisaste yleisesti."
   ]
  },
  {
   "cell_type": "code",
   "execution_count": null,
   "id": "d563d0be",
   "metadata": {},
   "outputs": [],
   "source": [
    "# Keskimääräinen vuosikasvu\n",
    "\n",
    "# Valitaan suure\n",
    "ehto = \"Liikevaihto\"\n",
    "\n",
    "# Otetaan kyseinen rivi\n",
    "rivi = data.query('Afarak_Group_Oyj == @ehto')\n",
    "rivi = rivi.iloc[0][1:].tolist()\n",
    "\n",
    "print(rivi)\n",
    "\n",
    "# Jos kasvu on matemaattisesti\n",
    "# (lähtöarvo) * (kasvuprosentti)**(vuosien määrä) = (loppuarvo), niin\n",
    "# (kasvuprosentti) = (vuosien juuri[(loppuarvo / lähtöarvo)])\n",
    "vuodet = len(rivi)-1\n",
    "kasvu = (rivi[-1] / rivi[0])**(1.0/vuodet)\n",
    "print(f\"Keskimääräinen vuosikasvukerroin {len(rivi)-1} vuoden yli on ollut {kasvu}.\")"
   ]
  }
 ],
 "metadata": {
  "kernelspec": {
   "display_name": "Python 3 (ipykernel)",
   "language": "python",
   "name": "python3"
  },
  "language_info": {
   "codemirror_mode": {
    "name": "ipython",
    "version": 3
   },
   "file_extension": ".py",
   "mimetype": "text/x-python",
   "name": "python",
   "nbconvert_exporter": "python",
   "pygments_lexer": "ipython3",
   "version": "3.11.5"
  }
 },
 "nbformat": 4,
 "nbformat_minor": 5
}
