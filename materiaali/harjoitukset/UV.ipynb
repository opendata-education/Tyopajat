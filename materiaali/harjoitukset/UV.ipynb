{
 "cells": [
  {
   "cell_type": "markdown",
   "id": "741e1695",
   "metadata": {},
   "source": [
    "# ESIMERKKI: Ultraviolettisäteily"
   ]
  },
  {
   "cell_type": "markdown",
   "id": "83b6ecd7",
   "metadata": {},
   "source": [
    "### Työn rakenne"
   ]
  },
  {
   "cell_type": "markdown",
   "id": "769e3031",
   "metadata": {},
   "source": [
    "Yksinkertainen projekti noudattaa yleensä simppeliä perusrakennetta:\n",
    "\n",
    "1. Määritetään kiinnostuksen kohde (tutkimuskysymys)\n",
    "2. Etsitään aineistoa (datankeruu)\n",
    "3. Tarkastellaan löydöksiä (analyysi)\n",
    "4. Arvioidaan, kritisoidaan (tulokset ja johtopäätökset)\n",
    "5. Selitetään tarpeen mukaan käytetyt aineistot (lähteet) "
   ]
  },
  {
   "cell_type": "markdown",
   "id": "dc041acc",
   "metadata": {},
   "source": [
    "### 1. Tutkimuskysymys"
   ]
  },
  {
   "cell_type": "markdown",
   "id": "3cec4c6e",
   "metadata": {},
   "source": [
    "Maapallon elinkelpoisuus on kiinni jatkuvasta energiavuosta, joka syntyy Auringossa ja vaeltaa avaruuden halki planeetallemme. Tuo jatkuva energian hyökyaalto koostuu kuitenkin monenlaisista aallonpituuksista ja hiukkasista, joiden suhteet eivät ole välttämättä lainkaan intuitiivisia satunnaiselle tarkastelijalle.\n",
    "\n",
    "Esimerkiksi, onko päivänvalon UV-indeksillä ja ilmaston lämpötilakäytöksellä yhteyttä toisiinsa? \n",
    "\n",
    "UV-indeksistä voi lukea lisää https://www.ilmatieteenlaitos.fi/ultraviolettisateily. Relevanttia on, että arvon ylittäessä kolme alkaa olla tarpeellista suojata ihoaan ja yli kuusi kertoo voimakkaasta säteilystä.\n",
    "\n",
    "<img src = \"https://www.ilmatieteenlaitos.fi/hli0qi7fbbos/4HZjnDD2Ar4TDPpB3hhfu9/44eb0bb8621e0a88885a6d78182f928f/_image_image_gallery_uuid_7565e106-6c2a-4d75-a272-2e903e3902d8_groupId_30106_t_1289978047690?fm=webp\">"
   ]
  },
  {
   "cell_type": "markdown",
   "id": "a45ef9e5",
   "metadata": {},
   "source": [
    "### 2. Aineisto"
   ]
  },
  {
   "cell_type": "code",
   "execution_count": null,
   "id": "4162dac2",
   "metadata": {},
   "outputs": [],
   "source": [
    "# Tuodaan tarvittavat työkalukirjastot.\n",
    "\n",
    "import pandas as pd\n",
    "import matplotlib.pyplot as plt"
   ]
  },
  {
   "cell_type": "markdown",
   "id": "159c8bb0",
   "metadata": {},
   "source": [
    "Käytetään tarkasteluun Helsingin Kumpulassa sijaitsevan havaintoaseman aineistoja Ilmatieteen laitokselta. Tiedot saatavilla täältä: https://www.ilmatieteenlaitos.fi/havaintojen-lataus\n",
    "\n",
    "Säteilyaineisto mitataan tiuhaan, joten tiedostoista tulee helposti isoja lyhyilläkin aikaväleillä. Ilmatieteen laitoksen portaali tuntuu rajoittavan lataamisen alle 20000 riviin kerrallaan, joten ladataan aineisto vuosi kerrallaan (~9000 tuntimittausta per) ja liitetään sitten yhteen isommaksi tarkastelua varten.\n"
   ]
  },
  {
   "cell_type": "code",
   "execution_count": null,
   "id": "249dc8f5",
   "metadata": {},
   "outputs": [],
   "source": [
    "# Tuodaan haluttu säteilydata palasina.\n",
    "\n",
    "# Huomaa lukukomennon sisään lisätty 'parse'-parametri, jolla luodaan tiedostoon yhdistelmä päivämääräsarakkeista,\n",
    "# jolloin saadaan juoksevasti kasvava luku tulevan visualisoinnin aika-akseliksi.\n",
    "\n",
    "K20 = pd.read_csv(\"Kum2020.csv\",\n",
    "                 parse_dates = {\"Aika\":[\"Vuosi\", \"Kk\", \"Pv\", \"Klo\"]}, keep_date_col = True)\n",
    "\n",
    "K19 = pd.read_csv(\"Kum2019.csv\",\n",
    "                 parse_dates = {\"Aika\":[\"Vuosi\", \"Kk\", \"Pv\", \"Klo\"]}, keep_date_col = True)\n",
    "\n",
    "K18 = pd.read_csv(\"Kum2018.csv\",\n",
    "                 parse_dates = {\"Aika\":[\"Vuosi\", \"Kk\", \"Pv\", \"Klo\"]}, keep_date_col = True)\n",
    "\n",
    "K17 = pd.read_csv(\"Kum2017.csv\",\n",
    "                 parse_dates = {\"Aika\":[\"Vuosi\", \"Kk\", \"Pv\", \"Klo\"]}, keep_date_col = True)\n",
    "\n",
    "K16 = pd.read_csv(\"Kum2016.csv\",\n",
    "                 parse_dates = {\"Aika\":[\"Vuosi\", \"Kk\", \"Pv\", \"Klo\"]}, keep_date_col = True)\n",
    "\n",
    "K15 = pd.read_csv(\"Kum2015.csv\",\n",
    "                 parse_dates = {\"Aika\":[\"Vuosi\", \"Kk\", \"Pv\", \"Klo\"]}, keep_date_col = True)\n",
    "\n",
    "K14 = pd.read_csv(\"Kum2014.csv\",\n",
    "                 parse_dates = {\"Aika\":[\"Vuosi\", \"Kk\", \"Pv\", \"Klo\"]}, keep_date_col = True)\n",
    "\n",
    "K13 = pd.read_csv(\"Kum2013.csv\",\n",
    "                 parse_dates = {\"Aika\":[\"Vuosi\", \"Kk\", \"Pv\", \"Klo\"]}, keep_date_col = True)\n",
    "\n",
    "K12 = pd.read_csv(\"Kum2012.csv\",\n",
    "                 parse_dates = {\"Aika\":[\"Vuosi\", \"Kk\", \"Pv\", \"Klo\"]}, keep_date_col = True)\n",
    "\n",
    "K11 = pd.read_csv(\"Kum2011.csv\",\n",
    "                 parse_dates = {\"Aika\":[\"Vuosi\", \"Kk\", \"Pv\", \"Klo\"]}, keep_date_col = True)\n",
    "\n",
    "K10 = pd.read_csv(\"Kum2010.csv\",\n",
    "                 parse_dates = {\"Aika\":[\"Vuosi\", \"Kk\", \"Pv\", \"Klo\"]}, keep_date_col = True)\n",
    "\n",
    "K09 = pd.read_csv(\"Kum2009.csv\",\n",
    "                 parse_dates = {\"Aika\":[\"Vuosi\", \"Kk\", \"Pv\", \"Klo\"]}, keep_date_col = True)\n",
    "\n",
    "K08 = pd.read_csv(\"Kum2008.csv\",\n",
    "                 parse_dates = {\"Aika\":[\"Vuosi\", \"Kk\", \"Pv\", \"Klo\"]}, keep_date_col = True)\n",
    "\n",
    "K07 = pd.read_csv(\"Kum2007.csv\",\n",
    "                 parse_dates = {\"Aika\":[\"Vuosi\", \"Kk\", \"Pv\", \"Klo\"]}, keep_date_col = True)\n",
    "\n",
    "K06 = pd.read_csv(\"Kum2006.csv\",\n",
    "                 parse_dates = {\"Aika\":[\"Vuosi\", \"Kk\", \"Pv\", \"Klo\"]}, keep_date_col = True)"
   ]
  },
  {
   "cell_type": "code",
   "execution_count": null,
   "id": "8be4a3c3",
   "metadata": {},
   "outputs": [],
   "source": [
    "# Tarkastetaan miltä vuositiedot näyttävät. Miten tiheään havainnot on kerätty?\n",
    "\n",
    "K20.head(10)"
   ]
  },
  {
   "cell_type": "code",
   "execution_count": null,
   "id": "37d5d620",
   "metadata": {},
   "outputs": [],
   "source": [
    "# Yhdistetään äskeiset tiedot yhdeksi pidemmäksi aikasarjaksi. 'Concatenate' yhdistää asiat oletusarvoisesti\n",
    "# luetellussa järjestyksessä, joten annetaan sille vuositiedot kronologisesti.\n",
    "\n",
    "KumSat = pd.concat([K06, K07, K08, K09, K10, K11, K12, K13, K14, K15, K16, K17, K18, K19, K20])\n",
    "\n",
    "# Korjataan äskeisen liitoksen rivien järjestysluvut estetiikan nimissä.\n",
    "\n",
    "KumSat = KumSat.reset_index(drop = True)"
   ]
  },
  {
   "cell_type": "code",
   "execution_count": null,
   "id": "006952b6",
   "metadata": {},
   "outputs": [],
   "source": [
    "# Tarkastetaan kokonaisuuden yhä näyttävän miltä kuuluukin.\n",
    "\n",
    "print(\"Uudessa muuttujassa on \" + repr(len(KumSat)) + \" riviä tietoja.\")\n",
    "KumSat.tail(5)"
   ]
  },
  {
   "cell_type": "markdown",
   "id": "87b6ae5d",
   "metadata": {},
   "source": [
    "### 3. Analyysi"
   ]
  },
  {
   "cell_type": "code",
   "execution_count": null,
   "id": "3df63c75",
   "metadata": {
    "scrolled": true
   },
   "outputs": [],
   "source": [
    "# Tarkastellaan miltä kokonaisuus näyttää kuvaajassa.\n",
    "\n",
    "plt.figure(figsize = (40, 10))\n",
    "plt.scatter( KumSat[\"Aika\"], KumSat[\"UV-B-säteily (index)\"])\n",
    "plt.axhline(3, linestyle='--', label = \"UVI 3+\", color='k', alpha = 0.5) # Raja suojautumistarpeelle.\n",
    "plt.axhline(6, linestyle='--', label = \"UVI 6+\", color='k', alpha = 0.5) # Raja voimakkaalle säteilylle.\n",
    "\n",
    "plt.title(\"UV-B-säteilyindeksi Helsingin Kumpulassa 2006-2020 \\n\", fontsize = 20)\n",
    "plt.show()"
   ]
  },
  {
   "cell_type": "markdown",
   "id": "11f4febd",
   "metadata": {},
   "source": [
    "Hyvältä näyttää, kertymän olettaisi osuvan kesäajalle ja keskelle päivää. Osuuko silmiisi poikkeavia ajankohtia joita voisi olla kiinnostavaa tarkastella lähemmin?"
   ]
  },
  {
   "cell_type": "code",
   "execution_count": null,
   "id": "6d224e0c",
   "metadata": {},
   "outputs": [],
   "source": [
    "# Vertailuksi kokonaissäteilyn vuo. Mikä ero näillä suureilla on?\n",
    "\n",
    "plt.figure(figsize = (40, 10))\n",
    "plt.scatter( KumSat[\"Aika\"], KumSat[\"Kokonaissäteily (W/m2)\"])\n",
    "plt.title(\"Kokonaissäteily (W/m2) Helsingin Kumpulassa 2006-2020 \\n\", fontsize = 20)\n",
    "plt.show()"
   ]
  },
  {
   "cell_type": "markdown",
   "id": "095807f6",
   "metadata": {},
   "source": [
    "Vuositasolla asiat ovat kohtalaisen vakaita, joten kaivaudutaan yksityiskohtaisempiin kuvauksiin vaihtelujen havainnollistamiseksi."
   ]
  },
  {
   "cell_type": "code",
   "execution_count": null,
   "id": "7466142a",
   "metadata": {},
   "outputs": [],
   "source": [
    "# Yksittäisten kuukausien kohdalla.\n",
    "\n",
    "# Jaetaan data. Hakutermi on tässä hipsuissa, koska Kk-sarake ei ole tyypiltään numero. Tämän voisi halutessaan\n",
    "# korjata muuttamalla mokomat luvuiksi string-tekstin sijaan.\n",
    "\n",
    "Maa = K20.query(\"Kk == '3'\")\n",
    "Hei = K20.query(\"Kk == '7'\")\n",
    "\n",
    "# Luodaan vertailuun soveltuva kuvaaja.\n",
    "\n",
    "plt.figure(figsize = (30, 10))\n",
    "\n",
    "plt.plot(Maa[\"Aika\"], Maa[\"UV-B-säteily (index)\"], alpha = 0.5, c = \"y\")\n",
    "plt.scatter(Maa[\"Aika\"], Maa[\"UV-B-säteily (index)\"], label = \"Maaliskuu\", c = \"r\")\n",
    "\n",
    "plt.twiny() # Lisätään toinen aika-akseli, koska käytetyt arvot eivät ole yhteneviä.\n",
    "\n",
    "plt.plot(Hei[\"Aika\"], Hei[\"UV-B-säteily (index)\"], alpha = 0.5, c = \"b\")\n",
    "plt.scatter(Hei[\"Aika\"], Hei[\"UV-B-säteily (index)\"], label = \"Heinäkuu\", c = \"g\")\n",
    "\n",
    "# Vaakaviiva kolmen kohdalle kuvaamaan merkittävää rajaa UV-indeksissä.\n",
    "\n",
    "plt.axhline(3, linestyle='--', label = \"UVI 3+\", color='k', alpha = 0.5) \n",
    "\n",
    "plt.title(\"UV-B-säteilyindeksi Helsingin Kumpulassa 2020 \\n\", fontsize = 30)\n",
    "plt.figlegend(loc = \"center right\", fontsize = 25)\n",
    "plt.show()"
   ]
  },
  {
   "cell_type": "markdown",
   "id": "ff1f49b8",
   "metadata": {},
   "source": [
    "Tätä näkymää voidaan nyt verrata muihin aineistoihin, kuten lämpötilaan tai pilvisyyteen kunakin päivänä."
   ]
  },
  {
   "cell_type": "code",
   "execution_count": null,
   "id": "1303c2c6",
   "metadata": {},
   "outputs": [],
   "source": [
    "# Tuodaan säätietoja samalta mittausasemalta.\n",
    "\n",
    "Saa20 = pd.read_csv(\"KumSaa2020.csv\",\n",
    "                 parse_dates = {\"Aika\":[\"Vuosi\", \"Kk\", \"Pv\", \"Klo\"]}, keep_date_col = True)\n",
    "\n",
    "# Tarkastellaan miltä data näyttää.\n",
    "\n",
    "Saa20.head()"
   ]
  },
  {
   "cell_type": "code",
   "execution_count": null,
   "id": "e98091e8",
   "metadata": {},
   "outputs": [],
   "source": [
    "# Lämpötilan kanssa koko vuodelta.\n",
    "\n",
    "plt.figure(figsize = (200, 10))\n",
    "\n",
    "plt.plot(K20[\"Aika\"], K20[\"UV-B-säteily (index)\"], alpha = 0.5, c = \"y\")\n",
    "plt.scatter(K20[\"Aika\"], K20[\"UV-B-säteily (index)\"], label = \"UVI\", c = \"r\")\n",
    "\n",
    "plt.axhline(3, linestyle='--', label = \"UVI 3+\", color='k', alpha = 0.5)\n",
    "\n",
    "plt.twinx() # Lisätään toinen arvoakseli, koska käytetyt arvot eivät ole yhteneviä.\n",
    "\n",
    "plt.plot(Saa20[\"Aika\"], Saa20[\"Ilman lämpötila (degC)\"], alpha = 0.5, c = \"b\")\n",
    "plt.scatter(Saa20[\"Aika\"], Saa20[\"Ilman lämpötila (degC)\"], label = \"Tuntilämpötila\", c = \"g\")\n",
    "\n",
    "plt.axhline(0, linestyle='--', label = \"0 deg C\", color='pink', alpha = 0.5)\n",
    "\n",
    "plt.title(\"UV-B-säteilyindeksi ja ilman lämpötila Helsingin Kumpulassa 2020 \\n\", fontsize = 30)\n",
    "plt.figlegend(loc = \"upper right\", fontsize = 25)\n",
    "plt.show()\n",
    "\n",
    "# Kuva on iso, sitä kannattaa tarkastella uudessa välilehdessä. Entä jos vaihdat alun \"figsize\" arvoja?"
   ]
  },
  {
   "cell_type": "code",
   "execution_count": null,
   "id": "cf7301a5",
   "metadata": {},
   "outputs": [],
   "source": [
    "# Myös pilvien kanssa heinäkuulta.\n",
    "\n",
    "plt.figure(figsize = (40, 15))\n",
    "\n",
    "UV = K20.query(\"Kk == '7'\")\n",
    "C = Saa20.query(\"Kk == '7'\")\n",
    "\n",
    "plt.subplot(2,1,1)\n",
    "\n",
    "plt.plot(UV[\"Aika\"], UV[\"UV-B-säteily (index)\"], alpha = 0.5, c = \"y\")\n",
    "plt.scatter(UV[\"Aika\"], UV[\"UV-B-säteily (index)\"], label = \"UVI\", c = \"r\")\n",
    "\n",
    "plt.axhline(3, linestyle='--', label = \"UVI 3+\", color='k', alpha = 0.5)\n",
    "\n",
    "plt.twinx() # Lisätään toinen arvoakseli, koska käytetyt arvot eivät ole yhteneviä.\n",
    "\n",
    "plt.plot(C[\"Aika\"], C[\"Ilman lämpötila (degC)\"], alpha = 0.5, c = \"b\")\n",
    "plt.scatter(C[\"Aika\"], C[\"Ilman lämpötila (degC)\"], label = \"Tuntilämpötila\", c = \"g\")\n",
    "\n",
    "plt.axhline(0, linestyle='--', label = \"0 deg C\", color='pink', alpha = 0.5)\n",
    "\n",
    "plt.subplot(2,1,2)\n",
    "\n",
    "plt.plot(C[\"Aika\"], C[\"Pilvien määrä (1/8)\"], alpha = 0.5, c = \"black\")\n",
    "plt.scatter(C[\"Aika\"], C[\"Pilvien määrä (1/8)\"], label = \"Pilvisyys\", c = \"blue\")\n",
    "\n",
    "plt.suptitle(\"UV-B-säteilyindeksi, ilman lämpötila ja pilvisyys Helsingin Kumpulassa heinäkuussa 2020 \\n\", fontsize = 30)\n",
    "plt.figlegend(loc = \"center right\", fontsize = 25)\n",
    "plt.show()"
   ]
  },
  {
   "cell_type": "markdown",
   "id": "c028f01b",
   "metadata": {},
   "source": [
    "Voiko UVI:n ja lämpötilan välille vetää suoraa johtopäätöstä? Voiko korkeiden tai matalien UVI-päivien kohdalta todeta jotain yhteyttä lämpötilan käytökseen? "
   ]
  },
  {
   "cell_type": "markdown",
   "id": "ec2df04f",
   "metadata": {},
   "source": [
    "### 4. Arviointi"
   ]
  },
  {
   "cell_type": "markdown",
   "id": "94ebc523",
   "metadata": {},
   "source": [
    "<img src = \"https://www.ilmatieteenlaitos.fi/hli0qi7fbbos/24v6dH7LNiv4TCX7ugdNt8/85648414a38bb296d058128788880c67/auringonsateily_750.jpg?fm=webp\">\n",
    "\n",
    "Kumpulan säähavaintoaseman aurinkosäteilymittareita työssään.\n",
    "\n",
    "Ilmatieteen laitoksen sivuilta voi vilkaista koeasemien asetelmia. Auringon säteilyn mittaaminen on kohtalaisen suoraviivaista energian ja ajan havainnointia, mutta pilvisyyden mittauksen huomaamme jännittävän arkaaiseksi: yllä käytetty 0-8 asteikko pohjaa yksinkertaisesti visuaaliseen havaintoon siitä, miten suuri osa taivaankannesta on peitossa.\n",
    "\n",
    "Havaintojen määrä ja tiheys antaa tässä tapauksessa kohtalaisesti luottoa niiden paikkaansapitävyyteen (olettaen mahdollisten systemaattisten virheiden poiston IL:n toimesta). Havaitut ilmiöt myös toistuvat useissa paikoissa.\n",
    "\n",
    "Entä jos mukaan ottaisi tuulen? Ilmankosteuden? "
   ]
  },
  {
   "cell_type": "markdown",
   "id": "6663c3e0",
   "metadata": {},
   "source": [
    "### 5. Lähteet"
   ]
  },
  {
   "cell_type": "markdown",
   "id": "a0b6ae8a",
   "metadata": {},
   "source": [
    "https://www.ilmatieteenlaitos.fi/havaintojen-lataus\n",
    "\n",
    "https://www.ilmatieteenlaitos.fi/ultraviolettisateily\n",
    "\n",
    "https://www.stuk.fi/aiheet/uv-sateily-aurinko-ja-solarium/auringon-ultraviolettisateily\n",
    "\n",
    "https://www.ilmatieteenlaitos.fi/havaintosuureet#auringonsateily\n",
    "\n",
    "\n",
    "\n"
   ]
  }
 ],
 "metadata": {
  "kernelspec": {
   "display_name": "Python 3 (ipykernel)",
   "language": "python",
   "name": "python3"
  },
  "language_info": {
   "codemirror_mode": {
    "name": "ipython",
    "version": 3
   },
   "file_extension": ".py",
   "mimetype": "text/x-python",
   "name": "python",
   "nbconvert_exporter": "python",
   "pygments_lexer": "ipython3",
   "version": "3.9.7"
  }
 },
 "nbformat": 4,
 "nbformat_minor": 5
}
