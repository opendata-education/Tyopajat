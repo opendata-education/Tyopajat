{
 "cells": [
  {
   "cell_type": "markdown",
   "metadata": {},
   "source": [
    "# Aerosoli-työpaja\n",
    "### (Työpajan kesto noin 2 x 75 min)\n",
    "\n",
    "Tässä harjoituksessa hyödynnetään Python-ohjelmointia, mutta mitään taustatietoa ohjelmoinnista ei tarvita.\n",
    "\n",
    "**Työpajan idea**\n",
    "\n",
    "Tässä työpajassa tutustutaan aerosoli-tutkimukseen siten, että pienissä opiskelijaryhmissä keskitytään tarkastelemaan yhtä tutkimuskysymystä. Tavoitteena on, että opiskelijaryhmät saavat muodostettua kuvaajan, joka vastaa heidän valitsemaansa tutkimuskysymykseen. Opiskelijat voivat sen lisäksi pohtia, mistä mahdolliset muutokset ja eroavaisuudet johtuvat, sekä etsiä kevyesti tietoa asiasta kuvaajan/tutkimuksen ympärille.\n",
    "\n",
    "Opiskelija – ennen kuin aloitat itsenäisen työskentelyn ryhmäsi kanssa, varmistathan että osaat seuraavat asiat:\n",
    "1. Luoda uusia koodi- ja tekstisoluja, sekä muokata vanhoja.\n",
    "2. Ajaa koodi- ja tekstisolut.\n",
    "3. Luoda uuden tiedoston, tallentaa sen ja avata sen uudelleen.\n",
    "\n",
    "Kaikki nämä asiat käydään läpi tässä ohjeessa.\n",
    "\n",
    "***"
   ]
  },
  {
   "cell_type": "markdown",
   "metadata": {},
   "source": [
    "## 1. Notebookien kanssa tutuksi\n",
    "\n",
    "Tässä on tilaa opiskella Notebookien perustyökalujen käyttö, eli koodi- ja tekstisolujen hallinta. \n",
    "***"
   ]
  },
  {
   "cell_type": "markdown",
   "metadata": {},
   "source": [
    "Tämä tässä on tekstisolu! Tuplaklikkaamalla pääset muokkaustilaan – voisit kokeilla kirjoittaa tähän jotakin omia höpinöitä. Ylhäällä oleva **Run**-painike tai Control+Enter ajaa tämän solun. "
   ]
  },
  {
   "cell_type": "code",
   "execution_count": null,
   "metadata": {},
   "outputs": [],
   "source": [
    "# Tässä alla taas on koodisolu. Risuaidan avulla voit kirjoittaa koodisoluihin kommentteja.\n",
    "# Kokeillaan laskea jotakin! Kun olet kirjoittanut laskun alle, voit ajaa solun ja nähdä vastauksen.\n",
    "\n",
    "# Huomaathan, että koodisolua klikkaamalla voit saada kehykset ## vihreäksi ## – silloin kyseinen solu on valittu\n",
    "# muokattavaksi tai ajettavaksi.\n",
    "\n",
    "7+88"
   ]
  },
  {
   "cell_type": "markdown",
   "metadata": {},
   "source": [
    "***\n",
    "\n",
    "## 2. Aikataulu ja tehtävänanto\n",
    "\n",
    "**2.1 AIKATAULU**\n",
    "\n",
    "**Oppitunti 1**\n",
    "\n",
    "15 min – Mitä ovat aerosolit?  \n",
    "20 min – Jupyter Notebook tutuksi, tehtävänanto ja esimerkin läpikäyminen  \n",
    "20 min – Ryhmiin jakautuminen ja tutkimuskysymyksen valinta  \n",
    "20 min – Oman työn aloitus, tavoitteena datasetin käyttöönotto omalla pohjalla  \n",
    "\n",
    "**Oppitunti 2**\n",
    "\n",
    "15 min – Ohjeistus työskentelyyn  \n",
    "50 min – Datan valmistelu ja kuvaajan muodostaminen  \n",
    "05 min – Harjoituksen tallennus pdf-tiedostoksi  \n",
    "05 min – Työpajan lopetus \n",
    "\n"
   ]
  },
  {
   "cell_type": "markdown",
   "metadata": {},
   "source": [
    "**2.2 TYÖVAIHEET**\n",
    "\n",
    "![tyovaiheet_kuva](tyovaiheet_kuva.jpg)"
   ]
  },
  {
   "cell_type": "markdown",
   "metadata": {},
   "source": [
    "**2.3 UUDEN TIEDOSTON AVAUS JA TALLENNUS**\n",
    "\n",
    "**Tehtävän avaaminen MyBinderissa**\n",
    "1. Klikkaa oikealla yläkulmassa olevaa rakettipainiketta --> MyBinder\n",
    "2. Lataus voi kestää muutaman minuutin\n",
    "\n",
    "**Uusi tiedosto:**\n",
    "1. Avaa MyBinder\n",
    "2. File --> New Notebook\n",
    "3. Muista tallentaa säännöllisesti (Save and Checkpoint)\n",
    "\n",
    "**Tiedoston tallennus omalle koneelle**\n",
    "1. File --> Download as --> Notebook (.ipynp)\n",
    "\n",
    "**Tiedoston avaus uudelleen**\n",
    "1. Avaa mikä tahansa Notebook MyBinderissa\n",
    "2. File --> Open\n",
    "3. Upload ja valitse haluamasi tiedosto.\n",
    "4. Avaa tiedosto ja voit jatkaa muokkaamista."
   ]
  },
  {
   "cell_type": "markdown",
   "metadata": {},
   "source": [
    "***\n",
    "## 3. Esimerkki\n",
    "\n",
    "Käytetään esimerkkinä datasettiä, joka kertoo Maan läheisyydessä havaittujen asteroidien lukumäärät 1900-luvulta lähtien."
   ]
  },
  {
   "cell_type": "code",
   "execution_count": null,
   "metadata": {},
   "outputs": [],
   "source": [
    "# Ladataan halutut tietokirjastot käyttöön.\n",
    "\n",
    "# Tietokirjastot sisältävät erilaisia työkaluja, esimerkiksi taulukoiden käsittelyyn, kuvaajien piirtämiseen jne.\n",
    "# Nämä alla olevat kirjastot ovat kaikki mitä tarvitsette.\n",
    "\n",
    "import pandas as pd\n",
    "import numpy as np\n",
    "import matplotlib.pyplot as plt"
   ]
  },
  {
   "cell_type": "code",
   "execution_count": null,
   "metadata": {
    "scrolled": true
   },
   "outputs": [],
   "source": [
    "# Ladataan data ja tallennetaan se muuttujaan 'asteroidit'.\n",
    "# .head()-komennolla kurkataan datasetin sisälle.\n",
    "\n",
    "asteroidit = pd.read_csv('https://raw.githubusercontent.com/opendata-education/Tyopajat/main/materiaali/data/near-earth-asteroids-discovered-over-time.csv')\n",
    "asteroidit.head()"
   ]
  },
  {
   "cell_type": "code",
   "execution_count": null,
   "metadata": {},
   "outputs": [],
   "source": [
    "# Valmistellaan x-akselin tiedot, tässä tapauksessa poimitaan vuosiluvut 'Year'-sarakkeesta muuttujaan 'vuodet'.\n",
    "# Hakasulkeisiin tulee suoraan datatiedoston sen sarakkeen nimi, jonka tiedot haluat tallentaa käyttöön.\n",
    "\n",
    "vuodet = asteroidit['Year']\n",
    "vuodet"
   ]
  },
  {
   "cell_type": "code",
   "execution_count": null,
   "metadata": {},
   "outputs": [],
   "source": [
    "# Valmistellaan y-akselin tiedot. Valitaan tarkasteluun pienten asteroidien lukumäärä.\n",
    "\n",
    "pienet = asteroidit['smaller_than_140m']"
   ]
  },
  {
   "cell_type": "code",
   "execution_count": null,
   "metadata": {},
   "outputs": [],
   "source": [
    "# Muodostetaan kuvaaja plt.plot(x,y)-komennon avulla.\n",
    "\n",
    "plt.plot(vuodet, pienet)\n",
    "\n",
    "plt.title('Otsikko')\n",
    "plt.xlabel('x-akselin nimi')\n",
    "plt.ylabel('y-akselin nimi')\n",
    "\n",
    "plt.show()"
   ]
  },
  {
   "cell_type": "markdown",
   "metadata": {},
   "source": [
    "Osalla teistä voi olla tarvetta piirtää kaksi viivaa samaan kuvaajaan. Tässä tapauksessa x-akselin arvot pysyvät samana, mutta tarvitaan kaksi kappaletta y-akselille valmisteltuja arvoja. Kun se on tehty, voidaan piirtää vain molemmat viivat samaan kuvaajaan tällä tavalla:"
   ]
  },
  {
   "cell_type": "code",
   "execution_count": null,
   "metadata": {},
   "outputs": [],
   "source": [
    "# Valmistellaan toisen y-akselille tulevan muuttujan arvot\n",
    "\n",
    "isot = asteroidit['larger_than_1km']"
   ]
  },
  {
   "cell_type": "code",
   "execution_count": null,
   "metadata": {},
   "outputs": [],
   "source": [
    "# Ja piirretään molemmat viivat. Tässä tapauksessa on tärkeää lisätä 'label'-osio, että osataan erottaa\n",
    "# viivat toisistaan.\n",
    "\n",
    "plt.plot(vuodet, pienet, color='blue', label='Pienet')\n",
    "plt.plot(vuodet, isot, color = 'green', label='Isot')\n",
    "\n",
    "plt.title('Otsikko')\n",
    "plt.xlabel('x-akselin nimi')\n",
    "plt.ylabel('y-akselin nimi')\n",
    "\n",
    "plt.legend() # Tulostaa viivojen nimet\n",
    "plt.show()"
   ]
  }
 ],
 "metadata": {
  "kernelspec": {
   "display_name": "Python 3",
   "language": "python",
   "name": "python3"
  },
  "language_info": {
   "codemirror_mode": {
    "name": "ipython",
    "version": 3
   },
   "file_extension": ".py",
   "mimetype": "text/x-python",
   "name": "python",
   "nbconvert_exporter": "python",
   "pygments_lexer": "ipython3",
   "version": "3.8.5"
  }
 },
 "nbformat": 4,
 "nbformat_minor": 4
}
