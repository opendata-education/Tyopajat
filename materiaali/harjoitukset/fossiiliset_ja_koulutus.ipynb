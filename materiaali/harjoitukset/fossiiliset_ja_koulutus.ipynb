{
 "cells": [
  {
   "cell_type": "markdown",
   "metadata": {},
   "source": [
    "# Luonnonvarojen käyttö ja tasa-arvoinen koulutus\n",
    "\n",
    "Sukupuolten välinen tasa-arvo on maailmanlaajuisesti yksi UNESCO:n päätavoitteista. Vaikkakin tämän osalta ollaan otettu isoja edistysaskelia, epätasa-arvoa esiintyy esimerkiksi koulutuksessa monissa eri yhteyksissä. Koulutus tarjoaa lapsille mahdollisuuden vaikuttaa tulevaisuuteensa ja olla osana yhteiskuntaa. Vaikka mahdollisuus laadukkaaseen koulutukseen on ihmisoikeusasia, sillä on myös vaikutusta siihen, minkälaiseksi meidän maailma ja yhteiskunnat kehittyvät. Tyttöjen koulutukseen panostamisella onkin merkittäviä vaikutuksia erityisesti kehittyvissä maissa, sillä se mahdollistaa esimerkiksi nopeamman kehityksen ja hillitsee väestönkasvua. \n",
    "\n",
    "Luonnonvarojen ja fossiilisten polttoaineiden käyttö on mahdollistanut valtioiden rikastumisen ja nopean kehityksen. YK:n selvityksen mukaan tyttöjen ja naisten koulutuksen tasoa voidaan pitää hyvänä indikaattorina yhteiskunnan kehityksen tasosta. Tämän pohjlta voidaankin tarkastella lähemmin sitä, onko valtioiden fossiilisten polttoaineiden kulutuksen myötä mahdollistettu myös tyttöjen pääsyä perusopetusta vastaavaan koulutukseen. \n",
    "***"
   ]
  },
  {
   "cell_type": "markdown",
   "metadata": {},
   "source": [
    "#### Osio 1. Datasettien valinta"
   ]
  },
  {
   "cell_type": "code",
   "execution_count": null,
   "metadata": {},
   "outputs": [],
   "source": [
    "import pandas as pd\n",
    "import numpy as np\n",
    "import matplotlib.pyplot as plt"
   ]
  },
  {
   "cell_type": "markdown",
   "metadata": {},
   "source": [
    "1) **Ratio girls/boys in school, primary and secondary education (%)** -datasetti on otettu [täältä](https://www.gapminder.org/data/). \n",
    "\n",
    "Maakohtainen suhdeluku siitä, missä suhteessa poikia ja tyttöjä osallistuu perusopetusta vastaavaan opetukseen.\n",
    "\n",
    "2) **Consumption CO2 per capita** -datasetti on otettu [täältä](https://www.gapminder.org/data/).\n",
    "\n",
    "Maakohtaiset tiedot siitä, kuinka paljon fossiilisten polttoaineiden kulutuksesta, sementin valmistuksesta ja maakaasun soihduttamisesta on aiheutunut CO2-päästöjä yhtä asukasta kohden. Tässä luvussa on otettu huomioon maan vienti ja tuonti. Taulukossa annetut luvut ovat tonnia/henkilö.\n",
    "\n",
    "3) **Fossil fuel consumption per capita** -datasetti on otettu [täältä](https://ourworldindata.org/grapher/fossil-fuel-cons-per-capita).\n",
    "\n",
    "Maakohtaiset tiedot fossiilisten polttoaineiden kulutuksesta laskettuna yhtä asukasta kohden. Taulukko sisältää öljyn, maakaasun ja kivihiilen kulutukset kilowattitunneissa [kWh]. "
   ]
  },
  {
   "cell_type": "code",
   "execution_count": null,
   "metadata": {},
   "outputs": [],
   "source": [
    "# Ladataan käyttöön muutama aiheen kannalta kiinnostava datasetti read_csv()-komennolla.\n",
    "\n",
    "lasten_koulutus = pd.read_csv('https://raw.githubusercontent.com/opendata-education/Tyopajat/main/materiaali/data/ratio_of_girls_to_boys_in_primary_and_secondary_education_perc.csv')\n",
    "co2_kulutus = pd.read_csv('https://raw.githubusercontent.com/opendata-education/Tyopajat/main/materiaali/data/consumption_emissions_tonnes_per_person.csv')\n",
    "fossiiliset_polttoaineet_data = pd.read_csv('https://raw.githubusercontent.com/opendata-education/Tyopajat/main/materiaali/data/fossil-fuel-cons-per-capita.csv')"
   ]
  },
  {
   "cell_type": "code",
   "execution_count": null,
   "metadata": {},
   "outputs": [],
   "source": [
    "# Kurkataan yhden datasetin sisään head()-komennon avulla, jotta tiedetään minkä kanssa työskennellään.\n",
    "# Voit itse katsoa myös muiden datasettien sisälle.\n",
    "# Saat myös lisää rivejä käyttöön, jos laitat komennon sulkeisiin esimerkiksi (20). Tällöin näytetään\n",
    "# 20 ensimmäistä riviä.\n",
    "\n",
    "co2_kulutus.head()"
   ]
  },
  {
   "cell_type": "code",
   "execution_count": null,
   "metadata": {},
   "outputs": [],
   "source": [
    "lasten_koulutus.head(50)"
   ]
  },
  {
   "cell_type": "markdown",
   "metadata": {},
   "source": [
    "***\n",
    "#### Osio 2: Datan valmistelu\n",
    "\n",
    "Nyt kun itse datasetit ovat valittuna, voidaan pyöräyttää muutama rivi koodia, jotta saadaan valmisteltua datat kuvaajien tekemistä varten."
   ]
  },
  {
   "cell_type": "code",
   "execution_count": null,
   "metadata": {},
   "outputs": [],
   "source": [
    "### Tämän solun ajamisesta seuraa punainen virheilmoitus, mutta siitä ei tarvitse välittää. ###\n",
    "\n",
    "# Koska fossiilisten polttoaineiden datasetti sisältää erikseen tiedot öljyn, kivihiilen ja maakaasun\n",
    "# kulutuksesta, niin lasketaan ensin jokaiselle vuodelle erikseen näiden kaikkien kulutuksen summa\n",
    "# ja lisätään ne tiedot uuteen sarakkeeseen alkuperäiseen taulukkoon. Uuden sarakkeen nimi on nyt \"Yht\".\n",
    "\n",
    "yht = np.zeros(len(fossiiliset_polttoaineet_data))\n",
    "fossiiliset_polttoaineet_data[\"Yht\"] = yht\n",
    "\n",
    "for i in range(len(fossiiliset_polttoaineet_data)):\n",
    "    fossiiliset_polttoaineet_data[\"Yht\"][i] = (fossiiliset_polttoaineet_data['Coal per capita (kWh)'][i] \n",
    "                                               + fossiiliset_polttoaineet_data['Oil per capita (kWh)'][i] \n",
    "                                               + fossiiliset_polttoaineet_data['Gas per capita (kWh)'][i])\n",
    "    "
   ]
  },
  {
   "cell_type": "code",
   "execution_count": null,
   "metadata": {},
   "outputs": [],
   "source": [
    "### Koulutus-datasetin valmistelu. ###\n",
    "\n",
    "koulutus_vuosi = list(np.int_(lasten_koulutus.columns.values[1:])) # x-akselin tiedon valmistelu\n",
    "               \n",
    "maan_valinta2 = np.int_(lasten_koulutus.index[lasten_koulutus['country'] == 'India']) ## valitaan haluttu maa\n",
    "\n",
    "koulutus_maa = lasten_koulutus.loc[maan_valinta2[0]] # y-akselin tiedon valmistelu\n",
    "koulutus_maa = list(np.float_(koulutus_maa[1:]))\n",
    "\n",
    "\n",
    "\n",
    "### CO2-datasetin valmistelu. ###\n",
    "\n",
    "co2_vuosi = list(np.int_(co2_kulutus.columns.values[1:])) # x-akselin tiedon valmistelu\n",
    "\n",
    "maan_valinta1 = np.int_(co2_kulutus.index[co2_kulutus['country'] == 'India']) ## valitaan haluttu maa\n",
    "\n",
    "co2_maa = co2_kulutus.loc[maan_valinta1[0]] # y-akselin tiedon valmistelu\n",
    "co2_maa = list(np.float_(co2_maa[1:]))\n",
    "\n",
    "\n",
    "\n",
    "### Fossiilisten polttoaineiden kulutukseen liittyvän datasetin valmistelu. ###\n",
    "\n",
    "fossiiliset_polttoaineet = fossiiliset_polttoaineet_data[\n",
    "    (fossiiliset_polttoaineet_data['Entity']=='India')] ## Valitaan haluttu maa\n",
    "\n",
    "fossiiliset_vuosi = fossiiliset_polttoaineet['Year'] # x-akselin tiedot  \n",
    "fossiiliset_maa = fossiiliset_polttoaineet['Yht'] # y-akselin tiedot\n"
   ]
  },
  {
   "cell_type": "markdown",
   "metadata": {},
   "source": [
    "***\n",
    "#### Osio 3: Kuvaajat\n",
    "\n",
    "Sitten päästäänkin tekemään kuvaajia. Tehdään kuvaaja nyt kaksiakselisena niin, että ensimmäisellä akselilla on lasten koulutus, ja toisella akselilla joko fossiilisten polttoaineiden kulutus tai niihin liittyvät hiilipäästöt. Kommentoimalla voit vaikuttaa siihen, kumpi ax2.plot()-riveistä piirretään kuvaajaan."
   ]
  },
  {
   "cell_type": "code",
   "execution_count": null,
   "metadata": {},
   "outputs": [],
   "source": [
    "fig, ax1 = plt.subplots(figsize = (20,10))\n",
    "\n",
    "#########\n",
    "# Valmistellaan kuvaaja\n",
    "\n",
    "ax1.set_xlabel('Vuosi', color = 'black', fontsize = 15) \n",
    "ax1.set_ylabel('Koulutus (tytöt / pojat)', color = 'black', fontsize = 15)\n",
    "ax1.tick_params(axis ='y', labelcolor = 'black')\n",
    "\n",
    "ax2 = ax1.twinx() \n",
    "ax2.set_ylabel('Fossiilisten polttoaineiden kulutus, joko kWh tai CO2 tonnia/asukas.', color = 'blue', fontsize = 15) \n",
    "ax2.tick_params(axis ='y', labelcolor = 'blue') \n",
    "\n",
    "#########\n",
    "# Kuvaajat\n",
    "\n",
    "ax1.plot(koulutus_vuosi, koulutus_maa, label = 'koulutus', color = 'red') \n",
    "\n",
    "#ax2.plot(co2_vuosi, co2_maa, label = 'co2', color = 'blue')\n",
    "ax2.plot(fossiiliset_vuosi, fossiiliset_maa, label = 'fossiiliset', color = 'blue')\n",
    "\n",
    "\n",
    "#########\n",
    "# Asetukset, kuten x-akselin skaalaus ja otsikointi.\n",
    "\n",
    "plt.title('Otsikko', fontsize = 20)\n",
    "plt.figlegend(loc = \"upper right\", fontsize = 15)\n",
    "\n",
    "plt.show()"
   ]
  },
  {
   "cell_type": "markdown",
   "metadata": {},
   "source": [
    "***\n",
    "#### Osio 4: Pohdinta\n",
    "\n",
    "1. Mitkä asiat voivat vaikuttaa siihen, ettei tasa-arvoinen koulutus toteudu?\n",
    "2. Valitse muutama maa eri puolilta maapalloa. Miten tasa-arvoisen koulutuksen kehitys on poikennut toisistaan näissä maissa? Esimerkkimaita voivat olla esimerkiksi Kiina, Intia, Espanja, Burkina Faso ja Kolumbia.\n",
    "3. Voiko fossiilisten polttoaineiden käytöllä olla yhteyttä tasa-arvoisen koulutuksen kanssa? Jos yhteys on, mistä se voisi johtua? Jos ei, miksi?"
   ]
  },
  {
   "cell_type": "markdown",
   "metadata": {},
   "source": [
    "#### Lähteet\n",
    "\n",
    "[1] https://www.unesco.org/en/gender-equality/education/her-education-our-future\n"
   ]
  }
 ],
 "metadata": {
  "kernelspec": {
   "display_name": "Python 3",
   "language": "python",
   "name": "python3"
  },
  "language_info": {
   "codemirror_mode": {
    "name": "ipython",
    "version": 3
   },
   "file_extension": ".py",
   "mimetype": "text/x-python",
   "name": "python",
   "nbconvert_exporter": "python",
   "pygments_lexer": "ipython3",
   "version": "3.8.5"
  }
 },
 "nbformat": 4,
 "nbformat_minor": 4
}
