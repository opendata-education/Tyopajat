{
 "cells": [
  {
   "cell_type": "markdown",
   "metadata": {},
   "source": [
    "# ESIMERKKI 1: Maan lämpötilapoikkeaman määritys\n",
    "\n",
    "Tervetuloa testailemaan Jupyter Notebookia. Tähän yhteen tiedostoon (eli notebookiin) on rakennettu yksi esimerkkiharjoitus. Tämä alusta on täysin interaktiivinen, joten voit siis vapaasti muokkailla kaikkea täältä löytyvää – eikä huolta, muutokset eivät näy kavereille!\n",
    "\n",
    "Nämä tiedostot rakentuvat koodisoluista sekä tekstisoluista. Yläpalkista löytyy tarvittavat työkalut, kuten:\n",
    "- solujen lisääminen ja poistaminen\n",
    "- solujen liikuttelu ylös ja alas\n",
    "- solujen ajaminen (Run)\n",
    "- ja solun tyypin määrittäminen (markdown = tekstisolu, code = koodisolu).\n",
    "\n",
    "Jos tykkäät käyttää enemmän pikakomentoja, solujen ajamiseen toimii Ctrl+Enter (Windows) tai cmd+Enter (Mac)."
   ]
  },
  {
   "cell_type": "markdown",
   "metadata": {},
   "source": [
    "***\n",
    "## Miten maapallon lämpötila on muuttunut vuosien saatossa?"
   ]
  },
  {
   "cell_type": "markdown",
   "metadata": {},
   "source": [
    "Tarkastellaan kuinka Maapallon lämpötila on muuttunut viimeisen 140 vuoden aikana. Yksi keino lähestyä tätä asiaa on lämpötilapoikkeamat (temperature anomalies).\n",
    "\n",
    "`Lämpötilapoikkeamalla voidaan tarkastella sitä, miten lämpötila on muuttunut johonkin vertailuajankohtaan nähden. Absoluuttisia arvoja ei siis tiedetä, mutta tiedetään muutoksen suuruus.`\n",
    "\n",
    "Tässä tapauksessa vertailuajankohtana toimii vuodet 1951 - 1980. Näiden vuosien globaaleista lämpötilakeskiarvoista on laskettu keskiarvo, joka toimii meidän vertailuarvona. Tämän jälkeen vuodesta 1980 lähtien jokaisen kuukauden globaalia lämpötilakeskiarvoa tuohon vertailuarvoon. Tästä nähdään siis suoraan, kuinka paljon lämpötila on muuttunut vertailuajankohdan jälkeen.\n",
    "\n",
    "![poikkeama](../kuvat/poikkeama.png)\n",
    "\n",
    "***\n",
    "\n",
    "#### Datasetin käyttöönotto ja valmistelu"
   ]
  },
  {
   "cell_type": "code",
   "execution_count": null,
   "metadata": {},
   "outputs": [],
   "source": [
    "# Datasettien tarkasteluun tarvitaan erilaisia työkaluja, osaa tarvitaan taulukoiden kanssa työskentelyyn ja osaa\n",
    "# kuvaajien rakentamiseen. Työkalut löytyy työkalukirjastoista, ja ladataan nyt tarvittavat kirjastot käyttöön.\n",
    "\n",
    "import pandas as pd # pandas sisältää työkalut taulukoita varten\n",
    "import matplotlib.pyplot as plt # ja matplotlib vastaavasti kuvaajia varten"
   ]
  },
  {
   "cell_type": "markdown",
   "metadata": {},
   "source": [
    "Nyt tarvitaan jotain dataa, jotta voidaan edetä tässä tarkastelussa. Otetaan käyttöön datasetti, joka on löydetty [täältä]('https://ourworldindata.org/explorers/climate-change?facet=none&Metric=Temperature+anomaly&Long-run+series%3F=false&country=OWID_WRL~ATA~Gulkana+Glacier~Lemon+Creek+Glacier~North+America~South+Cascade+Glacier~Wolverine+Glacier'). Ladataan tiedosto tänne ja kurkataan sen sisältö."
   ]
  },
  {
   "cell_type": "code",
   "execution_count": null,
   "metadata": {},
   "outputs": [],
   "source": [
    "# lampotilat_data on nyt muuttuja, johon me tallennetaan koko datasetin sisältö sellaisenaan.\n",
    "\n",
    "lampotilat_data = pd.read_csv('https://raw.githubusercontent.com/opendata-education/Tyopajat/main/materiaali/data/climate-change.csv') # Luetaan tiedosto ja tallennetaan se muuttujaan.\n",
    "lampotilat_data.head() # head()-käskyllä voidaan kurkata datasetin sisälle."
   ]
  },
  {
   "cell_type": "markdown",
   "metadata": {},
   "source": [
    "`head()-komennon sulkujen sisälle voi laittaa lukuarvoja, jolla voidaan vaikuttaa siihen, mitä datasetistä näytetään tässä esikatselussa. Kokeile laittaa sinne vaikka luvut 10 ja -20.`\n",
    "\n",
    "Datasetti näyttää sisältävän mittaustuloksia useista eri paikoista. Listan lopussa on myös globaalit arvot, joten keskitytään nyt niihin."
   ]
  },
  {
   "cell_type": "code",
   "execution_count": null,
   "metadata": {},
   "outputs": [],
   "source": [
    "# Tallennetaan lampotilat-muuttujaan datasetin globaalit arvot, eli ne rivit,\n",
    "# joissa Entity-sarakkeessa lukee 'World'.\n",
    "\n",
    "lampotilat = lampotilat_data[(lampotilat_data['Entity']=='World')]"
   ]
  },
  {
   "cell_type": "markdown",
   "metadata": {},
   "source": [
    "`Voit tarkistaa head()-komennon avulla, miltä tiedot näyttävät nyt. Minkälaisen komennon voit kirjoittaa yllä olevaan koodisoluun?`\n",
    "\n",
    "Tämä datasetti sisältää kuitenkin varsin paljon NaN-arvoja (NaN = Not a Number). Koska me ollaan nyt kiinnostuneita lämpötilapoikkeamista ja niille arvoille löytyy oma sarakkeensa (Temperature anomaly), poistetaan ne rivit, joissa kyseisen sarakkeen arvo on NaN."
   ]
  },
  {
   "cell_type": "code",
   "execution_count": null,
   "metadata": {},
   "outputs": [],
   "source": [
    "lampotilat = lampotilat.dropna(subset=['Temperature anomaly']) # Poistetaan NaN-rivit\n",
    "\n",
    "lampotilat['Date'] = pd.to_datetime(lampotilat['Date']) # Muutetaan Date-sarakkeen luvut oikeasti päivämääriksi."
   ]
  },
  {
   "cell_type": "markdown",
   "metadata": {},
   "source": [
    "***\n",
    "\n",
    "#### Kuvaajan piirtäminen\n",
    "\n",
    "Nyt ollaan tehty varsinaiset valmistelut datasetin osalta valmiiksi, ja päästäänkin pyörittelemään itse dataa. Valmistellaan seuraavaksi x-akselille ja y-akselille tulevat tiedot omiin muuttujiin, niin homma pysyy selkeänä. Nyt halutaan päivämäärät x-akselille ja lämpötilapoikkeamat y-akselille."
   ]
  },
  {
   "cell_type": "code",
   "execution_count": null,
   "metadata": {},
   "outputs": [],
   "source": [
    "paivamaarat = lampotilat['Date'] # tallennetaan päivämäärätiedot\n",
    "\n",
    "data = lampotilat['Temperature anomaly'] # tallennetaan lämpötilapoikkeamat"
   ]
  },
  {
   "cell_type": "markdown",
   "metadata": {},
   "source": [
    "Plottailua varten kaikki valmiina, joten lähetään piirtelemään."
   ]
  },
  {
   "cell_type": "code",
   "execution_count": null,
   "metadata": {},
   "outputs": [],
   "source": [
    "plt.figure(figsize = (20, 10)) # Määritetään kuvaajan koko. Voit vaihtaa numeroita sulkeiden sisällä.\n",
    "\n",
    "plt.plot(paivamaarat, data) # Annetaan piirrettävät tiedot plot(x,y)-komennolla.\n",
    "\n",
    "plt.title('Kuva 1: Globaali kuukausittainen lämpötilapoikkeama vuosien 1951-1980 keskiarvoon verrattuna.')\n",
    "plt.xlabel('Vuosi')\n",
    "plt.ylabel('Poikkeama [°C]')\n",
    "plt.axhline(0, color='yellow') # Selkeyden vuoksi piirretään viiva kohtaan y=0.\n",
    "           \n",
    "plt.show() # Tulostetaan kuvaaja näkyviin."
   ]
  },
  {
   "cell_type": "markdown",
   "metadata": {},
   "source": [
    "***\n",
    "\n",
    "#### Pohdinta\n",
    "\n",
    "Vaihtakaa vieruskaverisi kanssa ajatuksia tästä kuvaajasta ja harjoituksesta. Voitte käydä läpi esimerkiksi seuraavia kysymyksiä:\n",
    "\n",
    "1. Minkälaisia ajatuksia kuvaaja tai tämä harjoitus herättää sinussa?\n",
    "3. Minkälaisia sanoja käyttäisit tästä kuvaajasta? Onko se herättelevä, tylsä, informatiivinen, selkeä, harhaanjohtava, vai jotain muuta?\n",
    "4. Onko lämpötilapoikkeama sinun mielestäsi hyvä tapa tuoda esille ilmastonmuutosta?\n",
    "5. Jääkö tästä kuvaajasta tai harjoituksesta puuttumaan jotakin, mikä olisi sinun mielestäsi kiinnostavaa?"
   ]
  }
 ],
 "metadata": {
  "kernelspec": {
   "display_name": "Python 3",
   "language": "python",
   "name": "python3"
  },
  "language_info": {
   "codemirror_mode": {
    "name": "ipython",
    "version": 3
   },
   "file_extension": ".py",
   "mimetype": "text/x-python",
   "name": "python",
   "nbconvert_exporter": "python",
   "pygments_lexer": "ipython3",
   "version": "3.8.5"
  }
 },
 "nbformat": 4,
 "nbformat_minor": 4
}
