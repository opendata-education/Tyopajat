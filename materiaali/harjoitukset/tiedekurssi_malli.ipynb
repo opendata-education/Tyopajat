{
 "cells": [
  {
   "cell_type": "markdown",
   "metadata": {},
   "source": [
    "### Tiedekurssin malliraportti"
   ]
  },
  {
   "cell_type": "markdown",
   "metadata": {},
   "source": [
    "# Onko demokratialla ja naisten oikeudella uudelleenavioitua yhteys?"
   ]
  },
  {
   "cell_type": "markdown",
   "metadata": {},
   "source": [
    "## 1. Alustus ja hypoteesi"
   ]
  },
  {
   "cell_type": "markdown",
   "metadata": {},
   "source": [
    "Muotoile alustava tutkimuskysymys – mitä haluaisit tietää tai selvittää? Mistä lähdet etsimään asiaan liittyvää dataa? Minkälaista dataa löysit? Nyt muodosta lopullinen tutkimuskysymys löytämäsi datan perusteella, mihin kysymykseen voit saada suoran vastauksen käsissäsi olevan datan avulla?\n",
    "\n",
    "Mietitään tutkimuskysymyksen hypoteesi valmiiksi – minkälaisen lopputuloksen ajattelet saavasi? Mihin nämä ajatukset tai oletukset perustuvat? Miten erilaiset asiat linkittyvät toisiinsa (esimerkiksi tässä tapauksessa naimisiinmeno ja demokratia), onko niillä yhteys? Minkälaiset tekijät tulee ottaa huomioon tätä kysymystä tutkiessa?\n",
    "\n",
    "Esittele tässä myös tutkimuksesi välivaiheet – minkälaista tietoa tarvitset ensin, mihin edetään loppua kohden?"
   ]
  },
  {
   "cell_type": "markdown",
   "metadata": {},
   "source": [
    "<font color='darkblue'>\n",
    "(Lähdin miettimään, että onkohan demokratialla ja naisten oikeuksilla yhteys. Selasin databank.worldbank.org -nettisivuja, että minkälaista mielenkiintoista dataa olisi tarjolla, kunnes keksin oman tutkimuskysymykseni.)\n",
    "    \n",
    "Tässä raportissa pohditaan, vaikuttaako naisten oikeuteen mennä uudestaan naimisiin valtion valtiojärjestys. Naisten oikeutta avioitua uudelleen verrataan miesten oikeuteen tehdä samoin. Tarkastellaan, onko valtiojärjestystä muuttaneiden valtioiden keskuudessa havaittavissa muutosta naisten oikeuksissa uudelleenavioitua, sekä onko demokraattisilla valtioilla yleisempää uudelleenavioitumisen tasa-arvoisuus.\n",
    "    \n",
    "Demokratia, eli kansantasavalta, on poliittinen järjestelmä, jossa kansalla on oikeus vaikuttaa valtion yhteisiin asioihin joko suoraan, tai valitsemalla vaalien avulla kansan joukosta edustajat. [1] Tässä raportissa viitataan ei-demokratiana valtioihin, jotka pohjautuvat oligargiaan, autokratiaan, teokratiaan tai anarkiaan, eikä niitä eritellä sen tarkemmin toisistaan. Pohdin, että vaikka avioliitolla on kirkollinen historia, demokraattiset valtiot ovat tunnettuja ihmisoikeuksien ajamisesta. Tasa-arvoinen oikeus uudelleenavioitua voisi siis liittyä demokraattiseen valtiojärjestykseen.\n",
    "    \n",
    "Tämän pohdinnan tueksi tarvitsen muutamia erilaisia kuvaajia – maailmankartan, jossa näytetään demokratian levinneisyys nykyhetkessä; maailmankartan, jossa näytetään uudelleenavioitumisen tasa-arvoisuus nykyhetkessä; sekä kuvaajat, joissa näytetään valtioikohtaisesti mahdollinen demokratian alkamisvuosi sekä mahdollinen uudelleenavioitumisen tasa-arvoistumisen muutosvuosi. Näiden kuvaajien avulla voin tarkastella, löytyykö näiden kahden aiheen väliltä yhteys.\n",
    "</font>"
   ]
  },
  {
   "cell_type": "markdown",
   "metadata": {},
   "source": [
    "## 2. Datan käsittely\n",
    "\n",
    "Tehdään halutut laskut, kuvaajat ja taulukot, joita halutaan tarkastella tämän kysymyksen tiimoilta. Mieti jokaisen kuvaajan / taulukon kohdalla, minkälaista uutta tietoa tämä antaa sinulle."
   ]
  },
  {
   "cell_type": "markdown",
   "metadata": {},
   "source": [
    "### 2.1 Alustus"
   ]
  },
  {
   "cell_type": "code",
   "execution_count": null,
   "metadata": {},
   "outputs": [],
   "source": [
    "# Analyysiin tarvittavat kirjastot. \n",
    "import pandas as pd\n",
    "import numpy as np\n",
    "import geopandas as gpd\n",
    "import matplotlib.pyplot as plt"
   ]
  },
  {
   "cell_type": "code",
   "execution_count": null,
   "metadata": {},
   "outputs": [],
   "source": [
    "# Luetaan geometrinen data valtioille ja tallennetaan tiedot muuttujaan 'world'\n",
    "world = gpd.read_file(gpd.datasets.get_path('naturalearth_lowres'))\n",
    "\n",
    "# Tulostetaan muutama ensimmäinen rivi datasta\n",
    "print(world.head())"
   ]
  },
  {
   "cell_type": "code",
   "execution_count": null,
   "metadata": {},
   "outputs": [],
   "source": [
    "# Piirretään maailmankartta, niin nähdään että kaikki toimii niin kuin pitääkin.\n",
    "world.plot()"
   ]
  },
  {
   "cell_type": "markdown",
   "metadata": {},
   "source": [
    "### 2.2 Demokratia-aineiston käsittely"
   ]
  },
  {
   "cell_type": "code",
   "execution_count": null,
   "metadata": {},
   "outputs": [],
   "source": [
    "# Käsitellään ensin demokratia-aineistoa. Muokataan datasettiä niin, että saadaan ymmärrys siitä,\n",
    "# kuinka laajasti demokratia on levinnyt maailmalla.\n",
    "\n",
    "# Ensin ladataan tiedosto ja tiputetaan ylimääräiset sarakkeet pois.\n",
    "demokratia = pd.read_csv('https://raw.githubusercontent.com/opendata-education/Maantiede/main/materiaali/data/age-of-electoral-democracy.csv')\n",
    "demokratia.drop('Code', inplace=True, axis=1)\n",
    "\n",
    "# Jätetään ainoastaan vuoden 2020 tiedot valtiojärjestyksestä muuttujaan demokratia2020\n",
    "demokratia2020 = demokratia.drop_duplicates(\n",
    "  subset = ['Entity'],\n",
    "  keep = 'last').reset_index(drop = True)\n",
    "\n",
    "# Muutetaan 'not an electoral democracy' -sarakkeet luvuksi 0.\n",
    "demokratia2020.loc[demokratia2020['Age of electoral democracy'] == 'not an electoral democracy', \n",
    "                   'Age of electoral democracy'] = 0\n",
    "# Muutetaan tarpeelliset valtiot samannimisiksi eri listoissa\n",
    "demokratia2020.loc[demokratia2020['Entity'] == 'United States', \n",
    "                   'Entity'] = 'United States of America'\n",
    "\n",
    "# Muutetaan Age of electoral democracy -sarakkeen luvut numeroiksi\n",
    "demokratia2020['Age of electoral democracy'] = pd.to_numeric(demokratia2020['Age of electoral democracy']\n",
    "                                                             , errors='coerce')\n",
    "\n",
    "# Yhdistetään demokratia2020 -tiedot world-tietoihin\n",
    "data = world.merge(demokratia2020, left_on='name', right_on='Entity')\n",
    "\n",
    "# congo = demokratia2020.loc[demokratia2020['Entity']=='Congo'] # tällä voidaan tarkistaa jos joku maa puuttuu\n"
   ]
  },
  {
   "cell_type": "code",
   "execution_count": null,
   "metadata": {},
   "outputs": [],
   "source": [
    "# Piirretään kuvaaja, jossa tumman sininen edustaa vanhempaa historiaa demokratiana ja tumman punainen edustaa\n",
    "# ei-demokratiaa.\n",
    "\n",
    "data.plot(column='Age of electoral democracy', figsize=(50,20), cmap='coolwarm_r', legend=True, k=10) # 10 väriä\n",
    "plt.title(\"Kuva 1: Valtioiden demokratian ikä vuosina vuonna 2020. \\n\", fontsize = 20);\n",
    "\n",
    "# Kongon, Ugandan ja Keski-Afrikan tasavallan tiedot ei tule, syy epäselvä."
   ]
  },
  {
   "cell_type": "markdown",
   "metadata": {},
   "source": [
    "### 2.3 Uusavioliitto-aineiston käsittely"
   ]
  },
  {
   "cell_type": "code",
   "execution_count": null,
   "metadata": {},
   "outputs": [],
   "source": [
    "# Tehdään sama tarkastelu naimisiinmenosta. Ensin tarkastellaan vuoden 2020 tietoja.\n",
    "\n",
    "# Luetaan tiedosto ja tiputetaan turhat sarakkeet pois.\n",
    "naimisiin = pd.read_csv('https://raw.githubusercontent.com/opendata-education/Maantiede/main/materiaali/data/rights-to-remarry.csv')\n",
    "to_drop_2 = ['Series Name', 'Series Code', 'Country Code']\n",
    "naimisiin.drop(to_drop_2, inplace=True, axis=1)\n",
    "\n",
    "# Muutetaan .. -tiedot NaN:ksi. Lisäksi muutetaan eriävät valtioiden nimet samoiksi.\n",
    "naimisiin = naimisiin.replace('..',np.nan)\n",
    "naimisiin.loc[naimisiin['Country Name'] == 'United States', \n",
    "                   'Country Name'] = 'United States of America'\n",
    "naimisiin.loc[naimisiin['Country Name'] == 'Russian Federation', \n",
    "                   'Country Name'] = 'Russia'\n",
    "naimisiin.loc[naimisiin['Country Name'] == 'Iran, Islamic Rep.', \n",
    "                   'Country Name'] = 'Iran'\n",
    "\n",
    "# Kootaan muuttuja, jossa on vain valtioiden nimet ja vuoden 2020 tiedot numeroina.\n",
    "naimisiin2020 = naimisiin[['Country Name', '2020 [YR2020]']]\n",
    "naimisiin2020['2020 [YR2020]'] = pd.to_numeric(naimisiin2020['2020 [YR2020]']\n",
    "                                                             , errors='coerce')\n",
    "russia = naimisiin.loc[naimisiin['Country Name'] == 'Russia']\n",
    "\n",
    "# Yhdistetään naimisiin2020 -tiedot world-tietoihin.\n",
    "data_2 = world.merge(naimisiin2020, left_on='name', right_on='Country Name')\n",
    "\n",
    "print(data_2)\n",
    "print(data_2.dtypes)"
   ]
  },
  {
   "cell_type": "code",
   "execution_count": null,
   "metadata": {},
   "outputs": [],
   "source": [
    "# Piirretään kuvaaja, jossa tummansininen tarkoittaa miesten ja naisten kesken tasa-arvoista oikeutta\n",
    "# uudelleenavioitua kyseisessä valtiossa. Punaisten valtioiden kohdalla naisilla ei ole samaa oikeutta\n",
    "# kuin miehillä.\n",
    "\n",
    "data_2.plot(column='2020 [YR2020]', figsize=(50,20), cmap='coolwarm_r', legend=True, k=2) # 2 väriä\n",
    "plt.title(\"Kuva 2: Valtioiden tasa-arvoinen oikeus uudelleen avioitua vuonna 2020. \\n\", fontsize = 20);"
   ]
  },
  {
   "cell_type": "markdown",
   "metadata": {},
   "source": [
    "### 2.4 Aineistojen muutosvuosien käsittely"
   ]
  },
  {
   "cell_type": "code",
   "execution_count": null,
   "metadata": {},
   "outputs": [],
   "source": [
    "# Tarkastellaan sitä hetkeä, kun valtiot ovat muuttuneet demokratioiksi.\n",
    "# Tämä voidaan tehdä yksinkertaisimmillaan esimerkiksi niin, että tallennetaan valtioiden viimeinen vuosi\n",
    "# ei-demokratiana. Yksinkertaisuuden vuoksi jätetään huomiotta valtiot, jotka ovat olleet demokratioita koko ajan.\n",
    "\n",
    "# Muistiin: asioita joita ei huomioida: valtiot jotka on muuttunu diktatuuri - demokratia - diktatuuri jne.\n",
    "# Huomioidaan vain siis viimeisin muutos! Valtiot kuten Albania on voinut olla demokraattisia välissä.\n",
    "\n",
    "\n",
    "# Tallennetaan muuttujaan ne valtiot, jotka ovat olleet ei-demokratioita jossain vaiheessa tarkasteluajanjaksolla,\n",
    "# sekä kyseisen valtion viimeisen vuosi ennen demokratiaa.\n",
    "demokratia_alku = demokratia[(demokratia['Age of electoral democracy']=='not an electoral democracy')]\n",
    "demokratia_alku = demokratia_alku.groupby(['Entity', 'Age of electoral democracy']).last().reset_index()\n",
    "demokratia_alku['Year'] = pd.to_numeric(demokratia_alku['Year']\n",
    "                                                             , errors='coerce')\n",
    "\n",
    "demokratia_alku.head(10)\n"
   ]
  },
  {
   "cell_type": "code",
   "execution_count": null,
   "metadata": {},
   "outputs": [],
   "source": [
    "# Tehdään muuttuja, joka sisältää sen vuoden, jolloin uudelleenavioliitto on muuttunut epätasa-arvoisesta \n",
    "# tasa-arvoisempaan, eli jolloin naisella ja miehellä on ollut samat oikeudet. Ne valtiot, joilla on ollut koko\n",
    "# tarkastelujakson ajan tasa-arvoiset oikeudet tässä asiassa, näkyvät kuvaajassa muutosvuotena 2020.\n",
    "\n",
    "# Muokataan datatiedostoa niin, että useamman sarakkeen sijasta sillä on vain kaksi saraketta.\n",
    "# Muutetaan .. - arvot NaN-arvoiksi\n",
    "# Säilytetään ainoastaan ne rivit, jolloin on ollut viimeinen vuosi ennen tasa-arvoisempaa uusavioliitto-oikeutta.\n",
    "naimisiin_muutos = naimisiin.melt(id_vars = ['Country Name'], value_name = 'arvo')\n",
    "naimisiin_muutos = naimisiin_muutos.replace('..',np.nan)\n",
    "naimisiin_muutos = naimisiin_muutos.groupby(['Country Name', 'arvo']).last().reset_index()\n",
    "naimisiin_muutos = naimisiin_muutos.groupby(['Country Name']).first().reset_index()\n",
    "\n",
    "# Poistetaan vuosiluvuosta vuositunnus.\n",
    "naimisiin_muutos['variable'] = naimisiin_muutos['variable'].str[:4]\n",
    "naimisiin_muutos['variable'] = pd.to_numeric(naimisiin_muutos['variable']\n",
    "                                                             , errors='coerce')\n",
    "\n",
    "# Yhdistetään demokratian alku-tiedot uusavioliiton muutos-tietoihin.\n",
    "data_3 = demokratia_alku.merge(naimisiin_muutos, left_on='Entity', right_on='Country Name', how='left')\n",
    "data_3 = data_3.dropna().reset_index()\n",
    "\n",
    "# data_3 sisältää 153 riviä dataa. Käsittelyn helpottamiseksi jaetaan se neljään osaan.\n",
    "osa_1 = data_3.iloc[:50,:];\n",
    "osa_2 = data_3.iloc[50:100,:];\n",
    "osa_3 = data_3.iloc[100:153,:];\n"
   ]
  },
  {
   "cell_type": "code",
   "execution_count": null,
   "metadata": {},
   "outputs": [],
   "source": [
    "plt.subplots(figsize = (30,10))\n",
    "\n",
    "# Piirretään kuvaajat kaikista kolmesta osasta.\n",
    "\n",
    "plt.subplot(311)\n",
    "plt.plot(osa_1['Entity'], osa_1['Year'], alpha = 1, color='g', label='ei-demokratian loppuvuosi')\n",
    "plt.plot(osa_1['Entity'], osa_1['variable'], alpha = 1, color='r', label='epätasa-arvoisen uudisavioliiton loppuvuosi')\n",
    "plt.xticks(rotation=30, ha='right');\n",
    "plt.legend(loc = \"lower left\", fontsize = 16)\n",
    "plt.xlabel('Valtion nimi')\n",
    "plt.ylabel('Vuosi')\n",
    "\n",
    "plt.title(\"Kuva 3: Valtiokohtaiset muutokset valtiojärjestyksen ja tasa-arvoisen uudisavioliitto-oikeuden osalta. \\n\", fontsize = 20)\n",
    "\n",
    "plt.subplot(312)\n",
    "plt.plot(osa_2['Entity'], osa_2['Year'], alpha = 1, color='g', label='ei-demokratian loppuvuosi')\n",
    "plt.plot(osa_2['Entity'], osa_2['variable'], alpha = 1, color='r', label='epätasa-arvoisen uudisavioliiton loppuvuosi')\n",
    "plt.xticks(rotation=30, ha='right');\n",
    "plt.legend(loc = \"lower left\", fontsize = 16)\n",
    "plt.xlabel('Valtion nimi')\n",
    "plt.ylabel('Vuosi')\n",
    "\n",
    "plt.subplot(313)\n",
    "plt.plot(osa_3['Entity'], osa_3['Year'], alpha = 1, color='g', label='ei-demokratian loppuvuosi')\n",
    "plt.plot(osa_3['Entity'], osa_3['variable'], alpha = 1, color='r', label='epätasa-arvoisen uudisavioliiton loppuvuosi')\n",
    "plt.xticks(rotation=30, ha='right');\n",
    "plt.legend(loc = \"lower left\", fontsize = 16)\n",
    "plt.xlabel('Valtion nimi')\n",
    "plt.ylabel('Vuosi')\n",
    "\n",
    "plt.tight_layout(h_pad=2)\n"
   ]
  },
  {
   "cell_type": "code",
   "execution_count": null,
   "metadata": {},
   "outputs": [],
   "source": [
    "# Kokeillaan vaihtoehtoista kuvajaa pylväsdiagrammina, jos se olisikin selkämpi kuin ensimmäinen yritys.\n",
    "\n",
    "osa_1.plot(x='Entity', y=['Year', 'variable'], figsize = (30,10), kind=\"bar\")\n",
    "plt.ylim(1800, 2025)\n",
    "plt.xticks(rotation=30, ha='right');\n",
    "\n",
    "plt.title(\"Kuva 4: Valtiokohtaiset muutokset valtiojärjestyksen ja tasa-arvoisen uudisavioliitto-oikeuden osalta. \\n\", fontsize = 20)\n",
    "\n",
    "osa_2.plot(x='Entity', y=['Year', 'variable'], figsize = (30,10), kind=\"bar\")\n",
    "plt.ylim(1800, 2025)\n",
    "plt.xticks(rotation=30, ha='right');\n",
    "\n",
    "osa_3.plot(x='Entity', y=['Year', 'variable'], figsize = (30,10), kind=\"bar\")\n",
    "plt.ylim(1800, 2025)\n",
    "plt.xticks(rotation=30, ha='right');\n"
   ]
  },
  {
   "cell_type": "markdown",
   "metadata": {},
   "source": [
    "## 3. Analyysi\n",
    "\n",
    "Analysoi tekemiäsi kuvaajia ja taulukoita, minkälaiseen tulkintaan päädyt? Oliko lopputulos hypoteesin mukainen vai ei? Mikä voisi perustella saadun lopputuloksen? Voitko kenties antaa jotain tarkentavia laskuja kuvaajiesi tueksi?\n",
    "\n",
    "Ohjeita:\n",
    "- Viittaa kuvaajiin ja taulukoihin oikealla tavalla, kun puhut niistä\n",
    "- Selitä auki esimerkiksi yksiköt ja muut ymmärtämisen kannalta oleelliset asiat"
   ]
  },
  {
   "cell_type": "markdown",
   "metadata": {},
   "source": [
    "<font color='darkblue'>\n",
    "Tässä raportissa analysoitiin yhteyttä demokratian ja tasa-arvoisen uudisavio-oikeuden välillä. Kuvasta 1 huomataan, että vuonna 2020 ei-demokraattiset valtiot keskittyvät Aasian ja Afrikkaan, kun taas demokraattisia valtioita on enemmistö Euroopassa, Etelä- ja Pohjois-Amerikassa sekä Australiassa. Kaikista vanhimpana demokraattisena alueena esiintyy Australia, jota seuraavat Pohjois-Amerikka sekä Euroopan pohjoisosa.\n",
    "    \n",
    "Vastaavasti Kuvasta 2 huomataan, että naisten samanarvoinen oikeus uudelleenavioitua miehiin verrattuna ei täyty Pohjois-Afrikassa, Lähi-Idässä, Kaakkois-Aasiassa sekä yksittäisissä Etelä-Amerikan valtioissa ja Italiassa. Näitä kahta kuvaajaa vertailemalla voidaan todeta, että jonkinasteista päällekkäisyyttä on havaittavissa – suurin osa niistä valtioista, joissa tasa-arvoinen uudelleenaviointioikeus ei täyty, ei ole myöskään demokraattisia valtioita.\n",
    "    \n",
    "Jotta voidaan tarkastella onko näillä kahdella asialla yhteys toisiinsa, tarkastellaan Kuvaajaa 3. Jotta voitaisiin todeta, että tämmöinen yhteys olisi olemassa, niin niiden valtioiden kohdalla, joiden valtiojärjestys on muuttunut ei-demokratiasta demokratiaan, pitäisi löytyä muutamaa vuotta myöhemmin tapahtunut muutos uudelleenavio-oikeuden kohdalla. Kuvaajasta 3 nähdään, että yksittäisten valtioiden kohdalla tämä pitää paikkaansa – esimerkiksi Itävallassa, Belgiassa, Brasiliassa, Kolumbiassa, Kreikassa, Espanjassa ja Meksikossa.\n",
    "    \n",
    "Tässä analyysissa jätetään huomioimatta ne valtiot joista ei löytynyt dataa jommasta kummasta aiheesta. Lisäksi jätetään huomioimatta ne valtiot, jotka ovat vaihdelleet demokratian ja ei-demokratian väliltä – ainoastaan viimeisin muutos demokratiaksi on otettu tarkasteluun. Myös osan Afrikan valtioiden tietoja ei onnistuttu ottamaan mukaan kuvaajiin 1 ja 2.\n",
    "<font/>"
   ]
  },
  {
   "cell_type": "markdown",
   "metadata": {},
   "source": [
    "## 4. Luotettavuuden arviointi\n",
    "\n",
    "Raportissa on hyvä pohtia omien tulosten luotettavuutta. Voit miettiä tässä kohdassa seuraavia kysymyksiä:\n",
    "- Mistä saamasi data on peräisin? Kuinka luotettava lähde on, esimerkiksi millä tavalla tiedot on kerätty ja onko datan takana jokin maksava asiakas?\n",
    "- Poikkeaako data yleisestä ymmärryksestä? Voisiko joku tietty taho hyötyä tästä tiedosta?\n",
    "- Miltä tekemäsi kuvaajat ja taulukot vaikuttavat? Mitä lukija voi ymmärtää pelkästään niitä tarkastelemalla? Onko lukuarvojen suuruuden järkeviä (esimerkiksi litran maitopurkissa ei voi olla sataa litraa nestettä)?\n",
    "- Löytyykö netistä muita tutkimuksia tai artikkeleita, jotka käsittelevät tai sivuavat tätä aihetta? Onko siellä saadut tulokset kanssasi samaa vai eri mieltä? \n",
    "- Omien laskujen oikeellisuus – pohdi, minkälaisia laskuvirheitä tai tulkintavirheitä datan käsittelysi tai analyysisi voi sisältää.\n",
    "- Tuo selkeästi ilmi ne (erikois)tilanteet, jotka jouduit jättämään pois käsittelystä. Mitä kaikkea tässä ei otettu huomioon?\n",
    "\n",
    "<font color='darkblue'>\n",
    "Tulosten luotettavuuden parantamiseksi tarvittaisiin lisää kuvaajia sekä laskuja, jotka havainnollistaisivat tarkemmin eri valtioiden valtiojärjestyksen kytköksen uudisavio-oikeuksiin. Tämä voitaisiin tehdä niin, että tarkasteltaisiin valtioiden näitä tietoja myös muiden vuosien kohdalta, kuin vain vuodelta 2020. Lisäksi tarkempia laskuja voisi laskea esimerkiksi kuinka monta prosenttia valtioista, joiden valtiojärjestys muuttuu ei-demokratiasta demokratiaksi, muuttavat uudisavio-oikeuden tasa-arvoisemmaksi.\n",
    "    \n",
    "Tämän raportin data on peräisin avointa dataa tarjoavilta nettisivuilta [2][3]. Kuvaajat vaikuttavat realistisilta, vaikkakin niiden toteuttamiseksi on jouduttu tekemään hyvinkin karkeaa karsintaa, mikä voi osaltaan vaikuttaa lopputulokseen lisäämällä epätarkkuutta. Tiedon käsittelyn vuoksi myös kaikki kiinnostavat valtiot, jotka ovat vaihtaneet valtiojärjestystä useamman kerran, on jouduttu jättämään pois. Näiden erillinen tarkastelu voisi tuoda lisää tietoa aiheesta. Kuvaajaa 3 varten tarvittavt tiedot olisi voinut myös käsitellä toisin päin, niin että kuvaajasta näkyisi valtion ensimmäinen vuosi demokratiana sekä ensimmäinen vuosi tasa-arvoisena uusavioliitto-oikeutena. Tämä todennäköisesti lisäisi kuvaajan ymmärrettävyyttä.\n",
    "<font/>"
   ]
  },
  {
   "cell_type": "markdown",
   "metadata": {},
   "source": [
    "## 5. Lopputulokset\n",
    "\n",
    "Kasaa vielä selkeästi yhteen saamasi lopputulokset ilman analysointia.\n"
   ]
  },
  {
   "cell_type": "markdown",
   "metadata": {},
   "source": [
    "<font color='darkblue'>\n",
    "Hypoteesi toteutui tiettyjen Eurooppalaisten ja Etelä-Amerikkalaisten valtioiden kohdalla, kuten Itävallassa ja Brasiliassa. Kuitenkin suuremmassa osassa tarkasteluja valtioita hypoteesin mukaista oletusta ei voitu havaita.\n",
    "<font/>"
   ]
  },
  {
   "cell_type": "markdown",
   "metadata": {},
   "source": [
    "## 6. Lähteet\n",
    "\n",
    "Muista merkitä lähteet\n",
    "- käyttämällesi datalle (esimerkiksi nettisivu, keneltä data on peräisin)\n",
    "- mikäli olet käyttänyt hypoteesissa / analyysissa / luotettavuuden arvioinnissa ulkopuolisia lähteitä\n",
    "\n",
    "<font color='blue'>\n",
    "[1] https://www.oph.fi/fi/oppimateriaali/miina-ja-ville-opettajan-oppaita/miina-ville-ja-kulttuurin-arvoitus-16\n",
    "<br>\n",
    "[2] https://ourworldindata.org/democracies-age\n",
    "<br>\n",
    "[3] https://databank.worldbank.org/source/gender-statistics#\n",
    "</font>"
   ]
  }
 ],
 "metadata": {
  "kernelspec": {
   "display_name": "Python 3 (ipykernel)",
   "language": "python",
   "name": "python3"
  },
  "language_info": {
   "codemirror_mode": {
    "name": "ipython",
    "version": 3
   },
   "file_extension": ".py",
   "mimetype": "text/x-python",
   "name": "python",
   "nbconvert_exporter": "python",
   "pygments_lexer": "ipython3",
   "version": "3.8.2"
  }
 },
 "nbformat": 4,
 "nbformat_minor": 4
}
