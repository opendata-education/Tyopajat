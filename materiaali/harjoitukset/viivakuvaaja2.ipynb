{
 "cells": [
  {
   "cell_type": "markdown",
   "metadata": {},
   "source": [
    "# Viivakuvaaja 2 - data yhdestä sarakkeesta"
   ]
  },
  {
   "cell_type": "markdown",
   "metadata": {},
   "source": [
    "#### Tämä pohja on tehty sinulle muokattavaksi.\n",
    "\n",
    "Toisinaan data on eritelty omiin sarakkeisiin, jolloin haluatkin tehdä kuvaajan suoraan sarakkeiden tietojen perusteella. Tässä on esitelty yksinkertainen tapa siihen, jos haluat tehdä yhden viivan kuvaajan, tai kenties useammankin viivan kuvaajan, jostain haluamastasi datatiedostosta. Tietysti voit käyttää myös tätä hauskaa datasettiä asteroideista, joka on poimittu [täältä](https://ourworldindata.org/space-exploration-satellites). Tämän datasetin takaa löytyy tieto siitä, kuinka monta asteroidia on havaittu lähellä Maata 1900-luvulta lähtien ja mihin kokoluokkaan ne kuuluvat.\n",
    "\n",
    "Voit käyttää tätä tiedostoa mallipohjana, jos haluat tehdä viivakuvaajan jonkin datatiedoston sarakkeesta. Luet vain oman datatiedoston, muokkailet vähän muuttujien nimiä ja lisäät sopivat tekstit ympärille. Jos tulee ongelmia joihin ei Googlesta tunnu löytyvän vastausta, niin meille voi laittaa sähköpostia matalalla kynnyksellä."
   ]
  },
  {
   "cell_type": "code",
   "execution_count": null,
   "metadata": {},
   "outputs": [],
   "source": [
    "# Ladataan halutut tietokirjastot käyttöön.\n",
    "\n",
    "import pandas as pd\n",
    "import matplotlib.pyplot as plt"
   ]
  },
  {
   "cell_type": "code",
   "execution_count": null,
   "metadata": {},
   "outputs": [],
   "source": [
    "# Ladataan data ja kurkataan sen sisälle. Siistiltä näyttää!\n",
    "\n",
    "asteroidit = pd.read_csv('https://raw.githubusercontent.com/opendata-education/Tyopajat/main/materiaali/data/near-earth-asteroids-discovered-over-time.csv')\n",
    "asteroidit.head()"
   ]
  },
  {
   "cell_type": "code",
   "execution_count": null,
   "metadata": {},
   "outputs": [],
   "source": [
    "# Valmistellaan x-akselin tiedot, tässä tapauksessa poimitaan vuosiluvut 'Year'-sarakkeesta muuttujaan 'vuodet'.\n",
    "# Hakasulkeisiin tulee suoraan datatiedoston sen sarakkeen nimi, jonka tiedot haluat tallentaa käyttöön.\n",
    "\n",
    "vuodet = asteroidit['Year']\n",
    "vuodet"
   ]
  },
  {
   "cell_type": "code",
   "execution_count": null,
   "metadata": {},
   "outputs": [],
   "source": [
    "# Valmistellaan y-akselin tiedot. Valitaan tarkasteluun pienten asteroidien lukumäärä.\n",
    "\n",
    "pienet = asteroidit['smaller_than_140m']"
   ]
  },
  {
   "cell_type": "code",
   "execution_count": null,
   "metadata": {},
   "outputs": [],
   "source": [
    "# Muodostetaan kuvaaja plt.plot(x,y)-komennon avulla.\n",
    "\n",
    "plt.plot(vuodet, pienet)\n",
    "\n",
    "plt.title('Otsikko')\n",
    "plt.xlabel('x-akselin nimi')\n",
    "plt.ylabel('y-akselin nimi')\n",
    "\n",
    "plt.show()"
   ]
  },
  {
   "cell_type": "markdown",
   "metadata": {},
   "source": [
    "### Useamman viivan tapaus"
   ]
  },
  {
   "cell_type": "code",
   "execution_count": null,
   "metadata": {},
   "outputs": [],
   "source": [
    "# Valmistellaan loputkin y-akselin ainekset kuvaajaa varten.\n",
    "\n",
    "keskikokoiset = asteroidit['between_140m_and_1km']\n",
    "isot = asteroidit['larger_than_1km']"
   ]
  },
  {
   "cell_type": "code",
   "execution_count": null,
   "metadata": {},
   "outputs": [],
   "source": [
    "# Piirretään kaikki kolme viivaa, lisätään halutut värit ja viivojen nimet.\n",
    "\n",
    "plt.plot(vuodet, pienet, color='blue', label='Pienet')\n",
    "plt.plot(vuodet, keskikokoiset, color='red', label='Keskikokoiset')\n",
    "plt.plot(vuodet, isot, color = 'green', label='Isot')\n",
    "\n",
    "plt.title('Otsikko')\n",
    "plt.xlabel('x-akselin nimi')\n",
    "plt.ylabel('y-akselin nimi')\n",
    "\n",
    "plt.legend() # Tulostaa viivojen nimet\n",
    "plt.show()"
   ]
  },
  {
   "cell_type": "markdown",
   "metadata": {},
   "source": [
    "### Kumulatiivisen kuvaajan tekeminen tästä samasta datasta\n",
    "\n",
    "Toisinaan asioita on helpompi havainnollistaa kumulatiivisilla kuvaajilla. Se voidaan toteuttaa suoraan Matplotlib-kirjaston stackplot-komennolla."
   ]
  },
  {
   "cell_type": "code",
   "execution_count": null,
   "metadata": {},
   "outputs": [],
   "source": [
    "fig, ax = plt.subplots() # Tarvitset tämän rivin, jos haluat tehdä alarivillä olevan x-akselin rajauksen.\n",
    "\n",
    "plt.stackplot(vuodet, isot, keskikokoiset, pienet, labels=['Yli 1 km','Alle 1 km, yli 140 m','Alle 140 m'])\n",
    "plt.legend(loc='upper left') # Pakotetaan kuvaajien nimet näkymään vasemmassa ylänurkassa.\n",
    "\n",
    "ax.set_xlim(1990, 2021) # Rajataan x-akseli näyttämään vuodet 1990 - 2021"
   ]
  }
 ],
 "metadata": {
  "kernelspec": {
   "display_name": "Python 3",
   "language": "python",
   "name": "python3"
  },
  "language_info": {
   "codemirror_mode": {
    "name": "ipython",
    "version": 3
   },
   "file_extension": ".py",
   "mimetype": "text/x-python",
   "name": "python",
   "nbconvert_exporter": "python",
   "pygments_lexer": "ipython3",
   "version": "3.8.5"
  }
 },
 "nbformat": 4,
 "nbformat_minor": 4
}
